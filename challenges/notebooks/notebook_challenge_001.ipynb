{
 "cells": [
  {
   "cell_type": "markdown",
   "id": "4ffaa676",
   "metadata": {},
   "source": [
    "Execute a célula abaixo apenas uma vez."
   ]
  },
  {
   "cell_type": "code",
   "execution_count": null,
   "id": "b2be889b",
   "metadata": {},
   "outputs": [],
   "source": [
    "%%bash\n",
    "\n",
    "rm -rf /tmp/challenges; mkdir -p /tmp/challenges; cd /tmp/challenges\n",
    "git clone https://github.com/romeritomorais/30-day-challenges-with-sql.git\n",
    "sh /tmp/challenges/30-day-challenges-with-sql/challenges/utils/install-miniconda.sh"
   ]
  },
  {
   "cell_type": "code",
   "execution_count": null,
   "id": "22ecf907",
   "metadata": {},
   "outputs": [],
   "source": [
    "%load_ext sql\n",
    "%sql sqlite:////tmp/challenges/30-day-challenges-with-sql/utils/db/database.db"
   ]
  },
  {
   "cell_type": "markdown",
   "id": "7b62dd5e",
   "metadata": {},
   "source": [
    "Nesse primeiro desafio super fácil, eu preciso apenas dos registros do campo Email da tabela Customers onde o domínio seja da `apple`,\n",
    "tu vai criar uma query que traga esse resultado e uma breve explicação da implementação do código e descrever a query abaixo:\n",
    "\n",
    "\n",
    "Resultado esperado:  \n",
    "\n",
    "Email |\n",
    "-|\n",
    "astrid.gruber@apple.at| \n",
    "daan_peeters@apple.be| \n",
    "tgoyer@apple.com| \n",
    "isabelle_mercier@apple.fr| \n",
    "terhi.hamalainen@apple.fi| \n",
    "ladislav_kovacs@apple.hu| \n",
    "hughoreilly@apple.ie| \n",
    "\n",
    "\n",
    "Após realizar o desafio tu vai enviar o arquivo **desafio-001/main.ipynb** dessa forma\n",
    "**desafio-001-seunome.ipynb**  para a pasta do drive:  \n",
    "10-desafios/SQL/resultado  \n",
    "https://drive.google.com/drive/folders/1s_-MeF-9wuRh54-e8jZ_hll7dl0B56MA?usp=sharing\n",
    "\n",
    "\n",
    "# Por favor tente resolver o desafio sozinho, não pegue atalhos, e se pegar lembre-se voce vai estar enganando a si mesmo."
   ]
  },
  {
   "cell_type": "code",
   "execution_count": null,
   "id": "4aba4071",
   "metadata": {},
   "outputs": [],
   "source": [
    "%%sql\n"
   ]
  }
 ],
 "metadata": {
  "kernelspec": {
   "display_name": "Python 3",
   "language": "python",
   "name": "python3"
  },
  "language_info": {
   "codemirror_mode": {
    "name": "ipython",
    "version": 3
   },
   "file_extension": ".py",
   "mimetype": "text/x-python",
   "name": "python",
   "nbconvert_exporter": "python",
   "pygments_lexer": "ipython3",
   "version": "3.10.4"
  }
 },
 "nbformat": 4,
 "nbformat_minor": 5
}
