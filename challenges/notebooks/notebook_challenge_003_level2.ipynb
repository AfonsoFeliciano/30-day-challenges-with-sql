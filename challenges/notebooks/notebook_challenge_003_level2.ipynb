{
 "cells": [
  {
   "cell_type": "markdown",
   "id": "160bbfb2",
   "metadata": {},
   "source": [
    "\n",
    "# Por favor tente resolver o desafio sozinho, não pegue atalhos, tu consegue, é só colocar a cabeça para funcionar."
   ]
  },
  {
   "cell_type": "markdown",
   "id": "e0e85531",
   "metadata": {},
   "source": [
    "Execute a célula abaixo apenas uma vez."
   ]
  },
  {
   "cell_type": "code",
   "execution_count": null,
   "id": "7d725090",
   "metadata": {},
   "outputs": [],
   "source": [
    "%%bash\n",
    "\n",
    "rm -rf /tmp/github; mkdir -p /tmp/github; cd /tmp/github\n",
    "git clone https://github.com/romeritomorais/30-day-challenges-with-sql.git\n",
    "sh /tmp/github/30-day-challenges-with-sql/challenges/utils/install-miniconda.sh > /dev/null 2>&1\n",
    "sh /tmp/github/30-day-challenges-with-sql/challenges/utils/update-miniconda.sh > /dev/null 2>&1"
   ]
  },
  {
   "cell_type": "markdown",
   "id": "467f1c4a",
   "metadata": {},
   "source": [
    "Nesse desafio eu preciso da contagem distinta dos dados da coluna `Customer.City` onde a contagem é >= a 2 linhas e por ordem alfabetica. \n",
    "\n",
    "\n",
    "resultado esperado:  \n",
    "\n",
    "| City | numero_de_linhas \n",
    "|--------------:|--------------\n",
    "| Berlin        |          2                  \n",
    "| London        |          2                  \n",
    "| Mountain View |          2                      \n",
    "| Paris         |          2                \n",
    "| Prague        |          2                \n",
    "| São Paulo     |          2   \n",
    "\n",
    "Na celula onde tem `%%sql` tu vai escrever a query abaixo dela, exemplo:  \n",
    "```python\n",
    "%%sql\n",
    "select * from Customer\n",
    "```"
   ]
  },
  {
   "cell_type": "code",
   "execution_count": null,
   "id": "981a5488",
   "metadata": {},
   "outputs": [],
   "source": [
    "%load_ext sql\n",
    "%sql sqlite://///tmp/github/30-day-challenges-with-sql/challenges/utils/db/database.db"
   ]
  },
  {
   "cell_type": "code",
   "execution_count": null,
   "id": "275157e9",
   "metadata": {},
   "outputs": [],
   "source": [
    "%%sql\n"
   ]
  }
 ],
 "metadata": {
  "kernelspec": {
   "display_name": "Python 3",
   "language": "python",
   "name": "python3"
  },
  "language_info": {
   "codemirror_mode": {
    "name": "ipython",
    "version": 3
   },
   "file_extension": ".py",
   "mimetype": "text/x-python",
   "name": "python",
   "nbconvert_exporter": "python",
   "pygments_lexer": "ipython3",
   "version": "3.10.4"
  }
 },
 "nbformat": 4,
 "nbformat_minor": 5
}
