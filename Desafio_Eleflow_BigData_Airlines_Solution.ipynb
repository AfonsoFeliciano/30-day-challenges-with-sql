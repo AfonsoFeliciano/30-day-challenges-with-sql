{
  "nbformat": 4,
  "nbformat_minor": 0,
  "metadata": {
    "colab": {
      "name": "Desafio_Eleflow_BigData_Airlines_Solution.ipynb",
      "provenance": [],
      "toc_visible": true,
      "authorship_tag": "ABX9TyO6FL6ZiQAqrnil474JJhsM",
      "include_colab_link": true
    },
    "kernelspec": {
      "name": "python3",
      "display_name": "Python 3"
    },
    "language_info": {
      "name": "python"
    }
  },
  "cells": [
    {
      "cell_type": "markdown",
      "metadata": {
        "id": "view-in-github",
        "colab_type": "text"
      },
      "source": [
        "<a href=\"https://colab.research.google.com/github/AfonsoFeliciano/30-day-challenges-with-sql/blob/main/Desafio_Eleflow_BigData_Airlines_Solution.ipynb\" target=\"_parent\"><img src=\"https://colab.research.google.com/assets/colab-badge.svg\" alt=\"Open In Colab\"/></a>"
      ]
    },
    {
      "cell_type": "markdown",
      "source": [
        "<img src=\"https://cdn.eleflow.com.br/ef-web/wp-content/uploads/2016/08/21181642/Eleflow.png\" alt=\"Eleflow BigData\" width=\"200\"/>\n",
        "\n",
        "# Data engineering capstone\n",
        "\n",
        "## BigData Airlines\n",
        "\n",
        "A Eleflow irá atender um novo cliente, a _BigData Airlines_, e você será o engenheiro de dados responsável por fazer a ingestão de dados e preparar algumas tabelas para os cientistas de dados e analistas de dados. \n",
        "\n",
        "### Capstone\n",
        "\n",
        "- Carregar os dados de VRA\n",
        "  - Normalizar o cabeçalho para snake case\n",
        "  - Salvar estes dados\n",
        "- Carregar dos dados de AIR_CIA\n",
        "  - Normalizar o cabeçalho para snake case\n",
        "  - Separar a coluna 'ICAO IATA' em duas colunas, seu conteúdo está separado por espaço e pode não conter o código IATA, caso não contenha o código IATA, deixe o valor nulo.\n",
        "  - Salvar estes dados\n",
        "- Criar nova tabela aerodromos\n",
        "  - Através da API [https://rapidapi.com/Active-api/api/airport-info/]() trazer os aeródramos através do código ICAO presente nos dados de VRA.\n",
        "  - Salvar estes dados\n",
        "- Criar as seguintes views (Priorize o uso de SQL para esta parte):\n",
        "  - Para cada companhia aérea trazer a rota mais utilizada com as seguintes informações:\n",
        "    - Razão social da companhia aérea\n",
        "    - Nome Aeroporto de Origem\n",
        "    - ICAO do aeroporto de origem\n",
        "    - Estado/UF do aeroporto de origem\n",
        "    - Nome do Aeroporto de Destino\n",
        "    - ICAO do Aeroporto de destino\n",
        "    - Estado/UF do aeroporto de destino\n",
        "  - Para cada aeroporto trazer a companhia aérea com maior atuação no ano com as seguintes informações:\n",
        "    - Nome do Aeroporto\n",
        "    - ICAO do Aeroporto\n",
        "    - Razão social da Companhia Aérea\n",
        "    - Quantidade de Rotas à partir daquele aeroporto\n",
        "    - Quantidade de Rotas com destino àquele aeroporto\n",
        "    - Quantidade total de pousos e decolagens naquele aeroporto\n",
        "\n",
        "#### Extras:\n",
        "  - Descrever qual estratégia você usaria para ingerir estes dados de forma incremental caso precise capturar esses dados a cada mes?\n",
        "  - Justifique em cada etapa sobre a escalabilidade da tecnologia utilizada.\n",
        "  - Justifique as camadas utilizadas durante o processo de ingestão até a disponibilização dos dados.\n",
        "\n",
        "#### Observações:\n",
        "   - Você pode utilizar a tecnologia de sua preferência ou seguir a recomendação:\n",
        "     - Notebooks Jupyter\n",
        "     - Google Colab\n",
        "     - Databricks Community\n",
        "   - Pode incluir comentários sobre a abordagem de extração/transformação que você está fazendo\n",
        "   - Pode disponibilizar o projeto via Git, URL ou .zip\n",
        "\n",
        "<br>\n",
        "\n",
        "**Candidato:** Afonso de Paula Feliciano\n",
        "\n",
        "**Tech Recruiter:** Nathália Pires"
      ],
      "metadata": {
        "id": "ky64YHLC87LI"
      }
    },
    {
      "cell_type": "markdown",
      "source": [
        "## Configurando variável com a data e hora inicial\n",
        "\n",
        "Essa configuração foi utilizada para quantificar o tempo de execução do código desde a configuração do ambiente spark, Extração, Transformação e Escrita dos Dados."
      ],
      "metadata": {
        "id": "sExILbAw9CCP"
      }
    },
    {
      "cell_type": "code",
      "execution_count": 1,
      "metadata": {
        "id": "Wq6J_FIh84tX"
      },
      "outputs": [],
      "source": [
        "from datetime import datetime\n",
        "started = datetime.now()"
      ]
    },
    {
      "cell_type": "code",
      "source": [
        "## Configurando ambiente Spark"
      ],
      "metadata": {
        "id": "3tNBeMYH9RQ-"
      },
      "execution_count": 2,
      "outputs": []
    },
    {
      "cell_type": "code",
      "source": [
        "%%bash\n",
        "\n",
        "# Instalação java\n",
        "apt-get update && apt-get install openjdk-8-jdk-headless -qq > /dev/null\n",
        "\n",
        "# Instalação PySpark\n",
        "pip install -q pyspark"
      ],
      "metadata": {
        "colab": {
          "base_uri": "https://localhost:8080/"
        },
        "id": "xJpunznQ9S-l",
        "outputId": "d9455006-e66b-483b-8d49-66fac6a9625e"
      },
      "execution_count": 3,
      "outputs": [
        {
          "output_type": "stream",
          "name": "stdout",
          "text": [
            "Get:1 http://security.ubuntu.com/ubuntu bionic-security InRelease [88.7 kB]\n",
            "Hit:2 https://developer.download.nvidia.com/compute/cuda/repos/ubuntu1804/x86_64  InRelease\n",
            "Hit:3 http://archive.ubuntu.com/ubuntu bionic InRelease\n",
            "Get:4 http://archive.ubuntu.com/ubuntu bionic-updates InRelease [88.7 kB]\n",
            "Get:5 https://cloud.r-project.org/bin/linux/ubuntu bionic-cran40/ InRelease [3,626 B]\n",
            "Get:6 http://ppa.launchpad.net/c2d4u.team/c2d4u4.0+/ubuntu bionic InRelease [15.9 kB]\n",
            "Ign:7 https://developer.download.nvidia.com/compute/machine-learning/repos/ubuntu1804/x86_64  InRelease\n",
            "Hit:8 https://developer.download.nvidia.com/compute/machine-learning/repos/ubuntu1804/x86_64  Release\n",
            "Get:9 http://archive.ubuntu.com/ubuntu bionic-backports InRelease [74.6 kB]\n",
            "Hit:10 http://ppa.launchpad.net/cran/libgit2/ubuntu bionic InRelease\n",
            "Hit:11 http://ppa.launchpad.net/deadsnakes/ppa/ubuntu bionic InRelease\n",
            "Hit:12 http://ppa.launchpad.net/graphics-drivers/ppa/ubuntu bionic InRelease\n",
            "Get:13 http://security.ubuntu.com/ubuntu bionic-security/universe amd64 Packages [1,527 kB]\n",
            "Get:14 http://security.ubuntu.com/ubuntu bionic-security/main amd64 Packages [2,905 kB]\n",
            "Get:15 https://cloud.r-project.org/bin/linux/ubuntu bionic-cran40/ Packages [87.8 kB]\n",
            "Get:17 http://archive.ubuntu.com/ubuntu bionic-updates/universe amd64 Packages [2,306 kB]\n",
            "Get:18 http://archive.ubuntu.com/ubuntu bionic-updates/main amd64 Packages [3,336 kB]\n",
            "Get:19 http://ppa.launchpad.net/c2d4u.team/c2d4u4.0+/ubuntu bionic/main amd64 Packages [1,063 kB]\n",
            "Fetched 11.5 MB in 5s (2,324 kB/s)\n",
            "Reading package lists...\n"
          ]
        }
      ]
    },
    {
      "cell_type": "code",
      "source": [
        "import os\n",
        "os.environ['JAVA_HOME'] = '/usr/lib/jvm/java-8-openjdk-amd64'\n",
        "\n",
        "from pyspark.sql import SparkSession\n",
        "\n",
        "spark = SparkSession.builder.master(\"local[*]\").getOrCreate()"
      ],
      "metadata": {
        "id": "co4My9gT9Uru"
      },
      "execution_count": 4,
      "outputs": []
    },
    {
      "cell_type": "markdown",
      "source": [
        "## Realizando o mount do google drive no google colab para realização da leitura e escrita dos arquivos quando necessário."
      ],
      "metadata": {
        "id": "I6z9g291-F7K"
      }
    },
    {
      "cell_type": "code",
      "source": [
        "# Carregando biblioteca do google drive\n",
        "from google.colab import drive\n",
        "\n",
        "# Realizando mount e autenticando via e-mail\n",
        "drive.mount('/content/drive')"
      ],
      "metadata": {
        "colab": {
          "base_uri": "https://localhost:8080/"
        },
        "id": "YE7omVCK9Wnv",
        "outputId": "37ca678b-9761-4cc4-aa37-7c5401062bf5"
      },
      "execution_count": 5,
      "outputs": [
        {
          "output_type": "stream",
          "name": "stdout",
          "text": [
            "Mounted at /content/drive\n"
          ]
        }
      ]
    },
    {
      "cell_type": "markdown",
      "source": [
        "## Definindo as bibliotecas de apoio durante a execução do projeto"
      ],
      "metadata": {
        "id": "S03u3xQNAVdL"
      }
    },
    {
      "cell_type": "code",
      "source": [
        "import shutil\n",
        "from pyspark.sql.types import StructType, StructField, StringType, DateType, IntegerType, ArrayType, LongType, DoubleType\n",
        "from pyspark.sql.functions import split, col, element_at, to_date, to_timestamp, when, lit, length, trim\n",
        "import requests\n",
        "import time\n",
        "sc = spark.sparkContext"
      ],
      "metadata": {
        "id": "I1sC3P9WAUxU"
      },
      "execution_count": 230,
      "outputs": []
    },
    {
      "cell_type": "markdown",
      "source": [
        "## Definindo as variáveis gerais para utilização no projeto"
      ],
      "metadata": {
        "id": "7nUVeN3G-z_2"
      }
    },
    {
      "cell_type": "code",
      "source": [
        "#Variáveis gerais\n",
        "link_rapidi_api = \"https://rapidapi.com/Active-api/api/airport-info/\"\n",
        "path_mounted_google_drive = \"/content/drive/MyDrive/Eleflow_Data_Engineer/\"\n",
        "path_transient = \"/content/transient/\"\n",
        "path_raw = \"/content/raw/\"\n",
        "path_trusted = \"/content/trusted/\"\n",
        "path_refined = \"/content/refined/\""
      ],
      "metadata": {
        "id": "d2OTGkXd-XoX"
      },
      "execution_count": 7,
      "outputs": []
    },
    {
      "cell_type": "markdown",
      "source": [
        "## Copiando os arquivos com mount em google drive para diretório de transição. \n",
        "\n",
        "O objetivo dessa operação é simular uma ingestão de dados/staging area no qual os dados são movidos para uma camada de transição na qual são realizados os tratamentos iniciais evitando qualquer tipo de complicações em um ambiente transacional produtivo. "
      ],
      "metadata": {
        "id": "AlHBmI-H_oEs"
      }
    },
    {
      "cell_type": "markdown",
      "source": [
        "### AIRCIA"
      ],
      "metadata": {
        "id": "z4uwbWmHGcbw"
      }
    },
    {
      "cell_type": "code",
      "source": [
        "#Limpa o diretório\n",
        "!rm -rf '/content/transient/AIR_CIA'\n",
        "\n",
        "#Realiza a copia e lista os arquivos\n",
        "if not os.path.exists(path_transient + \"AIR_CIA\"):\n",
        "  shutil.copytree(path_mounted_google_drive + \"AIR_CIA\", path_transient + \"AIR_CIA\")\n",
        "  !ls '/content/transient/AIR_CIA'"
      ],
      "metadata": {
        "id": "uSNj9Nzh_Bt3",
        "colab": {
          "base_uri": "https://localhost:8080/"
        },
        "outputId": "c259d1c4-38a2-43fe-d9db-19bcfaa54af2"
      },
      "execution_count": 8,
      "outputs": [
        {
          "output_type": "stream",
          "name": "stdout",
          "text": [
            "ANAC_20211220_203627.csv  ANAC_20211220_203643.csv  ANAC_20211220_203733.csv\n"
          ]
        }
      ]
    },
    {
      "cell_type": "markdown",
      "source": [
        "### VRA"
      ],
      "metadata": {
        "id": "j2LGV1FYGecP"
      }
    },
    {
      "cell_type": "code",
      "source": [
        "#Limpa o diretório\n",
        "!rm -rf '/content/transient/VRA'\n",
        "\n",
        "#Realiza a copia e lista os arquivos\n",
        "if not os.path.exists(path_transient + \"VRA\"):\n",
        "  shutil.copytree(path_mounted_google_drive + \"VRA\", path_transient + \"VRA\")\n",
        "  !ls '/content/transient/VRA'"
      ],
      "metadata": {
        "colab": {
          "base_uri": "https://localhost:8080/"
        },
        "id": "m85xw6c-DT5K",
        "outputId": "a9d8fd44-6912-4eda-ec46-01e73af9fbeb"
      },
      "execution_count": 9,
      "outputs": [
        {
          "output_type": "stream",
          "name": "stdout",
          "text": [
            "VRA_202110.json  VRA_20212.json  VRA_20215.json  VRA_20218.json\n",
            "VRA_202111.json  VRA_20213.json  VRA_20216.json  VRA_20219.json\n",
            "VRA_20211.json\t VRA_20214.json  VRA_20217.json\n"
          ]
        }
      ]
    },
    {
      "cell_type": "markdown",
      "source": [
        "**Observação:** No bloco de códigos acima, foi utilizado o comando \n",
        "\n",
        "```\n",
        "!rm -rf /caminho a ser removido\n",
        "```\n",
        "\n",
        "Combinanado com uma checagem via if \n",
        "\n",
        "```\n",
        "if not os.path.exists(caminho a ser checado)\n",
        "```\n",
        "\n",
        "Visto que alguns testes foram realizados com o parâmetro **dirs_exist_ok** no qual aparenta possuir instabilidade visto que não está checando corretamente o diretório e permitir um modo overwrite ao realizar as cópias. "
      ],
      "metadata": {
        "id": "SX4rakS8Dztx"
      }
    },
    {
      "cell_type": "markdown",
      "source": [
        "## Buscando os arquivos na camada transient e salvando na camada raw \n",
        "\n",
        "Nesta etapa os arquivos serão salvos na camada raw em modo parquet com o objetivo de compressão, otimizando o espaço em disco. Após isso, os diretórios na camada transient serão removidos. \n",
        "\n",
        "\n",
        "\n",
        "Nesse momento, nenhum tratamento referente a tipagem de dados ou enriquecimento será realizado. "
      ],
      "metadata": {
        "id": "m6pkkLR-FLF6"
      }
    },
    {
      "cell_type": "markdown",
      "source": [
        "### AIR_CIA"
      ],
      "metadata": {
        "id": "SbfXq-LqF-Ms"
      }
    },
    {
      "cell_type": "code",
      "source": [
        "#Realizando a sua leitura\n",
        "df_air_cia = spark.read.csv(path_transient + \"AIR_CIA\", sep=\";\", multiLine=True, header=True)"
      ],
      "metadata": {
        "id": "ehMy4hcUD3Rp"
      },
      "execution_count": 10,
      "outputs": []
    },
    {
      "cell_type": "code",
      "source": [
        "#Exibindo o seu conteúdo\n",
        "df_air_cia.show()"
      ],
      "metadata": {
        "colab": {
          "base_uri": "https://localhost:8080/"
        },
        "id": "dc3CAQgmFJrU",
        "outputId": "7d9001ec-f6e2-415c-cb7f-cb7e4ef0fa68"
      },
      "execution_count": 11,
      "outputs": [
        {
          "output_type": "stream",
          "name": "stdout",
          "text": [
            "+--------------------+---------+------------------+--------------------+--------------------+--------------------+--------------------+--------------------+------------------------+--------------------+\n",
            "|        Razão Social|ICAO IATA|              CNPJ|   Atividades Aéreas|       Endereço Sede|            Telefone|              E-Mail| Decisão Operacional|Data Decisão Operacional|Validade Operacional|\n",
            "+--------------------+---------+------------------+--------------------+--------------------+--------------------+--------------------+--------------------+------------------------+--------------------+\n",
            "|ABSA - AEROLINHAS...|   LTG M3|00.074.635/0001-33|TRANSPORTE AÉREO ...|AEROPORTO INTERNA...|      (11) 5582-8055|      gar@tam.com.br|       DECISÃO Nº 41|              22/04/2015|          23/04/2025|\n",
            "|AEROSUL TÁXI AÉRE...|   ASO 2S|27.315.694/0001-02|SERVIÇOS AÉREOS P...|RODOVIA PR 218, K...|      (43) 3176-4030|operacoes@aerosul...|      DECISÃO Nº 282|              10/02/2021|                null|\n",
            "|ASTA LINHAS AÉREA...|   SUL 0A|12.703.737/0001-50|SERVIÇOS AÉREOS P...|AV GOVERNADOR JOÃ...|(65) 3614-2684 / ...|                null|      DECISÃO Nº 115|              31/07/2019|          02/08/2024|\n",
            "|ATA - AEROTÁXI AB...|      ABJ|14.674.451/0001-19|TÁXI-AÉREO, TRANS...| PÇA. GAGO COUTIN...|(71) 34629600 / (...|guilherme@abaete....|       DECISÃO Nº 36|              05/03/2020|                null|\n",
            "|AZUL CONECTA LTDA...|   ACN 2F|04.263.318/0001-16|TRANSPORTE AÉREO ...|AVENIDA EMILIO AN...|(11) 45822355/ (1...|                null|Decisão nº 14, de...|              25/01/2018|          29/01/2028|\n",
            "|AZUL LINHAS AÉREA...|   AZU AD|09.296.295/0001-60|TRANSPORTE AÉREO ...|AV. MARCOS PENTEA...| (55) (11) 4134-9...|vanessa.reis@voea...|      Decisão nº 178|              20/11/2018|          21/11/2028|\n",
            "|GOL LINHAS AÉREAS...|   GLO G3|07.575.651/0001-59|TRANSPORTE AÉREO ...|PRAÇA SENADOR SAL...|(11) 5098-2990 / ...|rddfonseca@voegol...|      DECISÃO Nº 156|              05/11/2019|                null|\n",
            "|MAP TRANSPORTES A...|   PAM 7M|10.483.635/0001-40|TRANSPORTE AÉREO ...|AVENIDA SANTOS DU...|       (92) 36521620|contabil@voemap.c...|       DECISÃO Nº 89|              14/08/2012|          17/08/2022|\n",
            "|MODERN TRANSPORTE...|   MWM WD|03.887.831/0001-15|TRANSPORTE AÉREO ...|AVENIDA PREFEITO ...|(21) 2272-9272 / ...|juridico@modern.c...|       DECISÃO Nº 79|              31/05/2017|          02/06/2027|\n",
            "|PASSAREDO TRANSPO...|   PTB 2Z|00.512.777/0001-35|TRANSPORTE AÉREO ...|SETOR DE HANGARES...|(16) 3514-7127 / ...|juridico@voepass....|      DECISÃO Nº 105|              09/06/2020|                null|\n",
            "|SIDERAL LINHAS AÉ...|   SID 0S|10.919.908/0001-57|TRANSPORTE AÉREO ...|RODOVIA CONTORNO ...|(41) 3116-9000 / ...|office@siderallin...|       DECISÃO Nº 37|              05/03/2020|          06/03/2025|\n",
            "|TAM LINHAS AÉREAS...|   TAM JJ|02.012.862/0001-60|TRANSPORTE AÉREO ...|RUA ÁTICA , N° 67...|(11) 5582-8055 / ...|   gar@tam.com.br   |      DECISÃO Nº 366|              07/07/2021|          09/11/2031|\n",
            "|TOTAL LINHAS AÉRE...|   TTL L1|32.068.363/0001-55|SERVIÇOS AÉREOS P...|AV. SENADOR SALGA...|(41) 3371-8200 / ...|geraldo.antonio@t...|      DECISÃO Nº 260|              12/01/2021|          14/01/2031|\n",
            "|AEROSUL TÁXI AÉRE...|   ASO 2S|27.315.694/0001-02|SERVIÇOS AÉREOS P...|RODOVIA PR 218, K...|      (43) 3176-4030|operacoes@aerosul...|      DECISÃO Nº 282|              10/02/2021|                null|\n",
            "|ATA - AEROTÁXI AB...|      ABJ|14.674.451/0001-19|TÁXI-AÉREO, TRANS...| PÇA. GAGO COUTIN...|(71) 34629600 / (...|guilherme@abaete....|       DECISÃO Nº 36|              05/03/2020|                null|\n",
            "|OMNI TÁXI AÉREO S.A.|   OMI O1|03.670.763/0001-38|AEROFOTOGRAFIA, A...|AV. AYRTON SENNA,...|     (61) 98335-3444|lira@plfconsultor...|      DECISÃO Nº 100|              10/07/2019|          12/07/2024|\n",
            "| PRIME TÁXI AIR LTDA|     null|23.568.370/0001-25|TÁXI-AÉREO, TRANS...|AL. RIO NEGRO, 58...|(11) 41958307 / (...|mmatta@primefract...|      DECISÃO Nº 237|              17/12/2020|          18/12/2025|\n",
            "|SIDERAL LINHAS AÉ...|   SID 0S|10.919.908/0001-57|TRANSPORTE AÉREO ...|RODOVIA CONTORNO ...|(41) 3116-9000 / ...|office@siderallin...|       DECISÃO Nº 37|              05/03/2020|          06/03/2025|\n",
            "|RIMA - RIO MADEIR...|   RIM 0R|04.778.630/0001-42|LIGAÇÃO AÉREA SIS...|AV. LAURO SODRÉ, ...|      (69) 3225-8000|                null|      DECISÃO Nº 116|              26/07/2017|          27/07/2022|\n",
            "|RTS - ROTA DO SOL...|      CKP|01.904.715/0001-31|LIGAÇÃO AÉREA SIS...|PRAÇA EDUARDO GOM...|      (85) 3272-3555|quadros@voerotado...|       DECISÃO Nº 21|              13/02/2019|          15/02/2024|\n",
            "+--------------------+---------+------------------+--------------------+--------------------+--------------------+--------------------+--------------------+------------------------+--------------------+\n",
            "\n"
          ]
        }
      ]
    },
    {
      "cell_type": "code",
      "source": [
        "#Exibindo o seu schema\n",
        "df_air_cia.printSchema()"
      ],
      "metadata": {
        "colab": {
          "base_uri": "https://localhost:8080/"
        },
        "id": "T5AwQvPKFfko",
        "outputId": "51bf2d11-5b8e-449a-d1c3-0280ebe7007a"
      },
      "execution_count": 12,
      "outputs": [
        {
          "output_type": "stream",
          "name": "stdout",
          "text": [
            "root\n",
            " |-- Razão Social: string (nullable = true)\n",
            " |-- ICAO IATA: string (nullable = true)\n",
            " |-- CNPJ: string (nullable = true)\n",
            " |-- Atividades Aéreas: string (nullable = true)\n",
            " |-- Endereço Sede: string (nullable = true)\n",
            " |-- Telefone: string (nullable = true)\n",
            " |-- E-Mail: string (nullable = true)\n",
            " |-- Decisão Operacional: string (nullable = true)\n",
            " |-- Data Decisão Operacional: string (nullable = true)\n",
            " |-- Validade Operacional: string (nullable = true)\n",
            "\n"
          ]
        }
      ]
    },
    {
      "cell_type": "code",
      "source": [
        "#Gravando o seu conteúdo em parquet na camada raw\n",
        "df_air_cia.write.mode('overwrite').parquet(path_raw + \"AIR_CIA/\")"
      ],
      "metadata": {
        "id": "hf6xYvuBFkZg"
      },
      "execution_count": 13,
      "outputs": []
    },
    {
      "cell_type": "code",
      "source": [
        "#Listando o diretório da camada raw\n",
        "!ls '/content/raw/AIR_CIA'"
      ],
      "metadata": {
        "colab": {
          "base_uri": "https://localhost:8080/"
        },
        "id": "KPVLyMovGIlq",
        "outputId": "6378bb1a-bd32-4a2f-a753-32301514da8c"
      },
      "execution_count": 14,
      "outputs": [
        {
          "output_type": "stream",
          "name": "stdout",
          "text": [
            "part-00000-f37b992f-564d-478a-86e1-bf5249796209-c000.snappy.parquet  _SUCCESS\n",
            "part-00001-f37b992f-564d-478a-86e1-bf5249796209-c000.snappy.parquet\n"
          ]
        }
      ]
    },
    {
      "cell_type": "markdown",
      "source": [
        "### VRA"
      ],
      "metadata": {
        "id": "GRud9SVfG0LY"
      }
    },
    {
      "cell_type": "code",
      "source": [
        "#Realizando a sua leitura\n",
        "df_vra = spark.read.json(path_transient + \"VRA\", multiLine=True)"
      ],
      "metadata": {
        "id": "MHJ1pYrQGxVw"
      },
      "execution_count": 15,
      "outputs": []
    },
    {
      "cell_type": "code",
      "source": [
        "#Exibindo os dados\n",
        "df_vra.show()"
      ],
      "metadata": {
        "colab": {
          "base_uri": "https://localhost:8080/"
        },
        "id": "fIAytAXiG-_l",
        "outputId": "141ddaf8-935e-469e-d3ad-a36d417b1db5"
      },
      "execution_count": 16,
      "outputs": [
        {
          "output_type": "stream",
          "name": "stdout",
          "text": [
            "+-------------------+-------------------+-----------------+-------------------+---------------+--------------------+-------------------+----------------+---------+-------------------+-------------------+-----------+\n",
            "|    ChegadaPrevista|        ChegadaReal|CódigoAutorização|CódigoJustificativa|CódigoTipoLinha|ICAOAeródromoDestino|ICAOAeródromoOrigem|ICAOEmpresaAérea|NúmeroVoo|    PartidaPrevista|        PartidaReal|SituaçãoVoo|\n",
            "+-------------------+-------------------+-----------------+-------------------+---------------+--------------------+-------------------+----------------+---------+-------------------+-------------------+-----------+\n",
            "|2021-11-12 08:30:00|2021-11-12 08:24:00|                0|                N/A|              X|                KORD|               SBGR|             UAL|     0844|2021-11-11 22:00:00|2021-11-11 22:14:00|  REALIZADO|\n",
            "|2021-11-15 08:30:00|2021-11-15 08:05:00|                0|                N/A|              X|                KORD|               SBGR|             UAL|     0844|2021-11-14 22:00:00|2021-11-14 21:59:00|  REALIZADO|\n",
            "|2021-11-22 08:30:00|2021-11-22 08:19:00|                0|                N/A|              X|                KORD|               SBGR|             UAL|     0844|2021-11-21 22:00:00|2021-11-21 22:00:00|  REALIZADO|\n",
            "|2021-11-19 08:30:00|2021-11-19 08:17:00|                0|                N/A|              X|                KORD|               SBGR|             UAL|     0844|2021-11-18 22:00:00|2021-11-18 22:01:00|  REALIZADO|\n",
            "|2021-11-21 08:30:00|2021-11-21 08:23:00|                0|                N/A|              X|                KORD|               SBGR|             UAL|     0844|2021-11-20 22:00:00|2021-11-20 22:02:00|  REALIZADO|\n",
            "|2021-11-23 08:30:00|2021-11-23 08:47:00|                0|                N/A|              X|                KORD|               SBGR|             UAL|     0844|2021-11-22 22:00:00|2021-11-22 22:09:00|  REALIZADO|\n",
            "|2021-11-24 08:30:00|2021-11-24 08:11:00|                0|                N/A|              X|                KORD|               SBGR|             UAL|     0844|2021-11-23 22:00:00|2021-11-23 22:17:00|  REALIZADO|\n",
            "|2021-11-26 08:30:00|2021-11-26 08:40:00|                0|                N/A|              X|                KORD|               SBGR|             UAL|     0844|2021-11-25 22:00:00|2021-11-25 21:58:00|  REALIZADO|\n",
            "|2021-11-28 08:30:00|2021-11-28 08:28:00|                0|                N/A|              X|                KORD|               SBGR|             UAL|     0844|2021-11-27 22:00:00|2021-11-27 21:54:00|  REALIZADO|\n",
            "|2021-11-30 08:30:00|2021-11-30 08:21:00|                0|                N/A|              X|                KORD|               SBGR|             UAL|     0844|2021-11-29 22:00:00|2021-11-29 22:00:00|  REALIZADO|\n",
            "|2021-12-01 08:30:00|2021-12-01 08:31:00|                0|                N/A|              X|                KORD|               SBGR|             UAL|     0844|2021-11-30 22:00:00|2021-11-30 22:15:00|  REALIZADO|\n",
            "|2021-11-16 08:30:00|2021-11-16 08:10:00|                0|                N/A|              X|                KORD|               SBGR|             UAL|     0844|2021-11-15 22:00:00|2021-11-15 21:56:00|  REALIZADO|\n",
            "|2021-11-17 08:30:00|2021-11-17 07:56:00|                0|                N/A|              X|                KORD|               SBGR|             UAL|     0844|2021-11-16 22:00:00|2021-11-16 22:02:00|  REALIZADO|\n",
            "|2021-11-29 08:30:00|2021-11-29 08:12:00|                0|                N/A|              X|                KORD|               SBGR|             UAL|     0844|2021-11-28 22:00:00|2021-11-28 21:55:00|  REALIZADO|\n",
            "|2021-11-01 10:40:00|2021-11-01 10:33:00|                0|                N/A|              X|                SBGR|               KORD|             UAL|     0845|2021-11-01 00:40:00|2021-11-01 00:31:00|  REALIZADO|\n",
            "|2021-11-02 10:40:00|2021-11-02 10:36:00|                0|                N/A|              X|                SBGR|               KORD|             UAL|     0845|2021-11-02 00:40:00|2021-11-02 00:36:00|  REALIZADO|\n",
            "|2021-11-04 10:40:00|2021-11-04 10:32:00|                0|                N/A|              X|                SBGR|               KORD|             UAL|     0845|2021-11-04 00:40:00|2021-11-04 00:47:00|  REALIZADO|\n",
            "|2021-11-06 10:40:00|2021-11-06 12:38:00|                0|                N/A|              X|                SBGR|               KORD|             UAL|     0845|2021-11-06 00:40:00|2021-11-06 02:27:00|  REALIZADO|\n",
            "|2021-11-08 10:40:00|2021-11-08 10:23:00|                0|                N/A|              X|                SBGR|               KORD|             UAL|     0845|2021-11-08 00:40:00|2021-11-08 00:28:00|  REALIZADO|\n",
            "|2021-11-07 10:40:00|2021-11-07 10:44:00|                0|                N/A|              X|                SBGR|               KORD|             UAL|     0845|2021-11-07 00:40:00|2021-11-07 00:44:00|  REALIZADO|\n",
            "+-------------------+-------------------+-----------------+-------------------+---------------+--------------------+-------------------+----------------+---------+-------------------+-------------------+-----------+\n",
            "only showing top 20 rows\n",
            "\n"
          ]
        }
      ]
    },
    {
      "cell_type": "code",
      "source": [
        "#Visualizando o schema\n",
        "df_vra.printSchema()"
      ],
      "metadata": {
        "colab": {
          "base_uri": "https://localhost:8080/"
        },
        "id": "UO1WaTlEHBkV",
        "outputId": "8ba804b5-4995-4469-e3f6-16e3d5374e03"
      },
      "execution_count": 17,
      "outputs": [
        {
          "output_type": "stream",
          "name": "stdout",
          "text": [
            "root\n",
            " |-- ChegadaPrevista: string (nullable = true)\n",
            " |-- ChegadaReal: string (nullable = true)\n",
            " |-- CódigoAutorização: string (nullable = true)\n",
            " |-- CódigoJustificativa: string (nullable = true)\n",
            " |-- CódigoTipoLinha: string (nullable = true)\n",
            " |-- ICAOAeródromoDestino: string (nullable = true)\n",
            " |-- ICAOAeródromoOrigem: string (nullable = true)\n",
            " |-- ICAOEmpresaAérea: string (nullable = true)\n",
            " |-- NúmeroVoo: string (nullable = true)\n",
            " |-- PartidaPrevista: string (nullable = true)\n",
            " |-- PartidaReal: string (nullable = true)\n",
            " |-- SituaçãoVoo: string (nullable = true)\n",
            "\n"
          ]
        }
      ]
    },
    {
      "cell_type": "code",
      "source": [
        "#Gravando o seu conteúdo em parquet na camada raw\n",
        "df_vra.write.mode('overwrite').parquet(path_raw + \"VRA/\")"
      ],
      "metadata": {
        "id": "GYJDTrvmHEIA"
      },
      "execution_count": 18,
      "outputs": []
    },
    {
      "cell_type": "code",
      "source": [
        "#Listando o diretório da camada raw\n",
        "!ls '/content/raw/VRA/'"
      ],
      "metadata": {
        "colab": {
          "base_uri": "https://localhost:8080/"
        },
        "id": "G3eKBuNdHKEM",
        "outputId": "81f556ef-0799-4109-a56a-35156e659248"
      },
      "execution_count": 19,
      "outputs": [
        {
          "output_type": "stream",
          "name": "stdout",
          "text": [
            "part-00000-0da7eaad-955c-4d86-a459-3e68e19850a7-c000.snappy.parquet\n",
            "part-00001-0da7eaad-955c-4d86-a459-3e68e19850a7-c000.snappy.parquet\n",
            "part-00002-0da7eaad-955c-4d86-a459-3e68e19850a7-c000.snappy.parquet\n",
            "_SUCCESS\n"
          ]
        }
      ]
    },
    {
      "cell_type": "markdown",
      "source": [
        "### Limpando a camada transient para liberar espaço em disco"
      ],
      "metadata": {
        "id": "f37SlqoeIKpw"
      }
    },
    {
      "cell_type": "code",
      "source": [
        "!rm -rf '/content/transient/AIR_CIA'\n",
        "!rm -rf '/content/transient/VRA'"
      ],
      "metadata": {
        "id": "Ey_lCA4bIPop"
      },
      "execution_count": 20,
      "outputs": []
    },
    {
      "cell_type": "markdown",
      "source": [
        "## Realizando tratamentos de tipagens, adição de colunas, etc\n",
        "\n",
        "Agora que os dados já estão devidamente armazenados em camada raw, torna-se possível realizar os tratamentos adequados para continuidade do projeto."
      ],
      "metadata": {
        "id": "R_DL1iLmH1KT"
      }
    },
    {
      "cell_type": "markdown",
      "source": [
        "### AIR_CIA"
      ],
      "metadata": {
        "id": "HZWwJoyYJPLE"
      }
    },
    {
      "cell_type": "code",
      "source": [
        "#Realizando a leitura do dataframe em parquet\n",
        "df_air_cia_raw = spark.read.parquet(path_raw + \"AIR_CIA\")"
      ],
      "metadata": {
        "id": "JGqcae05MEW2"
      },
      "execution_count": 21,
      "outputs": []
    },
    {
      "cell_type": "code",
      "source": [
        "#Exibindo os dados\n",
        "df_air_cia_raw.show()"
      ],
      "metadata": {
        "colab": {
          "base_uri": "https://localhost:8080/"
        },
        "id": "WbkTykjpMS1l",
        "outputId": "895fcdc1-ca09-404c-d3eb-69ca29d17e81"
      },
      "execution_count": 22,
      "outputs": [
        {
          "output_type": "stream",
          "name": "stdout",
          "text": [
            "+--------------------+---------+------------------+--------------------+--------------------+--------------------+--------------------+--------------------+------------------------+--------------------+\n",
            "|        Razão Social|ICAO IATA|              CNPJ|   Atividades Aéreas|       Endereço Sede|            Telefone|              E-Mail| Decisão Operacional|Data Decisão Operacional|Validade Operacional|\n",
            "+--------------------+---------+------------------+--------------------+--------------------+--------------------+--------------------+--------------------+------------------------+--------------------+\n",
            "|ABSA - AEROLINHAS...|   LTG M3|00.074.635/0001-33|TRANSPORTE AÉREO ...|AEROPORTO INTERNA...|      (11) 5582-8055|      gar@tam.com.br|       DECISÃO Nº 41|              22/04/2015|          23/04/2025|\n",
            "|AEROSUL TÁXI AÉRE...|   ASO 2S|27.315.694/0001-02|SERVIÇOS AÉREOS P...|RODOVIA PR 218, K...|      (43) 3176-4030|operacoes@aerosul...|      DECISÃO Nº 282|              10/02/2021|                null|\n",
            "|ASTA LINHAS AÉREA...|   SUL 0A|12.703.737/0001-50|SERVIÇOS AÉREOS P...|AV GOVERNADOR JOÃ...|(65) 3614-2684 / ...|                null|      DECISÃO Nº 115|              31/07/2019|          02/08/2024|\n",
            "|ATA - AEROTÁXI AB...|      ABJ|14.674.451/0001-19|TÁXI-AÉREO, TRANS...| PÇA. GAGO COUTIN...|(71) 34629600 / (...|guilherme@abaete....|       DECISÃO Nº 36|              05/03/2020|                null|\n",
            "|AZUL CONECTA LTDA...|   ACN 2F|04.263.318/0001-16|TRANSPORTE AÉREO ...|AVENIDA EMILIO AN...|(11) 45822355/ (1...|                null|Decisão nº 14, de...|              25/01/2018|          29/01/2028|\n",
            "|AZUL LINHAS AÉREA...|   AZU AD|09.296.295/0001-60|TRANSPORTE AÉREO ...|AV. MARCOS PENTEA...| (55) (11) 4134-9...|vanessa.reis@voea...|      Decisão nº 178|              20/11/2018|          21/11/2028|\n",
            "|GOL LINHAS AÉREAS...|   GLO G3|07.575.651/0001-59|TRANSPORTE AÉREO ...|PRAÇA SENADOR SAL...|(11) 5098-2990 / ...|rddfonseca@voegol...|      DECISÃO Nº 156|              05/11/2019|                null|\n",
            "|MAP TRANSPORTES A...|   PAM 7M|10.483.635/0001-40|TRANSPORTE AÉREO ...|AVENIDA SANTOS DU...|       (92) 36521620|contabil@voemap.c...|       DECISÃO Nº 89|              14/08/2012|          17/08/2022|\n",
            "|MODERN TRANSPORTE...|   MWM WD|03.887.831/0001-15|TRANSPORTE AÉREO ...|AVENIDA PREFEITO ...|(21) 2272-9272 / ...|juridico@modern.c...|       DECISÃO Nº 79|              31/05/2017|          02/06/2027|\n",
            "|PASSAREDO TRANSPO...|   PTB 2Z|00.512.777/0001-35|TRANSPORTE AÉREO ...|SETOR DE HANGARES...|(16) 3514-7127 / ...|juridico@voepass....|      DECISÃO Nº 105|              09/06/2020|                null|\n",
            "|SIDERAL LINHAS AÉ...|   SID 0S|10.919.908/0001-57|TRANSPORTE AÉREO ...|RODOVIA CONTORNO ...|(41) 3116-9000 / ...|office@siderallin...|       DECISÃO Nº 37|              05/03/2020|          06/03/2025|\n",
            "|TAM LINHAS AÉREAS...|   TAM JJ|02.012.862/0001-60|TRANSPORTE AÉREO ...|RUA ÁTICA , N° 67...|(11) 5582-8055 / ...|   gar@tam.com.br   |      DECISÃO Nº 366|              07/07/2021|          09/11/2031|\n",
            "|TOTAL LINHAS AÉRE...|   TTL L1|32.068.363/0001-55|SERVIÇOS AÉREOS P...|AV. SENADOR SALGA...|(41) 3371-8200 / ...|geraldo.antonio@t...|      DECISÃO Nº 260|              12/01/2021|          14/01/2031|\n",
            "|AEROSUL TÁXI AÉRE...|   ASO 2S|27.315.694/0001-02|SERVIÇOS AÉREOS P...|RODOVIA PR 218, K...|      (43) 3176-4030|operacoes@aerosul...|      DECISÃO Nº 282|              10/02/2021|                null|\n",
            "|ATA - AEROTÁXI AB...|      ABJ|14.674.451/0001-19|TÁXI-AÉREO, TRANS...| PÇA. GAGO COUTIN...|(71) 34629600 / (...|guilherme@abaete....|       DECISÃO Nº 36|              05/03/2020|                null|\n",
            "|OMNI TÁXI AÉREO S.A.|   OMI O1|03.670.763/0001-38|AEROFOTOGRAFIA, A...|AV. AYRTON SENNA,...|     (61) 98335-3444|lira@plfconsultor...|      DECISÃO Nº 100|              10/07/2019|          12/07/2024|\n",
            "| PRIME TÁXI AIR LTDA|     null|23.568.370/0001-25|TÁXI-AÉREO, TRANS...|AL. RIO NEGRO, 58...|(11) 41958307 / (...|mmatta@primefract...|      DECISÃO Nº 237|              17/12/2020|          18/12/2025|\n",
            "|SIDERAL LINHAS AÉ...|   SID 0S|10.919.908/0001-57|TRANSPORTE AÉREO ...|RODOVIA CONTORNO ...|(41) 3116-9000 / ...|office@siderallin...|       DECISÃO Nº 37|              05/03/2020|          06/03/2025|\n",
            "|RIMA - RIO MADEIR...|   RIM 0R|04.778.630/0001-42|LIGAÇÃO AÉREA SIS...|AV. LAURO SODRÉ, ...|      (69) 3225-8000|                null|      DECISÃO Nº 116|              26/07/2017|          27/07/2022|\n",
            "|RTS - ROTA DO SOL...|      CKP|01.904.715/0001-31|LIGAÇÃO AÉREA SIS...|PRAÇA EDUARDO GOM...|      (85) 3272-3555|quadros@voerotado...|       DECISÃO Nº 21|              13/02/2019|          15/02/2024|\n",
            "+--------------------+---------+------------------+--------------------+--------------------+--------------------+--------------------+--------------------+------------------------+--------------------+\n",
            "\n"
          ]
        }
      ]
    },
    {
      "cell_type": "code",
      "source": [
        "#Exibindo o schema\n",
        "df_air_cia_raw.printSchema()"
      ],
      "metadata": {
        "colab": {
          "base_uri": "https://localhost:8080/"
        },
        "id": "sVASojayNSM2",
        "outputId": "ea9b06b8-865e-4a72-e1b9-0739d028dfd7"
      },
      "execution_count": 23,
      "outputs": [
        {
          "output_type": "stream",
          "name": "stdout",
          "text": [
            "root\n",
            " |-- Razão Social: string (nullable = true)\n",
            " |-- ICAO IATA: string (nullable = true)\n",
            " |-- CNPJ: string (nullable = true)\n",
            " |-- Atividades Aéreas: string (nullable = true)\n",
            " |-- Endereço Sede: string (nullable = true)\n",
            " |-- Telefone: string (nullable = true)\n",
            " |-- E-Mail: string (nullable = true)\n",
            " |-- Decisão Operacional: string (nullable = true)\n",
            " |-- Data Decisão Operacional: string (nullable = true)\n",
            " |-- Validade Operacional: string (nullable = true)\n",
            "\n"
          ]
        }
      ]
    },
    {
      "cell_type": "code",
      "source": [
        "#Renomeando as colunas para modo Snake Case\n",
        "df_air_cia_raw = (df_air_cia_raw \n",
        "                    .withColumnRenamed(\"Razão Social\",\"razao_social\") \n",
        "                    .withColumnRenamed(\"ICAO IATA\",\"icao_iata\") \n",
        "                    .withColumnRenamed(\"CNPJ\",\"cnpj\") \n",
        "                    .withColumnRenamed(\"Atividades Aéreas\",\"atividades_aereas\")\n",
        "                    .withColumnRenamed(\"Endereço Sede\",\"endereco_sede\")\n",
        "                    .withColumnRenamed(\"Telefone\",\"telefone\")\n",
        "                    .withColumnRenamed(\"E-mail\",\"email\")\n",
        "                    .withColumnRenamed(\"Decisão Operacional\",\"decisao_operacional\")\n",
        "                    .withColumnRenamed(\"Data Decisão Operacional\",\"data_decisao_operacional\")\n",
        "                    .withColumnRenamed(\"Validade Operacional\",\"validade_operacional\"))"
      ],
      "metadata": {
        "id": "D6CPQg03O9mp"
      },
      "execution_count": 24,
      "outputs": []
    },
    {
      "cell_type": "code",
      "source": [
        "#Visualizando a transformação aplicada\n",
        "df_air_cia_raw.show()"
      ],
      "metadata": {
        "colab": {
          "base_uri": "https://localhost:8080/"
        },
        "id": "JYeVtYkIPbpR",
        "outputId": "8312a659-06a1-442d-9265-b79feb7e2ba5"
      },
      "execution_count": 25,
      "outputs": [
        {
          "output_type": "stream",
          "name": "stdout",
          "text": [
            "+--------------------+---------+------------------+--------------------+--------------------+--------------------+--------------------+--------------------+------------------------+--------------------+\n",
            "|        razao_social|icao_iata|              cnpj|   atividades_aereas|       endereco_sede|            telefone|               email| decisao_operacional|data_decisao_operacional|validade_operacional|\n",
            "+--------------------+---------+------------------+--------------------+--------------------+--------------------+--------------------+--------------------+------------------------+--------------------+\n",
            "|ABSA - AEROLINHAS...|   LTG M3|00.074.635/0001-33|TRANSPORTE AÉREO ...|AEROPORTO INTERNA...|      (11) 5582-8055|      gar@tam.com.br|       DECISÃO Nº 41|              22/04/2015|          23/04/2025|\n",
            "|AEROSUL TÁXI AÉRE...|   ASO 2S|27.315.694/0001-02|SERVIÇOS AÉREOS P...|RODOVIA PR 218, K...|      (43) 3176-4030|operacoes@aerosul...|      DECISÃO Nº 282|              10/02/2021|                null|\n",
            "|ASTA LINHAS AÉREA...|   SUL 0A|12.703.737/0001-50|SERVIÇOS AÉREOS P...|AV GOVERNADOR JOÃ...|(65) 3614-2684 / ...|                null|      DECISÃO Nº 115|              31/07/2019|          02/08/2024|\n",
            "|ATA - AEROTÁXI AB...|      ABJ|14.674.451/0001-19|TÁXI-AÉREO, TRANS...| PÇA. GAGO COUTIN...|(71) 34629600 / (...|guilherme@abaete....|       DECISÃO Nº 36|              05/03/2020|                null|\n",
            "|AZUL CONECTA LTDA...|   ACN 2F|04.263.318/0001-16|TRANSPORTE AÉREO ...|AVENIDA EMILIO AN...|(11) 45822355/ (1...|                null|Decisão nº 14, de...|              25/01/2018|          29/01/2028|\n",
            "|AZUL LINHAS AÉREA...|   AZU AD|09.296.295/0001-60|TRANSPORTE AÉREO ...|AV. MARCOS PENTEA...| (55) (11) 4134-9...|vanessa.reis@voea...|      Decisão nº 178|              20/11/2018|          21/11/2028|\n",
            "|GOL LINHAS AÉREAS...|   GLO G3|07.575.651/0001-59|TRANSPORTE AÉREO ...|PRAÇA SENADOR SAL...|(11) 5098-2990 / ...|rddfonseca@voegol...|      DECISÃO Nº 156|              05/11/2019|                null|\n",
            "|MAP TRANSPORTES A...|   PAM 7M|10.483.635/0001-40|TRANSPORTE AÉREO ...|AVENIDA SANTOS DU...|       (92) 36521620|contabil@voemap.c...|       DECISÃO Nº 89|              14/08/2012|          17/08/2022|\n",
            "|MODERN TRANSPORTE...|   MWM WD|03.887.831/0001-15|TRANSPORTE AÉREO ...|AVENIDA PREFEITO ...|(21) 2272-9272 / ...|juridico@modern.c...|       DECISÃO Nº 79|              31/05/2017|          02/06/2027|\n",
            "|PASSAREDO TRANSPO...|   PTB 2Z|00.512.777/0001-35|TRANSPORTE AÉREO ...|SETOR DE HANGARES...|(16) 3514-7127 / ...|juridico@voepass....|      DECISÃO Nº 105|              09/06/2020|                null|\n",
            "|SIDERAL LINHAS AÉ...|   SID 0S|10.919.908/0001-57|TRANSPORTE AÉREO ...|RODOVIA CONTORNO ...|(41) 3116-9000 / ...|office@siderallin...|       DECISÃO Nº 37|              05/03/2020|          06/03/2025|\n",
            "|TAM LINHAS AÉREAS...|   TAM JJ|02.012.862/0001-60|TRANSPORTE AÉREO ...|RUA ÁTICA , N° 67...|(11) 5582-8055 / ...|   gar@tam.com.br   |      DECISÃO Nº 366|              07/07/2021|          09/11/2031|\n",
            "|TOTAL LINHAS AÉRE...|   TTL L1|32.068.363/0001-55|SERVIÇOS AÉREOS P...|AV. SENADOR SALGA...|(41) 3371-8200 / ...|geraldo.antonio@t...|      DECISÃO Nº 260|              12/01/2021|          14/01/2031|\n",
            "|AEROSUL TÁXI AÉRE...|   ASO 2S|27.315.694/0001-02|SERVIÇOS AÉREOS P...|RODOVIA PR 218, K...|      (43) 3176-4030|operacoes@aerosul...|      DECISÃO Nº 282|              10/02/2021|                null|\n",
            "|ATA - AEROTÁXI AB...|      ABJ|14.674.451/0001-19|TÁXI-AÉREO, TRANS...| PÇA. GAGO COUTIN...|(71) 34629600 / (...|guilherme@abaete....|       DECISÃO Nº 36|              05/03/2020|                null|\n",
            "|OMNI TÁXI AÉREO S.A.|   OMI O1|03.670.763/0001-38|AEROFOTOGRAFIA, A...|AV. AYRTON SENNA,...|     (61) 98335-3444|lira@plfconsultor...|      DECISÃO Nº 100|              10/07/2019|          12/07/2024|\n",
            "| PRIME TÁXI AIR LTDA|     null|23.568.370/0001-25|TÁXI-AÉREO, TRANS...|AL. RIO NEGRO, 58...|(11) 41958307 / (...|mmatta@primefract...|      DECISÃO Nº 237|              17/12/2020|          18/12/2025|\n",
            "|SIDERAL LINHAS AÉ...|   SID 0S|10.919.908/0001-57|TRANSPORTE AÉREO ...|RODOVIA CONTORNO ...|(41) 3116-9000 / ...|office@siderallin...|       DECISÃO Nº 37|              05/03/2020|          06/03/2025|\n",
            "|RIMA - RIO MADEIR...|   RIM 0R|04.778.630/0001-42|LIGAÇÃO AÉREA SIS...|AV. LAURO SODRÉ, ...|      (69) 3225-8000|                null|      DECISÃO Nº 116|              26/07/2017|          27/07/2022|\n",
            "|RTS - ROTA DO SOL...|      CKP|01.904.715/0001-31|LIGAÇÃO AÉREA SIS...|PRAÇA EDUARDO GOM...|      (85) 3272-3555|quadros@voerotado...|       DECISÃO Nº 21|              13/02/2019|          15/02/2024|\n",
            "+--------------------+---------+------------------+--------------------+--------------------+--------------------+--------------------+--------------------+------------------------+--------------------+\n",
            "\n"
          ]
        }
      ]
    },
    {
      "cell_type": "code",
      "source": [
        "#Seprando a coluna ICAO IATA em duas através do delimitador \" \"\n",
        "df_air_cia_raw = (df_air_cia_raw\n",
        "                    .withColumn(\"icao\", split(col(\"icao_iata\"), \" \").getItem(0))\n",
        "                    .withColumn(\"iata\", split(col(\"icao_iata\"), \" \").getItem(1))\n",
        "                  )\n",
        "                    \n"
      ],
      "metadata": {
        "id": "LMwJdN80R3zd"
      },
      "execution_count": 26,
      "outputs": []
    },
    {
      "cell_type": "code",
      "source": [
        "#Visualizando a transformação aplicada\n",
        "df_air_cia_raw.show()"
      ],
      "metadata": {
        "colab": {
          "base_uri": "https://localhost:8080/"
        },
        "id": "MbUC0ju-R4RV",
        "outputId": "8c3f1d43-b30b-410d-acd4-afde37aa051b"
      },
      "execution_count": 27,
      "outputs": [
        {
          "output_type": "stream",
          "name": "stdout",
          "text": [
            "+--------------------+---------+------------------+--------------------+--------------------+--------------------+--------------------+--------------------+------------------------+--------------------+----+----+\n",
            "|        razao_social|icao_iata|              cnpj|   atividades_aereas|       endereco_sede|            telefone|               email| decisao_operacional|data_decisao_operacional|validade_operacional|icao|iata|\n",
            "+--------------------+---------+------------------+--------------------+--------------------+--------------------+--------------------+--------------------+------------------------+--------------------+----+----+\n",
            "|ABSA - AEROLINHAS...|   LTG M3|00.074.635/0001-33|TRANSPORTE AÉREO ...|AEROPORTO INTERNA...|      (11) 5582-8055|      gar@tam.com.br|       DECISÃO Nº 41|              22/04/2015|          23/04/2025| LTG|  M3|\n",
            "|AEROSUL TÁXI AÉRE...|   ASO 2S|27.315.694/0001-02|SERVIÇOS AÉREOS P...|RODOVIA PR 218, K...|      (43) 3176-4030|operacoes@aerosul...|      DECISÃO Nº 282|              10/02/2021|                null| ASO|  2S|\n",
            "|ASTA LINHAS AÉREA...|   SUL 0A|12.703.737/0001-50|SERVIÇOS AÉREOS P...|AV GOVERNADOR JOÃ...|(65) 3614-2684 / ...|                null|      DECISÃO Nº 115|              31/07/2019|          02/08/2024| SUL|  0A|\n",
            "|ATA - AEROTÁXI AB...|      ABJ|14.674.451/0001-19|TÁXI-AÉREO, TRANS...| PÇA. GAGO COUTIN...|(71) 34629600 / (...|guilherme@abaete....|       DECISÃO Nº 36|              05/03/2020|                null| ABJ|null|\n",
            "|AZUL CONECTA LTDA...|   ACN 2F|04.263.318/0001-16|TRANSPORTE AÉREO ...|AVENIDA EMILIO AN...|(11) 45822355/ (1...|                null|Decisão nº 14, de...|              25/01/2018|          29/01/2028| ACN|  2F|\n",
            "|AZUL LINHAS AÉREA...|   AZU AD|09.296.295/0001-60|TRANSPORTE AÉREO ...|AV. MARCOS PENTEA...| (55) (11) 4134-9...|vanessa.reis@voea...|      Decisão nº 178|              20/11/2018|          21/11/2028| AZU|  AD|\n",
            "|GOL LINHAS AÉREAS...|   GLO G3|07.575.651/0001-59|TRANSPORTE AÉREO ...|PRAÇA SENADOR SAL...|(11) 5098-2990 / ...|rddfonseca@voegol...|      DECISÃO Nº 156|              05/11/2019|                null| GLO|  G3|\n",
            "|MAP TRANSPORTES A...|   PAM 7M|10.483.635/0001-40|TRANSPORTE AÉREO ...|AVENIDA SANTOS DU...|       (92) 36521620|contabil@voemap.c...|       DECISÃO Nº 89|              14/08/2012|          17/08/2022| PAM|  7M|\n",
            "|MODERN TRANSPORTE...|   MWM WD|03.887.831/0001-15|TRANSPORTE AÉREO ...|AVENIDA PREFEITO ...|(21) 2272-9272 / ...|juridico@modern.c...|       DECISÃO Nº 79|              31/05/2017|          02/06/2027| MWM|  WD|\n",
            "|PASSAREDO TRANSPO...|   PTB 2Z|00.512.777/0001-35|TRANSPORTE AÉREO ...|SETOR DE HANGARES...|(16) 3514-7127 / ...|juridico@voepass....|      DECISÃO Nº 105|              09/06/2020|                null| PTB|  2Z|\n",
            "|SIDERAL LINHAS AÉ...|   SID 0S|10.919.908/0001-57|TRANSPORTE AÉREO ...|RODOVIA CONTORNO ...|(41) 3116-9000 / ...|office@siderallin...|       DECISÃO Nº 37|              05/03/2020|          06/03/2025| SID|  0S|\n",
            "|TAM LINHAS AÉREAS...|   TAM JJ|02.012.862/0001-60|TRANSPORTE AÉREO ...|RUA ÁTICA , N° 67...|(11) 5582-8055 / ...|   gar@tam.com.br   |      DECISÃO Nº 366|              07/07/2021|          09/11/2031| TAM|  JJ|\n",
            "|TOTAL LINHAS AÉRE...|   TTL L1|32.068.363/0001-55|SERVIÇOS AÉREOS P...|AV. SENADOR SALGA...|(41) 3371-8200 / ...|geraldo.antonio@t...|      DECISÃO Nº 260|              12/01/2021|          14/01/2031| TTL|  L1|\n",
            "|AEROSUL TÁXI AÉRE...|   ASO 2S|27.315.694/0001-02|SERVIÇOS AÉREOS P...|RODOVIA PR 218, K...|      (43) 3176-4030|operacoes@aerosul...|      DECISÃO Nº 282|              10/02/2021|                null| ASO|  2S|\n",
            "|ATA - AEROTÁXI AB...|      ABJ|14.674.451/0001-19|TÁXI-AÉREO, TRANS...| PÇA. GAGO COUTIN...|(71) 34629600 / (...|guilherme@abaete....|       DECISÃO Nº 36|              05/03/2020|                null| ABJ|null|\n",
            "|OMNI TÁXI AÉREO S.A.|   OMI O1|03.670.763/0001-38|AEROFOTOGRAFIA, A...|AV. AYRTON SENNA,...|     (61) 98335-3444|lira@plfconsultor...|      DECISÃO Nº 100|              10/07/2019|          12/07/2024| OMI|  O1|\n",
            "| PRIME TÁXI AIR LTDA|     null|23.568.370/0001-25|TÁXI-AÉREO, TRANS...|AL. RIO NEGRO, 58...|(11) 41958307 / (...|mmatta@primefract...|      DECISÃO Nº 237|              17/12/2020|          18/12/2025|null|null|\n",
            "|SIDERAL LINHAS AÉ...|   SID 0S|10.919.908/0001-57|TRANSPORTE AÉREO ...|RODOVIA CONTORNO ...|(41) 3116-9000 / ...|office@siderallin...|       DECISÃO Nº 37|              05/03/2020|          06/03/2025| SID|  0S|\n",
            "|RIMA - RIO MADEIR...|   RIM 0R|04.778.630/0001-42|LIGAÇÃO AÉREA SIS...|AV. LAURO SODRÉ, ...|      (69) 3225-8000|                null|      DECISÃO Nº 116|              26/07/2017|          27/07/2022| RIM|  0R|\n",
            "|RTS - ROTA DO SOL...|      CKP|01.904.715/0001-31|LIGAÇÃO AÉREA SIS...|PRAÇA EDUARDO GOM...|      (85) 3272-3555|quadros@voerotado...|       DECISÃO Nº 21|              13/02/2019|          15/02/2024| CKP|null|\n",
            "+--------------------+---------+------------------+--------------------+--------------------+--------------------+--------------------+--------------------+------------------------+--------------------+----+----+\n",
            "\n"
          ]
        }
      ]
    },
    {
      "cell_type": "code",
      "source": [
        "#Convertendo a tipagem dos dados e selecionando as colunas necessárias\n",
        "df_air_cia_raw = df_air_cia_raw.select(\n",
        "    \n",
        "                    \"razao_social\",\n",
        "                    \"icao\",\n",
        "                    \"iata\",\n",
        "                    \"cnpj\",\n",
        "                    \"atividades_aereas\",\n",
        "                    \"endereco_sede\",\n",
        "                    \"telefone\",\n",
        "                    \"email\",\n",
        "                    \"decisao_operacional\",\n",
        "                    to_date(col(\"data_decisao_operacional\"),\"dd/MM/yyyy\").alias(\"data_decisao_operacional\"),\n",
        "                    to_date(col(\"validade_operacional\"),\"dd/MM/yyyy\").alias(\"validade_operacional\")\n",
        "                    \n",
        ")\n",
        "\n",
        "\n"
      ],
      "metadata": {
        "id": "Vr8mgR1CSvfQ"
      },
      "execution_count": 28,
      "outputs": []
    },
    {
      "cell_type": "code",
      "source": [
        "#Visualizando os dados\n",
        "df_air_cia_raw.show()"
      ],
      "metadata": {
        "colab": {
          "base_uri": "https://localhost:8080/"
        },
        "id": "j5f06PPTYDjB",
        "outputId": "174ccd74-63ae-4f9d-f37a-27a079a7d1a5"
      },
      "execution_count": 29,
      "outputs": [
        {
          "output_type": "stream",
          "name": "stdout",
          "text": [
            "+--------------------+----+----+------------------+--------------------+--------------------+--------------------+--------------------+--------------------+------------------------+--------------------+\n",
            "|        razao_social|icao|iata|              cnpj|   atividades_aereas|       endereco_sede|            telefone|               email| decisao_operacional|data_decisao_operacional|validade_operacional|\n",
            "+--------------------+----+----+------------------+--------------------+--------------------+--------------------+--------------------+--------------------+------------------------+--------------------+\n",
            "|ABSA - AEROLINHAS...| LTG|  M3|00.074.635/0001-33|TRANSPORTE AÉREO ...|AEROPORTO INTERNA...|      (11) 5582-8055|      gar@tam.com.br|       DECISÃO Nº 41|              2015-04-22|          2025-04-23|\n",
            "|AEROSUL TÁXI AÉRE...| ASO|  2S|27.315.694/0001-02|SERVIÇOS AÉREOS P...|RODOVIA PR 218, K...|      (43) 3176-4030|operacoes@aerosul...|      DECISÃO Nº 282|              2021-02-10|                null|\n",
            "|ASTA LINHAS AÉREA...| SUL|  0A|12.703.737/0001-50|SERVIÇOS AÉREOS P...|AV GOVERNADOR JOÃ...|(65) 3614-2684 / ...|                null|      DECISÃO Nº 115|              2019-07-31|          2024-08-02|\n",
            "|ATA - AEROTÁXI AB...| ABJ|null|14.674.451/0001-19|TÁXI-AÉREO, TRANS...| PÇA. GAGO COUTIN...|(71) 34629600 / (...|guilherme@abaete....|       DECISÃO Nº 36|              2020-03-05|                null|\n",
            "|AZUL CONECTA LTDA...| ACN|  2F|04.263.318/0001-16|TRANSPORTE AÉREO ...|AVENIDA EMILIO AN...|(11) 45822355/ (1...|                null|Decisão nº 14, de...|              2018-01-25|          2028-01-29|\n",
            "|AZUL LINHAS AÉREA...| AZU|  AD|09.296.295/0001-60|TRANSPORTE AÉREO ...|AV. MARCOS PENTEA...| (55) (11) 4134-9...|vanessa.reis@voea...|      Decisão nº 178|              2018-11-20|          2028-11-21|\n",
            "|GOL LINHAS AÉREAS...| GLO|  G3|07.575.651/0001-59|TRANSPORTE AÉREO ...|PRAÇA SENADOR SAL...|(11) 5098-2990 / ...|rddfonseca@voegol...|      DECISÃO Nº 156|              2019-11-05|                null|\n",
            "|MAP TRANSPORTES A...| PAM|  7M|10.483.635/0001-40|TRANSPORTE AÉREO ...|AVENIDA SANTOS DU...|       (92) 36521620|contabil@voemap.c...|       DECISÃO Nº 89|              2012-08-14|          2022-08-17|\n",
            "|MODERN TRANSPORTE...| MWM|  WD|03.887.831/0001-15|TRANSPORTE AÉREO ...|AVENIDA PREFEITO ...|(21) 2272-9272 / ...|juridico@modern.c...|       DECISÃO Nº 79|              2017-05-31|          2027-06-02|\n",
            "|PASSAREDO TRANSPO...| PTB|  2Z|00.512.777/0001-35|TRANSPORTE AÉREO ...|SETOR DE HANGARES...|(16) 3514-7127 / ...|juridico@voepass....|      DECISÃO Nº 105|              2020-06-09|                null|\n",
            "|SIDERAL LINHAS AÉ...| SID|  0S|10.919.908/0001-57|TRANSPORTE AÉREO ...|RODOVIA CONTORNO ...|(41) 3116-9000 / ...|office@siderallin...|       DECISÃO Nº 37|              2020-03-05|          2025-03-06|\n",
            "|TAM LINHAS AÉREAS...| TAM|  JJ|02.012.862/0001-60|TRANSPORTE AÉREO ...|RUA ÁTICA , N° 67...|(11) 5582-8055 / ...|   gar@tam.com.br   |      DECISÃO Nº 366|              2021-07-07|          2031-11-09|\n",
            "|TOTAL LINHAS AÉRE...| TTL|  L1|32.068.363/0001-55|SERVIÇOS AÉREOS P...|AV. SENADOR SALGA...|(41) 3371-8200 / ...|geraldo.antonio@t...|      DECISÃO Nº 260|              2021-01-12|          2031-01-14|\n",
            "|AEROSUL TÁXI AÉRE...| ASO|  2S|27.315.694/0001-02|SERVIÇOS AÉREOS P...|RODOVIA PR 218, K...|      (43) 3176-4030|operacoes@aerosul...|      DECISÃO Nº 282|              2021-02-10|                null|\n",
            "|ATA - AEROTÁXI AB...| ABJ|null|14.674.451/0001-19|TÁXI-AÉREO, TRANS...| PÇA. GAGO COUTIN...|(71) 34629600 / (...|guilherme@abaete....|       DECISÃO Nº 36|              2020-03-05|                null|\n",
            "|OMNI TÁXI AÉREO S.A.| OMI|  O1|03.670.763/0001-38|AEROFOTOGRAFIA, A...|AV. AYRTON SENNA,...|     (61) 98335-3444|lira@plfconsultor...|      DECISÃO Nº 100|              2019-07-10|          2024-07-12|\n",
            "| PRIME TÁXI AIR LTDA|null|null|23.568.370/0001-25|TÁXI-AÉREO, TRANS...|AL. RIO NEGRO, 58...|(11) 41958307 / (...|mmatta@primefract...|      DECISÃO Nº 237|              2020-12-17|          2025-12-18|\n",
            "|SIDERAL LINHAS AÉ...| SID|  0S|10.919.908/0001-57|TRANSPORTE AÉREO ...|RODOVIA CONTORNO ...|(41) 3116-9000 / ...|office@siderallin...|       DECISÃO Nº 37|              2020-03-05|          2025-03-06|\n",
            "|RIMA - RIO MADEIR...| RIM|  0R|04.778.630/0001-42|LIGAÇÃO AÉREA SIS...|AV. LAURO SODRÉ, ...|      (69) 3225-8000|                null|      DECISÃO Nº 116|              2017-07-26|          2022-07-27|\n",
            "|RTS - ROTA DO SOL...| CKP|null|01.904.715/0001-31|LIGAÇÃO AÉREA SIS...|PRAÇA EDUARDO GOM...|      (85) 3272-3555|quadros@voerotado...|       DECISÃO Nº 21|              2019-02-13|          2024-02-15|\n",
            "+--------------------+----+----+------------------+--------------------+--------------------+--------------------+--------------------+--------------------+------------------------+--------------------+\n",
            "\n"
          ]
        }
      ]
    },
    {
      "cell_type": "code",
      "source": [
        "#visualizando o schema\n",
        "df_air_cia_raw.printSchema()"
      ],
      "metadata": {
        "colab": {
          "base_uri": "https://localhost:8080/"
        },
        "id": "2L9MFZJ4YItg",
        "outputId": "e9a8ba27-2a0d-45e5-8668-8255b9664c5e"
      },
      "execution_count": 30,
      "outputs": [
        {
          "output_type": "stream",
          "name": "stdout",
          "text": [
            "root\n",
            " |-- razao_social: string (nullable = true)\n",
            " |-- icao: string (nullable = true)\n",
            " |-- iata: string (nullable = true)\n",
            " |-- cnpj: string (nullable = true)\n",
            " |-- atividades_aereas: string (nullable = true)\n",
            " |-- endereco_sede: string (nullable = true)\n",
            " |-- telefone: string (nullable = true)\n",
            " |-- email: string (nullable = true)\n",
            " |-- decisao_operacional: string (nullable = true)\n",
            " |-- data_decisao_operacional: date (nullable = true)\n",
            " |-- validade_operacional: date (nullable = true)\n",
            "\n"
          ]
        }
      ]
    },
    {
      "cell_type": "code",
      "source": [
        "#Gravando dados em camada trusted\n",
        "df_air_cia_raw.write.mode('overwrite').parquet(path_trusted + \"AIR_CIA/\")"
      ],
      "metadata": {
        "id": "hMUHNlsjaOpD"
      },
      "execution_count": 31,
      "outputs": []
    },
    {
      "cell_type": "code",
      "source": [
        "#Listando o diretório da camada raw\n",
        "!ls '/content/trusted/AIR_CIA/'"
      ],
      "metadata": {
        "colab": {
          "base_uri": "https://localhost:8080/"
        },
        "id": "aBhcXjOgajaB",
        "outputId": "5fa40085-a10e-44a5-bdad-a8af7058b437"
      },
      "execution_count": 32,
      "outputs": [
        {
          "output_type": "stream",
          "name": "stdout",
          "text": [
            "part-00000-bfaa623e-440d-46b6-8b2e-054328e24499-c000.snappy.parquet  _SUCCESS\n",
            "part-00001-bfaa623e-440d-46b6-8b2e-054328e24499-c000.snappy.parquet\n"
          ]
        }
      ]
    },
    {
      "cell_type": "markdown",
      "source": [
        "### VRA"
      ],
      "metadata": {
        "id": "IRNFNkO5JROr"
      }
    },
    {
      "cell_type": "code",
      "source": [
        "#Realizando a leitura do dataframe em parquet\n",
        "df_vra_raw = spark.read.parquet(path_raw + \"VRA\")"
      ],
      "metadata": {
        "id": "YvkqEBcW8wWt"
      },
      "execution_count": 104,
      "outputs": []
    },
    {
      "cell_type": "code",
      "source": [
        "#Exibindo os dados\n",
        "df_vra_raw.show()"
      ],
      "metadata": {
        "colab": {
          "base_uri": "https://localhost:8080/"
        },
        "id": "yNOo04HC8yNd",
        "outputId": "d8c67428-248c-49f5-dcce-7f5e5a39d9cf"
      },
      "execution_count": 105,
      "outputs": [
        {
          "output_type": "stream",
          "name": "stdout",
          "text": [
            "+-------------------+-------------------+-----------------+-------------------+---------------+--------------------+-------------------+----------------+---------+-------------------+-------------------+-------------+\n",
            "|    ChegadaPrevista|        ChegadaReal|CódigoAutorização|CódigoJustificativa|CódigoTipoLinha|ICAOAeródromoDestino|ICAOAeródromoOrigem|ICAOEmpresaAérea|NúmeroVoo|    PartidaPrevista|        PartidaReal|  SituaçãoVoo|\n",
            "+-------------------+-------------------+-----------------+-------------------+---------------+--------------------+-------------------+----------------+---------+-------------------+-------------------+-------------+\n",
            "|2021-08-15 20:10:00|               null|                0|                N/A|              N|                SBGR|               SBGL|             IPM|     5555|2021-08-15 19:15:00|               null|NÃO INFORMADO|\n",
            "|2021-08-16 20:25:00|               null|                0|                N/A|              N|                SBGR|               SBGL|             IPM|     5555|2021-08-16 19:25:00|               null|NÃO INFORMADO|\n",
            "|2021-08-19 05:25:00|2021-08-19 04:51:00|                0|                N/A|              X|                SBGR|               LEMD|             AEA|     0057|2021-08-18 18:45:00|2021-08-18 19:19:00|    REALIZADO|\n",
            "|2021-08-09 05:25:00|2021-08-09 05:13:00|                0|                N/A|              X|                SBGR|               LEMD|             AEA|     0057|2021-08-08 18:45:00|2021-08-08 19:08:00|    REALIZADO|\n",
            "|2021-08-30 05:25:00|2021-08-30 04:59:00|                0|                N/A|              X|                SBGR|               LEMD|             AEA|     0057|2021-08-29 18:45:00|2021-08-29 18:54:00|    REALIZADO|\n",
            "|2021-08-02 05:25:00|2021-08-02 05:43:00|                0|                N/A|              X|                SBGR|               LEMD|             AEA|     0057|2021-08-01 18:45:00|2021-08-01 20:02:00|    REALIZADO|\n",
            "|2021-08-12 05:25:00|2021-08-12 04:55:00|                0|                N/A|              X|                SBGR|               LEMD|             AEA|     0057|2021-08-11 18:45:00|2021-08-11 19:12:00|    REALIZADO|\n",
            "|2021-08-16 05:25:00|2021-08-16 04:43:00|                0|                N/A|              X|                SBGR|               LEMD|             AEA|     0057|2021-08-15 18:45:00|2021-08-15 19:15:00|    REALIZADO|\n",
            "|2021-08-23 05:25:00|2021-08-23 05:11:00|                0|                N/A|              X|                SBGR|               LEMD|             AEA|     0057|2021-08-22 18:45:00|2021-08-22 19:25:00|    REALIZADO|\n",
            "|2021-08-10 00:15:00|2021-08-09 23:39:00|                0|                N/A|              X|                LEMD|               SBGR|             AEA|     0058|2021-08-09 14:05:00|2021-08-09 14:29:00|    REALIZADO|\n",
            "|2021-08-24 00:15:00|               null|                0|                N/A|              I|                LEMD|               SBGR|             AEA|     0058|2021-08-23 14:05:00|               null|    CANCELADO|\n",
            "|2021-08-03 00:15:00|2021-08-03 00:26:00|                0|                N/A|              X|                LEMD|               SBGR|             AEA|     0058|2021-08-02 14:05:00|2021-08-02 14:22:00|    REALIZADO|\n",
            "|2021-08-17 00:15:00|2021-08-17 00:27:00|                0|                N/A|              X|                LEMD|               SBGR|             AEA|     0058|2021-08-16 14:05:00|2021-08-16 14:46:00|    REALIZADO|\n",
            "|2021-08-20 00:15:00|2021-08-20 00:11:00|                0|                N/A|              X|                LEMD|               SBGR|             AEA|     0058|2021-08-19 14:05:00|2021-08-19 14:34:00|    REALIZADO|\n",
            "|2021-08-13 00:15:00|2021-08-13 00:03:00|                0|                N/A|              X|                LEMD|               SBGR|             AEA|     0058|2021-08-12 14:05:00|2021-08-12 14:27:00|    REALIZADO|\n",
            "|2021-08-04 04:25:00|2021-08-04 04:46:00|                0|                N/A|              C|                SBEG|               SBBR|             MWM|     5800|2021-08-04 01:25:00|2021-08-04 01:27:00|    REALIZADO|\n",
            "|2021-08-05 04:25:00|2021-08-05 04:34:00|                0|                N/A|              C|                SBEG|               SBBR|             MWM|     5800|2021-08-05 01:25:00|2021-08-05 01:20:00|    REALIZADO|\n",
            "|2021-08-06 04:25:00|2021-08-06 05:13:00|                0|                N/A|              C|                SBEG|               SBBR|             MWM|     5800|2021-08-06 01:25:00|2021-08-06 01:58:00|    REALIZADO|\n",
            "|2021-08-31 00:15:00|2021-08-30 23:49:00|                0|                N/A|              X|                LEMD|               SBGR|             AEA|     0058|2021-08-30 14:05:00|2021-08-30 14:33:00|    REALIZADO|\n",
            "|2021-08-25 05:05:00|2021-08-25 05:09:00|                0|                N/A|              C|                SBEG|               SBBR|             MWM|     5800|2021-08-25 02:05:00|2021-08-25 01:58:00|    REALIZADO|\n",
            "+-------------------+-------------------+-----------------+-------------------+---------------+--------------------+-------------------+----------------+---------+-------------------+-------------------+-------------+\n",
            "only showing top 20 rows\n",
            "\n"
          ]
        }
      ]
    },
    {
      "cell_type": "code",
      "source": [
        "#Exibindo o schema\n",
        "df_vra_raw.printSchema()"
      ],
      "metadata": {
        "colab": {
          "base_uri": "https://localhost:8080/"
        },
        "id": "lT55H16P8xxG",
        "outputId": "a7754d93-0878-4c9f-e4e9-da32fa0ec82d"
      },
      "execution_count": 106,
      "outputs": [
        {
          "output_type": "stream",
          "name": "stdout",
          "text": [
            "root\n",
            " |-- ChegadaPrevista: string (nullable = true)\n",
            " |-- ChegadaReal: string (nullable = true)\n",
            " |-- CódigoAutorização: string (nullable = true)\n",
            " |-- CódigoJustificativa: string (nullable = true)\n",
            " |-- CódigoTipoLinha: string (nullable = true)\n",
            " |-- ICAOAeródromoDestino: string (nullable = true)\n",
            " |-- ICAOAeródromoOrigem: string (nullable = true)\n",
            " |-- ICAOEmpresaAérea: string (nullable = true)\n",
            " |-- NúmeroVoo: string (nullable = true)\n",
            " |-- PartidaPrevista: string (nullable = true)\n",
            " |-- PartidaReal: string (nullable = true)\n",
            " |-- SituaçãoVoo: string (nullable = true)\n",
            "\n"
          ]
        }
      ]
    },
    {
      "cell_type": "code",
      "source": [
        "#Renomeando as colunas para modo Snake Case\n",
        "df_vra_raw = (df_vra_raw \n",
        "                    .withColumnRenamed(\"ChegadaPrevista\",\"chegada_prevista\") \n",
        "                    .withColumnRenamed(\"ChegadaReal\",\"chegada_real\") \n",
        "                    .withColumnRenamed(\"CódigoAutorização\",\"codigo_autorizacao\") \n",
        "                    .withColumnRenamed(\"CódigoJustificativa\",\"codigo_justificativa\")\n",
        "                    .withColumnRenamed(\"CódigoTipoLinha\",\"codigo_tipo_linha\")\n",
        "                    .withColumnRenamed(\"ICAOAeródromoDestino\",\"icao_aerodromo_destino\")\n",
        "                    .withColumnRenamed(\"ICAOAeródromoOrigem\",\"icao_aerodromo_origem\")\n",
        "                    .withColumnRenamed(\"ICAOEmpresaAérea\",\"icao_empresa_aerea\")\n",
        "                    .withColumnRenamed(\"NúmeroVoo\",\"numero_voo\")\n",
        "                    .withColumnRenamed(\"PartidaPrevista\",\"partida_prevista\")\n",
        "                    .withColumnRenamed(\"PartidaReal\",\"partida_real\")\n",
        "                    .withColumnRenamed(\"SituaçãoVoo\",\"situacao_voo\")\n",
        "                    \n",
        "                    )"
      ],
      "metadata": {
        "id": "jhZa3IB99Pxu"
      },
      "execution_count": 107,
      "outputs": []
    },
    {
      "cell_type": "code",
      "source": [
        "#Exibindo dataframe após renomear as colunas\n",
        "df_vra_raw.show()"
      ],
      "metadata": {
        "colab": {
          "base_uri": "https://localhost:8080/"
        },
        "id": "yRSIlrkI9QDl",
        "outputId": "4c2d7903-7269-4e81-be66-220a29c61dd4"
      },
      "execution_count": 108,
      "outputs": [
        {
          "output_type": "stream",
          "name": "stdout",
          "text": [
            "+-------------------+-------------------+------------------+--------------------+-----------------+----------------------+---------------------+------------------+----------+-------------------+-------------------+-------------+\n",
            "|   chegada_prevista|       chegada_real|codigo_autorizacao|codigo_justificativa|codigo_tipo_linha|icao_aerodromo_destino|icao_aerodromo_origem|icao_empresa_aerea|numero_voo|   partida_prevista|       partida_real| situacao_voo|\n",
            "+-------------------+-------------------+------------------+--------------------+-----------------+----------------------+---------------------+------------------+----------+-------------------+-------------------+-------------+\n",
            "|2021-08-15 20:10:00|               null|                 0|                 N/A|                N|                  SBGR|                 SBGL|               IPM|      5555|2021-08-15 19:15:00|               null|NÃO INFORMADO|\n",
            "|2021-08-16 20:25:00|               null|                 0|                 N/A|                N|                  SBGR|                 SBGL|               IPM|      5555|2021-08-16 19:25:00|               null|NÃO INFORMADO|\n",
            "|2021-08-19 05:25:00|2021-08-19 04:51:00|                 0|                 N/A|                X|                  SBGR|                 LEMD|               AEA|      0057|2021-08-18 18:45:00|2021-08-18 19:19:00|    REALIZADO|\n",
            "|2021-08-09 05:25:00|2021-08-09 05:13:00|                 0|                 N/A|                X|                  SBGR|                 LEMD|               AEA|      0057|2021-08-08 18:45:00|2021-08-08 19:08:00|    REALIZADO|\n",
            "|2021-08-30 05:25:00|2021-08-30 04:59:00|                 0|                 N/A|                X|                  SBGR|                 LEMD|               AEA|      0057|2021-08-29 18:45:00|2021-08-29 18:54:00|    REALIZADO|\n",
            "|2021-08-02 05:25:00|2021-08-02 05:43:00|                 0|                 N/A|                X|                  SBGR|                 LEMD|               AEA|      0057|2021-08-01 18:45:00|2021-08-01 20:02:00|    REALIZADO|\n",
            "|2021-08-12 05:25:00|2021-08-12 04:55:00|                 0|                 N/A|                X|                  SBGR|                 LEMD|               AEA|      0057|2021-08-11 18:45:00|2021-08-11 19:12:00|    REALIZADO|\n",
            "|2021-08-16 05:25:00|2021-08-16 04:43:00|                 0|                 N/A|                X|                  SBGR|                 LEMD|               AEA|      0057|2021-08-15 18:45:00|2021-08-15 19:15:00|    REALIZADO|\n",
            "|2021-08-23 05:25:00|2021-08-23 05:11:00|                 0|                 N/A|                X|                  SBGR|                 LEMD|               AEA|      0057|2021-08-22 18:45:00|2021-08-22 19:25:00|    REALIZADO|\n",
            "|2021-08-10 00:15:00|2021-08-09 23:39:00|                 0|                 N/A|                X|                  LEMD|                 SBGR|               AEA|      0058|2021-08-09 14:05:00|2021-08-09 14:29:00|    REALIZADO|\n",
            "|2021-08-24 00:15:00|               null|                 0|                 N/A|                I|                  LEMD|                 SBGR|               AEA|      0058|2021-08-23 14:05:00|               null|    CANCELADO|\n",
            "|2021-08-03 00:15:00|2021-08-03 00:26:00|                 0|                 N/A|                X|                  LEMD|                 SBGR|               AEA|      0058|2021-08-02 14:05:00|2021-08-02 14:22:00|    REALIZADO|\n",
            "|2021-08-17 00:15:00|2021-08-17 00:27:00|                 0|                 N/A|                X|                  LEMD|                 SBGR|               AEA|      0058|2021-08-16 14:05:00|2021-08-16 14:46:00|    REALIZADO|\n",
            "|2021-08-20 00:15:00|2021-08-20 00:11:00|                 0|                 N/A|                X|                  LEMD|                 SBGR|               AEA|      0058|2021-08-19 14:05:00|2021-08-19 14:34:00|    REALIZADO|\n",
            "|2021-08-13 00:15:00|2021-08-13 00:03:00|                 0|                 N/A|                X|                  LEMD|                 SBGR|               AEA|      0058|2021-08-12 14:05:00|2021-08-12 14:27:00|    REALIZADO|\n",
            "|2021-08-04 04:25:00|2021-08-04 04:46:00|                 0|                 N/A|                C|                  SBEG|                 SBBR|               MWM|      5800|2021-08-04 01:25:00|2021-08-04 01:27:00|    REALIZADO|\n",
            "|2021-08-05 04:25:00|2021-08-05 04:34:00|                 0|                 N/A|                C|                  SBEG|                 SBBR|               MWM|      5800|2021-08-05 01:25:00|2021-08-05 01:20:00|    REALIZADO|\n",
            "|2021-08-06 04:25:00|2021-08-06 05:13:00|                 0|                 N/A|                C|                  SBEG|                 SBBR|               MWM|      5800|2021-08-06 01:25:00|2021-08-06 01:58:00|    REALIZADO|\n",
            "|2021-08-31 00:15:00|2021-08-30 23:49:00|                 0|                 N/A|                X|                  LEMD|                 SBGR|               AEA|      0058|2021-08-30 14:05:00|2021-08-30 14:33:00|    REALIZADO|\n",
            "|2021-08-25 05:05:00|2021-08-25 05:09:00|                 0|                 N/A|                C|                  SBEG|                 SBBR|               MWM|      5800|2021-08-25 02:05:00|2021-08-25 01:58:00|    REALIZADO|\n",
            "+-------------------+-------------------+------------------+--------------------+-----------------+----------------------+---------------------+------------------+----------+-------------------+-------------------+-------------+\n",
            "only showing top 20 rows\n",
            "\n"
          ]
        }
      ]
    },
    {
      "cell_type": "code",
      "source": [
        "#Realizando alteração nos tipos das colunas\n",
        "df_vra_raw = (df_vra_raw\n",
        "            .withColumn(\"chegada_prevista\", to_timestamp(\"chegada_prevista\", \"yyyy-MM-dd HH:mm:ss\"))\n",
        "            .withColumn(\"chegada_real\", to_timestamp(\"chegada_real\", \"yyyy-MM-dd HH:mm:ss\"))\n",
        "            .withColumn(\"partida_prevista\", to_timestamp(\"partida_prevista\", \"yyyy-MM-dd HH:mm:ss\"))\n",
        "            .withColumn(\"partida_real\", to_timestamp(\"partida_real\", \"yyyy-MM-dd HH:mm:ss\"))\n",
        "            )"
      ],
      "metadata": {
        "id": "R55-cjmj9QXc"
      },
      "execution_count": 109,
      "outputs": []
    },
    {
      "cell_type": "code",
      "source": [
        "#Exibindo schema após alteração\n",
        "df_vra_raw.printSchema()"
      ],
      "metadata": {
        "colab": {
          "base_uri": "https://localhost:8080/"
        },
        "id": "POhSX5KZ_BfZ",
        "outputId": "f0d247c9-8e98-40ce-b9b7-b21abe13eda5"
      },
      "execution_count": 110,
      "outputs": [
        {
          "output_type": "stream",
          "name": "stdout",
          "text": [
            "root\n",
            " |-- chegada_prevista: timestamp (nullable = true)\n",
            " |-- chegada_real: timestamp (nullable = true)\n",
            " |-- codigo_autorizacao: string (nullable = true)\n",
            " |-- codigo_justificativa: string (nullable = true)\n",
            " |-- codigo_tipo_linha: string (nullable = true)\n",
            " |-- icao_aerodromo_destino: string (nullable = true)\n",
            " |-- icao_aerodromo_origem: string (nullable = true)\n",
            " |-- icao_empresa_aerea: string (nullable = true)\n",
            " |-- numero_voo: string (nullable = true)\n",
            " |-- partida_prevista: timestamp (nullable = true)\n",
            " |-- partida_real: timestamp (nullable = true)\n",
            " |-- situacao_voo: string (nullable = true)\n",
            "\n"
          ]
        }
      ]
    },
    {
      "cell_type": "code",
      "source": [
        "#Exibindo dataframe após renomear as colunas\n",
        "df_vra_raw.show()"
      ],
      "metadata": {
        "colab": {
          "base_uri": "https://localhost:8080/"
        },
        "id": "o6xcT2BDA26e",
        "outputId": "44d9cf92-7ad5-439b-feb1-0c91a87cbb8f"
      },
      "execution_count": 111,
      "outputs": [
        {
          "output_type": "stream",
          "name": "stdout",
          "text": [
            "+-------------------+-------------------+------------------+--------------------+-----------------+----------------------+---------------------+------------------+----------+-------------------+-------------------+-------------+\n",
            "|   chegada_prevista|       chegada_real|codigo_autorizacao|codigo_justificativa|codigo_tipo_linha|icao_aerodromo_destino|icao_aerodromo_origem|icao_empresa_aerea|numero_voo|   partida_prevista|       partida_real| situacao_voo|\n",
            "+-------------------+-------------------+------------------+--------------------+-----------------+----------------------+---------------------+------------------+----------+-------------------+-------------------+-------------+\n",
            "|2021-08-15 20:10:00|               null|                 0|                 N/A|                N|                  SBGR|                 SBGL|               IPM|      5555|2021-08-15 19:15:00|               null|NÃO INFORMADO|\n",
            "|2021-08-16 20:25:00|               null|                 0|                 N/A|                N|                  SBGR|                 SBGL|               IPM|      5555|2021-08-16 19:25:00|               null|NÃO INFORMADO|\n",
            "|2021-08-19 05:25:00|2021-08-19 04:51:00|                 0|                 N/A|                X|                  SBGR|                 LEMD|               AEA|      0057|2021-08-18 18:45:00|2021-08-18 19:19:00|    REALIZADO|\n",
            "|2021-08-09 05:25:00|2021-08-09 05:13:00|                 0|                 N/A|                X|                  SBGR|                 LEMD|               AEA|      0057|2021-08-08 18:45:00|2021-08-08 19:08:00|    REALIZADO|\n",
            "|2021-08-30 05:25:00|2021-08-30 04:59:00|                 0|                 N/A|                X|                  SBGR|                 LEMD|               AEA|      0057|2021-08-29 18:45:00|2021-08-29 18:54:00|    REALIZADO|\n",
            "|2021-08-02 05:25:00|2021-08-02 05:43:00|                 0|                 N/A|                X|                  SBGR|                 LEMD|               AEA|      0057|2021-08-01 18:45:00|2021-08-01 20:02:00|    REALIZADO|\n",
            "|2021-08-12 05:25:00|2021-08-12 04:55:00|                 0|                 N/A|                X|                  SBGR|                 LEMD|               AEA|      0057|2021-08-11 18:45:00|2021-08-11 19:12:00|    REALIZADO|\n",
            "|2021-08-16 05:25:00|2021-08-16 04:43:00|                 0|                 N/A|                X|                  SBGR|                 LEMD|               AEA|      0057|2021-08-15 18:45:00|2021-08-15 19:15:00|    REALIZADO|\n",
            "|2021-08-23 05:25:00|2021-08-23 05:11:00|                 0|                 N/A|                X|                  SBGR|                 LEMD|               AEA|      0057|2021-08-22 18:45:00|2021-08-22 19:25:00|    REALIZADO|\n",
            "|2021-08-10 00:15:00|2021-08-09 23:39:00|                 0|                 N/A|                X|                  LEMD|                 SBGR|               AEA|      0058|2021-08-09 14:05:00|2021-08-09 14:29:00|    REALIZADO|\n",
            "|2021-08-24 00:15:00|               null|                 0|                 N/A|                I|                  LEMD|                 SBGR|               AEA|      0058|2021-08-23 14:05:00|               null|    CANCELADO|\n",
            "|2021-08-03 00:15:00|2021-08-03 00:26:00|                 0|                 N/A|                X|                  LEMD|                 SBGR|               AEA|      0058|2021-08-02 14:05:00|2021-08-02 14:22:00|    REALIZADO|\n",
            "|2021-08-17 00:15:00|2021-08-17 00:27:00|                 0|                 N/A|                X|                  LEMD|                 SBGR|               AEA|      0058|2021-08-16 14:05:00|2021-08-16 14:46:00|    REALIZADO|\n",
            "|2021-08-20 00:15:00|2021-08-20 00:11:00|                 0|                 N/A|                X|                  LEMD|                 SBGR|               AEA|      0058|2021-08-19 14:05:00|2021-08-19 14:34:00|    REALIZADO|\n",
            "|2021-08-13 00:15:00|2021-08-13 00:03:00|                 0|                 N/A|                X|                  LEMD|                 SBGR|               AEA|      0058|2021-08-12 14:05:00|2021-08-12 14:27:00|    REALIZADO|\n",
            "|2021-08-04 04:25:00|2021-08-04 04:46:00|                 0|                 N/A|                C|                  SBEG|                 SBBR|               MWM|      5800|2021-08-04 01:25:00|2021-08-04 01:27:00|    REALIZADO|\n",
            "|2021-08-05 04:25:00|2021-08-05 04:34:00|                 0|                 N/A|                C|                  SBEG|                 SBBR|               MWM|      5800|2021-08-05 01:25:00|2021-08-05 01:20:00|    REALIZADO|\n",
            "|2021-08-06 04:25:00|2021-08-06 05:13:00|                 0|                 N/A|                C|                  SBEG|                 SBBR|               MWM|      5800|2021-08-06 01:25:00|2021-08-06 01:58:00|    REALIZADO|\n",
            "|2021-08-31 00:15:00|2021-08-30 23:49:00|                 0|                 N/A|                X|                  LEMD|                 SBGR|               AEA|      0058|2021-08-30 14:05:00|2021-08-30 14:33:00|    REALIZADO|\n",
            "|2021-08-25 05:05:00|2021-08-25 05:09:00|                 0|                 N/A|                C|                  SBEG|                 SBBR|               MWM|      5800|2021-08-25 02:05:00|2021-08-25 01:58:00|    REALIZADO|\n",
            "+-------------------+-------------------+------------------+--------------------+-----------------+----------------------+---------------------+------------------+----------+-------------------+-------------------+-------------+\n",
            "only showing top 20 rows\n",
            "\n"
          ]
        }
      ]
    },
    {
      "cell_type": "markdown",
      "source": [
        "**Curiosidade:**\n",
        "\n",
        "Ao realizar a escrita de um arquivo parquet foi encontrado o erro: \n",
        "\n",
        "```\n",
        "You may get a different result due to the upgrading to Spark >= 3.0: \n",
        "writing dates before 1582-10-15 or timestamps before 1900-01-01T00:00:00Z\n",
        "```\n",
        "\n",
        "Esse erro normalmente ocorre devido a versão do Spark 3.0 ou > não possuir suporte a calendários de datas hibridos nos quais utilizam tanto o Gregoriano quanto o Juliano. Em específico nestes casos o Spark utiliza apenas o calendário Gregoriano no qual suporta datas maiores que 1900. Neste caso, um tratamento adicional será realizado, onde datas menores que 1900 serão substituídas por 1900.\n",
        "\n",
        "\n",
        "Fonte: https://www.roelpeters.be/spark-3-0-solve-error-the-dates-before-1582-10-15/"
      ],
      "metadata": {
        "id": "diUTmkc4JRhk"
      }
    },
    {
      "cell_type": "code",
      "source": [
        "df_vra_raw = (df_vra_raw\n",
        "              .withColumn(\"chegada_prevista\", when(col(\"chegada_prevista\") <= '1900-01-01', to_date(lit('1900-01-01'), 'yyyy-MM-dd')).otherwise(col(\"chegada_prevista\")))\n",
        "              .withColumn(\"chegada_real\", when(col(\"chegada_real\") <= '1900-01-01', to_date(lit('1900-01-01'), 'yyyy-MM-dd')).otherwise(col(\"chegada_real\")))\n",
        "              .withColumn(\"partida_prevista\", when(col(\"partida_prevista\") <= '1900-01-01', to_date(lit('1900-01-01'), 'yyyy-MM-dd')).otherwise(col(\"partida_prevista\")))\n",
        "              .withColumn(\"partida_real\", when(col(\"partida_real\") <= '1900-01-01', to_date(lit('1900-01-01'), 'yyyy-MM-dd')).otherwise(col(\"partida_real\")))\n",
        "              \n",
        "              )"
      ],
      "metadata": {
        "id": "23craadXJ-W8"
      },
      "execution_count": 112,
      "outputs": []
    },
    {
      "cell_type": "code",
      "source": [
        "#Gravando dados em camada trusted\n",
        "df_vra_raw.write.mode('overwrite').parquet(path_trusted + \"VRA/\")"
      ],
      "metadata": {
        "id": "CbCDbbRn_0Vf"
      },
      "execution_count": 113,
      "outputs": []
    },
    {
      "cell_type": "markdown",
      "source": [
        "## Realizando consumo da API https://rapidapi.com/Active-api/api/airport-info/"
      ],
      "metadata": {
        "id": "Gl3b3ohrEJPY"
      }
    },
    {
      "cell_type": "markdown",
      "source": [
        "O primeiro passo para realizar o  consumo, foi estudar o funcionamento da API através da sua documentação e visto que a API possui compatibilidade com diversas linguagens e métodos de consumos, foi utilizada a linguagem Python juntamente com a biblioteca Requests. "
      ],
      "metadata": {
        "id": "8rN_Dj43F5N2"
      }
    },
    {
      "cell_type": "markdown",
      "source": [
        "### Validando consumo de maneira estática"
      ],
      "metadata": {
        "id": "DoJq5GItGd2m"
      }
    },
    {
      "cell_type": "code",
      "source": [
        "#Realizando teste consumindo um valor fixo\n",
        "\n",
        "icao_teste = \"SBGR\"\n",
        "\n",
        "\n",
        "#Exemplo fornecido via documentação\n",
        "\n",
        "querystring = {\"icao\":icao_teste}\n",
        "\n",
        "url = \"https://airport-info.p.rapidapi.com/airport\"\n",
        "headers = {\n",
        "  \"X-RapidAPI-Host\": \"airport-info.p.rapidapi.com\",\n",
        "  \"X-RapidAPI-Key\": \"50f502021bmsh2f8a94665ca2054p10d43ajsnb2e1577f0da1\"\n",
        "}\n",
        "\n",
        "response = requests.request(\"GET\", url, headers=headers, params=querystring)\n",
        "\n",
        "print(response.text)"
      ],
      "metadata": {
        "colab": {
          "base_uri": "https://localhost:8080/"
        },
        "id": "gOItRlt7EICZ",
        "outputId": "98735886-8123-42a9-a65f-f8670f180f63"
      },
      "execution_count": 74,
      "outputs": [
        {
          "output_type": "stream",
          "name": "stdout",
          "text": [
            "{\"id\":2695,\"iata\":\"GRU\",\"icao\":\"SBGR\",\"name\":\"São Paulo–Guarulhos International Airport\",\"location\":\"São Paulo, Brazil\",\"street_number\":\"s/nº\",\"street\":\"Rod. Hélio Smidt\",\"city\":\"\",\"county\":\"Guarulhos\",\"state\":\"São Paulo\",\"country_iso\":\"BR\",\"country\":\"Brazil\",\"postal_code\":\"07190-100\",\"phone\":\"+55 11 2445-2945\",\"latitude\":-23.430573,\"longitude\":-46.47304,\"uct\":-180,\"website\":\"http://www.gru.com.br/\"}\n",
            "\n"
          ]
        }
      ]
    },
    {
      "cell_type": "markdown",
      "source": [
        "### Realizando consumo de maneira dinâmica"
      ],
      "metadata": {
        "id": "hPtOoSEIGh-g"
      }
    },
    {
      "cell_type": "code",
      "source": [
        "#Realizando a leitura do dataframe em parquet em camada trusted e selecionando apenas as colunas necessárias\n",
        "df_icao_origem = spark.read.parquet(path_trusted + \"VRA\").select(\"icao_aerodromo_origem\").distinct()\n",
        "df_icao_destino = spark.read.parquet(path_trusted + \"VRA\").select(\"icao_aerodromo_destino\").distinct()"
      ],
      "metadata": {
        "id": "bFjwrJIJGhqK"
      },
      "execution_count": 120,
      "outputs": []
    },
    {
      "cell_type": "code",
      "source": [
        "#Exibindo os dataframes\n",
        "df_icao_origem.show(5)\n",
        "df_icao_destino.show(5)"
      ],
      "metadata": {
        "colab": {
          "base_uri": "https://localhost:8080/"
        },
        "id": "YD6DeM5AGnB3",
        "outputId": "d1ef5e43-01c7-466c-952e-94a38fb8b7aa"
      },
      "execution_count": 122,
      "outputs": [
        {
          "output_type": "stream",
          "name": "stdout",
          "text": [
            "+---------------------+\n",
            "|icao_aerodromo_origem|\n",
            "+---------------------+\n",
            "|                 SBPS|\n",
            "|                 LFPG|\n",
            "|                 KATL|\n",
            "|                 SBIH|\n",
            "|                 EDDK|\n",
            "+---------------------+\n",
            "only showing top 5 rows\n",
            "\n",
            "+----------------------+\n",
            "|icao_aerodromo_destino|\n",
            "+----------------------+\n",
            "|                  LYBE|\n",
            "|                  SBPS|\n",
            "|                  LFPG|\n",
            "|                  KATL|\n",
            "|                  SBBU|\n",
            "+----------------------+\n",
            "only showing top 5 rows\n",
            "\n"
          ]
        }
      ]
    },
    {
      "cell_type": "code",
      "source": [
        "#Renomeando as colunas para o mesmo nome\n",
        "df_icao_origem = df_icao_origem.withColumnRenamed(\"icao_aerodromo_origem\", \"icao\")\n",
        "df_icao_destino = df_icao_destino.withColumnRenamed(\"icao_aerodromo_destino\", \"icao\")\n",
        "\n",
        "#Realizando union dos dataframes\n",
        "df_icaos = df_icao_origem.union(df_icao_destino).distinct()\n",
        "\n",
        "df_icaos.show(5)"
      ],
      "metadata": {
        "colab": {
          "base_uri": "https://localhost:8080/"
        },
        "id": "gZFq5U1ZGnUu",
        "outputId": "54489e5b-c619-4978-a225-6473235dfd87"
      },
      "execution_count": 138,
      "outputs": [
        {
          "output_type": "stream",
          "name": "stdout",
          "text": [
            "+----+\n",
            "|icao|\n",
            "+----+\n",
            "|SBPS|\n",
            "|LFPG|\n",
            "|KATL|\n",
            "|SBIH|\n",
            "|EDDK|\n",
            "+----+\n",
            "only showing top 5 rows\n",
            "\n"
          ]
        }
      ]
    },
    {
      "cell_type": "code",
      "source": [
        "#Criando lista com os icaos\n",
        "\n",
        "lista_icaos = []\n",
        "lista_icaos = [i.icao for i in df_icao_origem.select('icao').distinct().collect() ]\n",
        "\n",
        "\n",
        "#Com rdd a performance não é tão boa, deste modo, foi alterado para\n",
        "#lista_icaos = df_icao_origem.select(\"icao\").rdd.flatMap(lambda x: x).collect()"
      ],
      "metadata": {
        "id": "Uaf9Cs-wGoFQ"
      },
      "execution_count": 145,
      "outputs": []
    },
    {
      "cell_type": "markdown",
      "source": [
        "Agora que a lista com todos os códigos foi criada. Será elaborada uma função para percorrer todos os elementos da lista e realizar a requisição na API. "
      ],
      "metadata": {
        "id": "WlXtpnoTQCLK"
      }
    },
    {
      "cell_type": "code",
      "source": [
        "#Criando a função\n",
        "def fn_get_icao(icao):\n",
        "\n",
        "  url = \"https://airport-info.p.rapidapi.com/airport\"\n",
        "  headers = {\n",
        "    \"X-RapidAPI-Host\": \"airport-info.p.rapidapi.com\",\n",
        "    \"X-RapidAPI-Key\": \"50f502021bmsh2f8a94665ca2054p10d43ajsnb2e1577f0da1\"\n",
        "  }\n",
        "  querystring = {\"icao\":icao}\n",
        "  response = requests.request(\"GET\", url, headers=headers, params=querystring)\n",
        "\n",
        "  return response.text"
      ],
      "metadata": {
        "id": "V3koLuTxGobe"
      },
      "execution_count": 149,
      "outputs": []
    },
    {
      "cell_type": "code",
      "source": [
        "#Realizando as chamadas dinamicamente\n",
        "lista_coletada = []\n",
        "\n",
        "for i in lista_icaos:\n",
        "  lista_coletada.append(fn_get_icao(i))\n",
        "\n",
        "  #Aguardando 0.25 para realizar a próxima coleta\n",
        "  time.sleep(0.25)"
      ],
      "metadata": {
        "id": "K9RWzJZQGozf"
      },
      "execution_count": 155,
      "outputs": []
    },
    {
      "cell_type": "code",
      "source": [
        "#Visualizando se houveram retornos\n",
        "for i in lista_coletada:\n",
        "  print(i)"
      ],
      "metadata": {
        "colab": {
          "base_uri": "https://localhost:8080/"
        },
        "id": "laCzu_A7QVjX",
        "outputId": "863633eb-efac-454a-cd0c-5e35004c59f3"
      },
      "execution_count": 162,
      "outputs": [
        {
          "output_type": "stream",
          "name": "stdout",
          "text": [
            "{\"id\":908,\"iata\":\"BPS\",\"icao\":\"SBPS\",\"name\":\"Porto Seguro Airport\",\"location\":\"Porto Seguro, Bahia, Brazil\",\"street_number\":\"68\",\"street\":\"Rua Primeiro de Maio\",\"city\":\"\",\"county\":\"Porto Seguro\",\"state\":\"Bahia\",\"country_iso\":\"BR\",\"country\":\"Brazil\",\"postal_code\":\"45810-000\",\"phone\":\"+55 73 3288-1880\",\"latitude\":-16.439308,\"longitude\":-39.081562,\"uct\":-180,\"website\":\"http://www.aeroportoseguro.com.br/\"}\n",
            "\n",
            "{\"id\":1213,\"iata\":\"CDG\",\"icao\":\"LFPG\",\"name\":\"Charles de Gaulle Airport (Roissy Airport)\",\"location\":\"Paris, Île-de-France, France\",\"street_number\":\"\",\"street\":\"\",\"city\":\"Roissy-en-France\",\"county\":\"\",\"state\":\"Île-de-France\",\"country_iso\":\"FR\",\"country\":\"France\",\"postal_code\":\"95700\",\"phone\":\"+33 1 70 36 39 50\",\"latitude\":49.00969,\"longitude\":2.5479245,\"uct\":120,\"website\":\"http://www.parisaeroport.fr/\"}\n",
            "\n",
            "{\"id\":410,\"iata\":\"ATL\",\"icao\":\"KATL\",\"name\":\"Hartsfield–Jackson Atlanta International Airport\",\"location\":\"Atlanta, Georgia, United States\",\"street_number\":\"6000\",\"street\":\"North Terminal Parkway\",\"city\":\"Atlanta\",\"county\":\"\",\"state\":\"Georgia\",\"country_iso\":\"US\",\"country\":\"United States\",\"postal_code\":\"30320\",\"phone\":\"+1 800-897-1910\",\"latitude\":33.640728,\"longitude\":-84.427704,\"uct\":-240,\"website\":\"http://www.atl.com/\"}\n",
            "\n",
            "{\"id\":3301,\"iata\":\"ITB\",\"icao\":\"SBIH\",\"name\":\"Itaituba Airport\",\"location\":\"Itaituba, Pará, Brazil\",\"street_number\":\"\",\"street\":\"\",\"city\":\"\",\"county\":\"Itaituba\",\"state\":\"State of Pará\",\"country_iso\":\"BR\",\"country\":\"Brazil\",\"postal_code\":\"\",\"phone\":\"\",\"latitude\":-4.245743,\"longitude\":-56.006847,\"uct\":-180,\"website\":\"\"}\n",
            "\n",
            "{\"id\":1284,\"iata\":\"CGN\",\"icao\":\"EDDK\",\"name\":\"Cologne Bonn Airport\",\"location\":\"Cologne / Bonn, North Rhine-Westphalia, Germany\",\"street_number\":\"\",\"street\":\"Kennedystraße\",\"city\":\"Köln\",\"county\":\"Köln\",\"state\":\"Nordrhein-Westfalen\",\"country_iso\":\"DE\",\"country\":\"Germany\",\"postal_code\":\"51147\",\"phone\":\"+49 2203 404001\",\"latitude\":50.870716,\"longitude\":7.140734,\"uct\":120,\"website\":\"https://www.koeln-bonn-airport.de/\"}\n",
            "\n",
            "{\"error\":{\"text\":\"No airport found\"}}\n",
            "\n",
            "{\"id\":6811,\"iata\":\"SJK\",\"icao\":\"SBSJ\",\"name\":\"Professor Urbano Ernesto Stumpf Airport\",\"location\":\"São José dos Campos, São Paulo, Brazil\",\"street_number\":\"1941\",\"street\":\"Avenida Brigadeiro Faria Lima\",\"city\":\"\",\"county\":\"São José dos Campos\",\"state\":\"São Paulo\",\"country_iso\":\"BR\",\"country\":\"Brazil\",\"postal_code\":\"12227-000\",\"phone\":\"+55 12 3946-3000\",\"latitude\":-23.225304,\"longitude\":-45.861576,\"uct\":-180,\"website\":\"http://www.infraero.gov.br/\"}\n",
            "\n",
            "{\"id\":1857,\"iata\":\"DOH\",\"icao\":\"OTHH\",\"name\":\"Hamad International Airport\",\"location\":\"Doha, Qatar\",\"street_number\":\"\",\"street\":\"\",\"city\":\"Doha\",\"county\":\"\",\"state\":\"Doha\",\"country_iso\":\"QA\",\"country\":\"Qatar\",\"postal_code\":\"\",\"phone\":\"+974 4010 6666\",\"latitude\":25.260595,\"longitude\":51.613766,\"uct\":180,\"website\":\"http://www.dohahamadairport.com/\"}\n",
            "\n",
            "{\"id\":8322,\"iata\":\"XAP\",\"icao\":\"SBCH\",\"name\":\"Serafin Enoss Bertaso Airport\",\"location\":\"Chapecó, Santa Catarina, Brazil\",\"street_number\":\"4535D\",\"street\":\"Acesso Florenal Ribeiro\",\"city\":\"\",\"county\":\"Chapecó\",\"state\":\"Santa Catarina\",\"country_iso\":\"BR\",\"country\":\"Brazil\",\"postal_code\":\"89815-900\",\"phone\":\"+55 49 3322-1034\",\"latitude\":-27.134077,\"longitude\":-52.66066,\"uct\":-180,\"website\":\"http://www.chapeco.sc.gov.br/\"}\n",
            "\n",
            "{\"id\":1343,\"iata\":\"CJC\",\"icao\":\"SCCF\",\"name\":\"El Loa Airport\",\"location\":\"Calama, Chile\",\"street_number\":\"\",\"street\":\"\",\"city\":\"Calama\",\"county\":\"El Loa\",\"state\":\"Región de Antofagasta\",\"country_iso\":\"CL\",\"country\":\"Chile\",\"postal_code\":\"\",\"phone\":\"\",\"latitude\":-22.49511,\"longitude\":-68.907906,\"uct\":-180,\"website\":\"http://www.avis.cl/sucursal/calama\"}\n",
            "\n",
            "{\"id\":8132,\"iata\":\"WDH\",\"icao\":\"FYWH\",\"name\":\"Hosea Kutako International Airport\",\"location\":\"Windhoek, Namibia\",\"street_number\":\"\",\"street\":\"\",\"city\":\"\",\"county\":\"\",\"state\":\"Khomas Region\",\"country_iso\":\"NA\",\"country\":\"Namibia\",\"postal_code\":\"\",\"phone\":\"+264 61 295 5600\",\"latitude\":-22.484776,\"longitude\":17.470316,\"uct\":120,\"website\":\"http://www.airports.com.na/airports/hosea-kutako-international-airport/12/\"}\n",
            "\n",
            "{\"id\":1404,\"iata\":\"CMG\",\"icao\":\"SBCR\",\"name\":\"Corumbá International Airport\",\"location\":\"Corumbá, Mato Grosso do Sul, Brazil\",\"street_number\":\"S/n\",\"street\":\"Rua Santos Dumont\",\"city\":\"\",\"county\":\"Corumbá\",\"state\":\"Mato Grosso do Sul\",\"country_iso\":\"BR\",\"country\":\"Brazil\",\"postal_code\":\"79332-150\",\"phone\":\"+55 67 3231-3322\",\"latitude\":-19.013786,\"longitude\":-57.66343,\"uct\":-240,\"website\":\"http://www4.infraero.gov.br/aeroportos/aeroporto-internacional-de-corumba/\"}\n",
            "\n",
            "{\"error\":{\"text\":\"No airport found\"}}\n",
            "\n",
            "{\"error\":{\"text\":\"No airport found\"}}\n",
            "\n",
            "{\"id\":8981,\"iata\":\"ALT\",\"icao\":\"SDWQ\",\"name\":\"Alenquer Airport\",\"location\":\"Alenquer, Pará, Brazil\",\"street_number\":\"\",\"street\":\"Alameda das Comunidades Portuguesas\",\"city\":\"Alenquer\",\"county\":\"\",\"state\":\"Pará\",\"country_iso\":\"BR\",\"country\":\"Brazil\",\"postal_code\":\"\",\"phone\":\"\",\"latitude\":-1.93889,\"longitude\":-54.7472,\"uct\":-240,\"website\":\"\"}\n",
            "\n",
            "{\"id\":7845,\"iata\":\"URG\",\"icao\":\"SBUG\",\"name\":\"Rubem Berta International Airport\",\"location\":\"Uruguaiana, Rio Grande do Sul, Brazil\",\"street_number\":\"s/n\",\"street\":\"Acesso Marechal Setembrino de Carvalho\",\"city\":\"\",\"county\":\"Uruguaiana\",\"state\":\"Rio Grande do Sul\",\"country_iso\":\"BR\",\"country\":\"Brazil\",\"postal_code\":\"97513-780\",\"phone\":\"+55 55 3413-1314\",\"latitude\":-29.783995,\"longitude\":-57.0357,\"uct\":-180,\"website\":\"http://www4.infraero.gov.br/aeroportos/aeroporto-internacional-de-uruguaiana-rubem-berta/\"}\n",
            "\n",
            "{\"id\":277,\"iata\":\"ANC\",\"icao\":\"PANC\",\"name\":\"Ted Stevens Anchorage International Airport\",\"location\":\"Anchorage, Alaska, United States\",\"street_number\":\"5000\",\"street\":\"West International Airport Road\",\"city\":\"Anchorage\",\"county\":\"Anchorage\",\"state\":\"Alaska\",\"country_iso\":\"US\",\"country\":\"United States\",\"postal_code\":\"99502\",\"phone\":\"+1 907-266-2526\",\"latitude\":61.175888,\"longitude\":-149.99008,\"uct\":-480,\"website\":\"http://dot.state.ak.us/anc/\"}\n",
            "\n",
            "{\"id\":431,\"iata\":\"AUH\",\"icao\":\"OMAA\",\"name\":\"Abu Dhabi International Airport\",\"location\":\"Abu Dhabi, United Arab Emirates\",\"street_number\":\"\",\"street\":\"\",\"city\":\"Abu Dhabi\",\"county\":\"\",\"state\":\"Abu Dhabi\",\"country_iso\":\"AE\",\"country\":\"United Arab Emirates\",\"postal_code\":\"\",\"phone\":\"+971 2 505 5555\",\"latitude\":24.441938,\"longitude\":54.650074,\"uct\":240,\"website\":\"http://www.abudhabiairport.ae/\"}\n",
            "\n",
            "{\"id\":8988,\"iata\":\"NAT\",\"icao\":\"SBSG\",\"name\":\"São Gonçalo do Amarante–Governador Aluízio Alves International Airport\",\"location\":\"Natal, Rio Grande do Norte, Brazil\",\"street_number\":\"\",\"street\":\"\",\"city\":\"\",\"county\":\"São Gonçalo do Amarante\",\"state\":\"Rio Grande do Norte\",\"country_iso\":\"BR\",\"country\":\"Brazil\",\"postal_code\":\"59290-000\",\"phone\":\"+55 84 3343-6060\",\"latitude\":-5.7679067,\"longitude\":-35.364033,\"uct\":-180,\"website\":\"http://www.natal.aero/\"}\n",
            "\n",
            "{\"error\":{\"text\":\"No airport found\"}}\n",
            "\n",
            "{\"id\":2279,\"iata\":\"FEN\",\"icao\":\"SBFN\",\"name\":\"Fernando de Noronha Airport (Gov. Carlos Wilson Airport)\",\"location\":\"Fernando de Noronha, Pernambuco, Brazil\",\"street_number\":\"\",\"street\":\"\",\"city\":\"\",\"county\":\"Fernando de Noronha\",\"state\":\"State of Pernambuco\",\"country_iso\":\"BR\",\"country\":\"Brazil\",\"postal_code\":\"53990-000\",\"phone\":\"\",\"latitude\":-3.8546145,\"longitude\":-32.424385,\"uct\":-120,\"website\":\"\"}\n",
            "\n",
            "{\"error\":{\"text\":\"No airport found\"}}\n",
            "\n",
            "{\"id\":4095,\"iata\":\"LDB\",\"icao\":\"SBLO\",\"name\":\"Londrina–Governador José Richa Airport\",\"location\":\"Londrina, Paraná, Brazil\",\"street_number\":\"300\",\"street\":\"Rua Tenente João Maurício Medeiros\",\"city\":\"\",\"county\":\"Londrina\",\"state\":\"Paraná\",\"country_iso\":\"BR\",\"country\":\"Brazil\",\"postal_code\":\"86039-100\",\"phone\":\"+55 43 3027-9000\",\"latitude\":-23.328579,\"longitude\":-51.13799,\"uct\":-180,\"website\":\"http://www4.infraero.gov.br/aeroportos/aeroporto-de-londrina-governador-jose-richa/\"}\n",
            "\n",
            "{\"id\":3297,\"iata\":\"IST\",\"icao\":\"LTBA\",\"name\":\"Istanbul Atatürk Airport\",\"location\":\"Istanbul, Turkey\",\"street_number\":\"\",\"street\":\"\",\"city\":\"\",\"county\":\"Bakırköy\",\"state\":\"Istanbul\",\"country_iso\":\"TR\",\"country\":\"Turkey\",\"postal_code\":\"34149\",\"phone\":\"+90 212 463 30 00\",\"latitude\":40.98299,\"longitude\":28.810442,\"uct\":180,\"website\":\"http://www.ataturkairport.com/\"}\n",
            "\n",
            "{\"id\":1028,\"iata\":\"BVB\",\"icao\":\"SBBV\",\"name\":\"Boa Vista International Airport\",\"location\":\"Boa Vista, Roraima, Brazil\",\"street_number\":\"\",\"street\":\"\",\"city\":\"\",\"county\":\"Boa Vista\",\"state\":\"State of Roraima\",\"country_iso\":\"BR\",\"country\":\"Brazil\",\"postal_code\":\"\",\"phone\":\"+55 95 3198-0144\",\"latitude\":2.8419237,\"longitude\":-60.69259,\"uct\":-240,\"website\":\"http://www.infraero.gov.br/\"}\n",
            "\n",
            "{\"id\":6778,\"iata\":\"SID\",\"icao\":\"GVAC\",\"name\":\"Amílcar Cabral International Airport\",\"location\":\"Sal, Cape Verde\",\"street_number\":\"\",\"street\":\"Aeroporto Internacional Amílcar Cabral\",\"city\":\"Espargos\",\"county\":\"\",\"state\":\"Sal\",\"country_iso\":\"CV\",\"country\":\"Cape Verde\",\"postal_code\":\"4110\",\"phone\":\"+238 241 14 68\",\"latitude\":16.73458,\"longitude\":-22.943975,\"uct\":-60,\"website\":\"http://www.asa.cv/index.php?option=com_content\\u0026view=article\\u0026id=137\\u0026Itemid=58\"}\n",
            "\n",
            "{\"id\":7818,\"iata\":\"UNA\",\"icao\":\"SBTC\",\"name\":\"Una-Comandatuba Airport\",\"location\":\"Una / Comandatuba Island, Bahia, Brazil\",\"street_number\":\"\",\"street\":\"\",\"city\":\"\",\"county\":\"Una\",\"state\":\"State of Bahia\",\"country_iso\":\"BR\",\"country\":\"Brazil\",\"postal_code\":\"45690-000\",\"phone\":\"\",\"latitude\":-15.357702,\"longitude\":-38.9957,\"uct\":-180,\"website\":\"\"}\n",
            "\n",
            "{\"id\":6269,\"iata\":\"RAO\",\"icao\":\"SBRP\",\"name\":\"Leite Lopes Airport\",\"location\":\"Ribeirão Preto, São Paulo, Brazil\",\"street_number\":\"\",\"street\":\"Avenida Thomaz Alberto Whately\",\"city\":\"\",\"county\":\"Ribeirão Preto\",\"state\":\"São Paulo\",\"country_iso\":\"BR\",\"country\":\"Brazil\",\"postal_code\":\"14075-390\",\"phone\":\"+55 16 3626-3376\",\"latitude\":-21.139164,\"longitude\":-47.77657,\"uct\":-180,\"website\":\"http://www.daesp.sp.gov.br/aeroporto-detalhe/?id=883\"}\n",
            "\n",
            "{\"id\":852,\"iata\":\"BNE\",\"icao\":\"YBBN\",\"name\":\"Brisbane Airport\",\"location\":\"Brisbane, Queensland, Australia\",\"street_number\":\"11\",\"street\":\"The Circuit\",\"city\":\"Brisbane Airport\",\"county\":\"Brisbane City\",\"state\":\"Queensland\",\"country_iso\":\"AU\",\"country\":\"Australia\",\"postal_code\":\"4008\",\"phone\":\"+61 7 3406 3000\",\"latitude\":-27.394215,\"longitude\":153.12183,\"uct\":600,\"website\":\"http://www.bne.com.au/\"}\n",
            "\n",
            "{\"id\":4064,\"iata\":\"LBR\",\"icao\":\"SWLB\",\"name\":\"Lábrea Airport\",\"location\":\"Lábrea, Amazonas, Brazil\",\"street_number\":\"\",\"street\":\"\",\"city\":\"\",\"county\":\"Lábrea\",\"state\":\"Amazonas\",\"country_iso\":\"BR\",\"country\":\"Brazil\",\"postal_code\":\"69830-000\",\"phone\":\"\",\"latitude\":-7.2824507,\"longitude\":-64.77184,\"uct\":-240,\"website\":\"\"}\n",
            "\n",
            "{\"id\":3473,\"iata\":\"JPA\",\"icao\":\"SBJP\",\"name\":\"Presidente Castro Pinto International Airport\",\"location\":\"João Pessoa, Paraíba, Brazil\",\"street_number\":\"s/n\",\"street\":\"Aeroporto Internacional Presidente Castro Pinto\",\"city\":\"\",\"county\":\"João Pessoa\",\"state\":\"Paraíba\",\"country_iso\":\"BR\",\"country\":\"Brazil\",\"postal_code\":\"58308-901\",\"phone\":\"+55 83 3041-4200\",\"latitude\":-7.146009,\"longitude\":-34.948776,\"uct\":-180,\"website\":\"http://www4.infraero.gov.br/aeroportos/aeroporto-internacional-de-joao-pessoa-presidente-castro-pinto/\"}\n",
            "\n",
            "{\"id\":1956,\"iata\":\"DXB\",\"icao\":\"OMDB\",\"name\":\"Dubai International Airport\",\"location\":\"Dubai, United Arab Emirates\",\"street_number\":\"\",\"street\":\"\",\"city\":\"Dubai\",\"county\":\"\",\"state\":\"Dubai\",\"country_iso\":\"AE\",\"country\":\"United Arab Emirates\",\"postal_code\":\"\",\"phone\":\"+971 4 224 5555\",\"latitude\":25.253174,\"longitude\":55.365673,\"uct\":240,\"website\":\"http://www.dubaiairports.ae/\"}\n",
            "\n",
            "{\"id\":4597,\"iata\":\"MEL\",\"icao\":\"YMML\",\"name\":\"Melbourne Airport\",\"location\":\"Melbourne, Victoria, Australia\",\"street_number\":\"\",\"street\":\"Departure Dr\",\"city\":\"Melbourne Airport\",\"county\":\"Hume City\",\"state\":\"Victoria\",\"country_iso\":\"AU\",\"country\":\"Australia\",\"postal_code\":\"3045\",\"phone\":\"+61 3 9297 1600\",\"latitude\":-37.669014,\"longitude\":144.84103,\"uct\":660,\"website\":\"http://www.melbourneairport.com.au/\"}\n",
            "\n",
            "{\"id\":4561,\"iata\":\"MCZ\",\"icao\":\"SBMO\",\"name\":\"Zumbi dos Palmares International Airport\",\"location\":\"Maceió, Alagoas, Brazil\",\"street_number\":\"104\",\"street\":\"Rodovia BR\",\"city\":\"\",\"county\":\"Rio Largo\",\"state\":\"Alagoas\",\"country_iso\":\"BR\",\"country\":\"Brazil\",\"postal_code\":\"57100-971\",\"phone\":\"+55 82 3036-5200\",\"latitude\":-9.511861,\"longitude\":-35.793182,\"uct\":-180,\"website\":\"http://www4.infraero.gov.br/\"}\n",
            "\n",
            "{\"id\":7019,\"iata\":\"SSA\",\"icao\":\"SBSV\",\"name\":\"Deputado Luís Eduardo Magalhães International Airport\",\"location\":\"Salvador, Bahia, Brazil\",\"street_number\":\"\",\"street\":\"\",\"city\":\"\",\"county\":\"Salvador\",\"state\":\"Bahia\",\"country_iso\":\"BR\",\"country\":\"Brazil\",\"postal_code\":\"41520-970\",\"phone\":\"+55 71 3204-1010\",\"latitude\":-12.911098,\"longitude\":-38.33124,\"uct\":-180,\"website\":\"http://www4.infraero.gov.br/aeroportos/aeroporto-internacional-de-salvador-dep-luis-eduardo-magalhaes\"}\n",
            "\n",
            "{\"id\":7679,\"iata\":\"TXF\",\"icao\":\"SNTF\",\"name\":\"Teixeira de Freitas Airport (9 de maio Airport)\",\"location\":\"Teixeira de Freitas, Bahia, Brazil\",\"street_number\":\"\",\"street\":\"Rua Santo Antônio\",\"city\":\"\",\"county\":\"Teixeira de Freitas\",\"state\":\"Bahia\",\"country_iso\":\"BR\",\"country\":\"Brazil\",\"postal_code\":\"45320-000\",\"phone\":\"+55 71 99670-9061\",\"latitude\":-17.522982,\"longitude\":-39.66908,\"uct\":-180,\"website\":\"https://www.facebook.com/aeroportodeteixeiradefreitas\"}\n",
            "\n",
            "{\"id\":4500,\"iata\":\"MAO\",\"icao\":\"SBEG\",\"name\":\"Eduardo Gomes International Airport\",\"location\":\"Manaus, Amazonas, Brazil\",\"street_number\":\"1350\",\"street\":\"Av. Santos Dumont\",\"city\":\"\",\"county\":\"Manaus\",\"state\":\"Amazonas\",\"country_iso\":\"BR\",\"country\":\"Brazil\",\"postal_code\":\"69041-000\",\"phone\":\"+55 92 3652-1210\",\"latitude\":-3.0358474,\"longitude\":-60.046326,\"uct\":-240,\"website\":\"http://www4.infraero.gov.br/aeroportos/aeroporto-internacional-de-manaus-eduardo-gomes/\"}\n",
            "\n",
            "{\"id\":2817,\"iata\":\"HAV\",\"icao\":\"MUHA\",\"name\":\"José Martí International Airport\",\"location\":\"Havana, Cuba\",\"street_number\":\"\",\"street\":\"Avenida Rancho Boyeros\",\"city\":\"La Habana\",\"county\":\"Boyeros\",\"state\":\"\",\"country_iso\":\"CU\",\"country\":\"Cuba\",\"postal_code\":\"\",\"phone\":\"+53 7 2664644\",\"latitude\":22.991543,\"longitude\":-82.41008,\"uct\":-240,\"website\":\"https://www.ecured.cu/Aeropuerto_Internacional_Jos%C3%A9_Mart%C3%AD\"}\n",
            "\n",
            "{\"id\":1340,\"iata\":\"CIZ\",\"icao\":\"SWKO\",\"name\":\"Coari Airport\",\"location\":\"Coari, Amazonas, Brazil\",\"street_number\":\"\",\"street\":\"\",\"city\":\"\",\"county\":\"Coari\",\"state\":\"State of Amazonas\",\"country_iso\":\"BR\",\"country\":\"Brazil\",\"postal_code\":\"69460-000\",\"phone\":\"\",\"latitude\":-4.88428,\"longitude\":-65.349144,\"uct\":-240,\"website\":\"\"}\n",
            "\n",
            "{\"error\":{\"text\":\"No airport found\"}}\n",
            "\n",
            "{\"id\":2912,\"iata\":\"HKG\",\"icao\":\"VHHH\",\"name\":\"Hong Kong International Airport (Chek Lap Kok Airport)\",\"location\":\"Hong Kong\",\"street_number\":\"1\",\"street\":\"Sky Plaza Road\",\"city\":\"\",\"county\":\"\",\"state\":\"New Territories\",\"country_iso\":\"HK\",\"country\":\"Hong Kong\",\"postal_code\":\"\",\"phone\":\"+852 2181 8888\",\"latitude\":22.308046,\"longitude\":113.91848,\"uct\":480,\"website\":\"http://www.hongkongairport.com/\"}\n",
            "\n",
            "{\"id\":2810,\"iata\":\"HAN\",\"icao\":\"VVNB\",\"name\":\"Noi Bai International Airport\",\"location\":\"Hanoi, Vietnam\",\"street_number\":\"\",\"street\":\"\",\"city\":\"\",\"county\":\"Sóc Sơn\",\"state\":\"Hà Nội\",\"country_iso\":\"VN\",\"country\":\"Vietnam\",\"postal_code\":\"\",\"phone\":\"+84 438865047\",\"latitude\":21.218716,\"longitude\":105.80417,\"uct\":420,\"website\":\"http://vietnamairport.vn/page/69/cang-hang-khong-san-bay/cang-hang-khong-quoc-te-noi-bai\"}\n",
            "\n",
            "{\"id\":8338,\"iata\":\"XCR\",\"icao\":\"LFOK\",\"name\":\"Châlons Vatry Airport\",\"location\":\"Châlons-en-Champagne, Champagne-Ardenne, France\",\"street_number\":\"\",\"street\":\"Rue Louis Blériot\",\"city\":\"Bussy-Lettrée\",\"county\":\"Marne\",\"state\":\"Grand Est\",\"country_iso\":\"FR\",\"country\":\"France\",\"postal_code\":\"51320\",\"phone\":\"+33 3 26 64 82 00\",\"latitude\":48.780754,\"longitude\":4.189277,\"uct\":120,\"website\":\"https://www.parisvatry.com/\"}\n",
            "\n",
            "{\"id\":5666,\"iata\":\"ORX\",\"icao\":\"SNOX\",\"name\":\"Oriximiná Airport\",\"location\":\"Oriximiná, Pará, Brazil\",\"street_number\":\"\",\"street\":\"Rua Barão do Rio Branco\",\"city\":\"\",\"county\":\"Oriximiná\",\"state\":\"Pará\",\"country_iso\":\"BR\",\"country\":\"Brazil\",\"postal_code\":\"68270-000\",\"phone\":\"\",\"latitude\":-1.4855014,\"longitude\":-56.390137,\"uct\":-180,\"website\":\"\"}\n",
            "\n",
            "{\"id\":4606,\"iata\":\"MEU\",\"icao\":\"SBMD\",\"name\":\"Serra do Areão Airport\",\"location\":\"Monte Dourado, Pará, Brazil\",\"street_number\":\"\",\"street\":\"\",\"city\":\"\",\"county\":\"Almeirim\",\"state\":\"State of Pará\",\"country_iso\":\"BR\",\"country\":\"Brazil\",\"postal_code\":\"68230-000\",\"phone\":\"\",\"latitude\":-0.8882582,\"longitude\":-52.599552,\"uct\":-180,\"website\":\"\"}\n",
            "\n",
            "{\"error\":{\"text\":\"No airport found\"}}\n",
            "\n",
            "{\"id\":199,\"iata\":\"AJU\",\"icao\":\"SBAR\",\"name\":\"Santa Maria Airport\",\"location\":\"Aracaju, Sergipe, Brazil\",\"street_number\":\"3249\",\"street\":\"Terminal Drive\",\"city\":\"Santa Maria\",\"county\":\"Santa Barbara County\",\"state\":\"California\",\"country_iso\":\"US\",\"country\":\"United States\",\"postal_code\":\"93455\",\"phone\":\"+1 805-922-1726\",\"latitude\":34.89914,\"longitude\":-120.44778,\"uct\":-420,\"website\":\"http://www.santamariaairport.com/\"}\n",
            "\n",
            "{\"id\":5922,\"iata\":\"PIN\",\"icao\":\"SWPI\",\"name\":\"Júlio Belém Airport\",\"location\":\"Parintins, Amazonas, Brazil\",\"street_number\":\"1\",\"street\":\"Estr. Odovaldo Novo\",\"city\":\"\",\"county\":\"Parintins\",\"state\":\"Amazonas\",\"country_iso\":\"BR\",\"country\":\"Brazil\",\"postal_code\":\"69152-470\",\"phone\":\"+55 92 3533-2700\",\"latitude\":-2.669512,\"longitude\":-56.76967,\"uct\":-240,\"website\":\"\"}\n",
            "\n",
            "{\"id\":7325,\"iata\":\"TFF\",\"icao\":\"SBTF\",\"name\":\"Tefé Airport\",\"location\":\"Tefé, Amazonas, Brazil\",\"street_number\":\"\",\"street\":\"\",\"city\":\"Tefé\",\"county\":\"Tefé\",\"state\":\"Amazonas\",\"country_iso\":\"BR\",\"country\":\"Brazil\",\"postal_code\":\"69470-000\",\"phone\":\"\",\"latitude\":-3.380402,\"longitude\":-64.7251,\"uct\":-240,\"website\":\"http://www4.infraero.gov.br/aeroportos/aeroporto-de-tefe/\"}\n",
            "\n",
            "{\"id\":3020,\"iata\":\"HSV\",\"icao\":\"KHSV\",\"name\":\"Huntsville International Airport (Carl T. Jones Field)\",\"location\":\"Huntsville, Alabama, United States\",\"street_number\":\"1000\",\"street\":\"Glenn Hearn Boulevard Southwest\",\"city\":\"Huntsville\",\"county\":\"Madison County\",\"state\":\"Alabama\",\"country_iso\":\"US\",\"country\":\"United States\",\"postal_code\":\"35824\",\"phone\":\"+1 256-772-9395\",\"latitude\":34.64033,\"longitude\":-86.77569,\"uct\":-300,\"website\":\"http://www.hsvairport.org/\"}\n",
            "\n",
            "{\"id\":4181,\"iata\":\"LHR\",\"icao\":\"EGLL\",\"name\":\"Heathrow Airport\",\"location\":\"London, England, United Kingdom\",\"street_number\":\"\",\"street\":\"\",\"city\":\"Longford\",\"county\":\"Greater London\",\"state\":\"England\",\"country_iso\":\"GB\",\"country\":\"United Kingdom\",\"postal_code\":\"\",\"phone\":\"+44 844 335 1801\",\"latitude\":51.470024,\"longitude\":-0.4542955,\"uct\":60,\"website\":\"http://www.heathrow.com/\"}\n",
            "\n",
            "{\"error\":{\"text\":\"No airport found\"}}\n",
            "\n",
            "{\"id\":3491,\"iata\":\"JTC\",\"icao\":\"SBAE\",\"name\":\"Moussa Nakhl Tobias–Bauru/Arealva State Airport\",\"location\":\"Bauru, São Paulo, Brazil\",\"street_number\":\"km 5,5\",\"street\":\"Estrada Municipal Murilo Vilaça Maringoni\",\"city\":\"\",\"county\":\"Bauru\",\"state\":\"São Paulo\",\"country_iso\":\"BR\",\"country\":\"Brazil\",\"postal_code\":\"17022-895\",\"phone\":\"+55 14 3277-6633\",\"latitude\":-22.165993,\"longitude\":-49.07217,\"uct\":-180,\"website\":\"http://www.daesp.sp.gov.br/aeroporto-detalhe/?id=851\"}\n",
            "\n",
            "{\"id\":5861,\"iata\":\"PET\",\"icao\":\"SBPK\",\"name\":\"João Simões Lopes Neto International Airport\",\"location\":\"Pelotas, Rio Grande do Sul, Brazil\",\"street_number\":\"S/n\",\"street\":\"Avenida Zeferino Costa\",\"city\":\"\",\"county\":\"Pelotas\",\"state\":\"Rio Grande do Sul\",\"country_iso\":\"BR\",\"country\":\"Brazil\",\"postal_code\":\"96070-480\",\"phone\":\"+55 53 3223-1227\",\"latitude\":-31.715822,\"longitude\":-52.33069,\"uct\":-180,\"website\":\"http://www.infraero.gov.br/\"}\n",
            "\n",
            "{\"id\":4133,\"iata\":\"LET\",\"icao\":\"SKLT\",\"name\":\"Alfredo Vásquez Cobo International Airport\",\"location\":\"Leticia, Colombia\",\"street_number\":\"\",\"street\":\"Avenida Vasquez Cobo\",\"city\":\"\",\"county\":\"Leticia\",\"state\":\"Amazonas\",\"country_iso\":\"CO\",\"country\":\"Colombia\",\"postal_code\":\"\",\"phone\":\"\",\"latitude\":-4.1911407,\"longitude\":-69.941414,\"uct\":-240,\"website\":\"\"}\n",
            "\n",
            "{\"id\":3166,\"iata\":\"IGU\",\"icao\":\"SBFI\",\"name\":\"Foz do Iguaçu International Airport\",\"location\":\"Foz do Iguaçu, Paraná, Brazil\",\"street_number\":\"\",\"street\":\"\",\"city\":\"\",\"county\":\"Foz do Iguaçu\",\"state\":\"Paraná\",\"country_iso\":\"BR\",\"country\":\"Brazil\",\"postal_code\":\"85863-900\",\"phone\":\"+55 45 3521-4200\",\"latitude\":-25.59771,\"longitude\":-54.488514,\"uct\":-180,\"website\":\"http://www4.infraero.gov.br/aeroportos/aeroporto-internacional-de-foz-do-iguacu-cataratas/contato/\"}\n",
            "\n",
            "{\"id\":3434,\"iata\":\"JJG\",\"icao\":\"SBJA\",\"name\":\"Humberto Ghizzo Bortoluzzi Regional Airport\",\"location\":\"Jaguaruna, Santa Catarina, Brazil\",\"street_number\":\"\",\"street\":\"\",\"city\":\"\",\"county\":\"Jaguaruna\",\"state\":\"Santa Catarina\",\"country_iso\":\"BR\",\"country\":\"Brazil\",\"postal_code\":\"88715-000\",\"phone\":\"+55 48 3624-8824\",\"latitude\":-28.676765,\"longitude\":-49.066345,\"uct\":-180,\"website\":\"http://www.rdlaeroportos.com.br/\"}\n",
            "\n",
            "{\"id\":953,\"iata\":\"BSB\",\"icao\":\"SBBR\",\"name\":\"Brasília International Airport (Presidente J. Kubitschek Int'l Airport)\",\"location\":\"Brasília, Distrito Federal, Brazil\",\"street_number\":\"\",\"street\":\"Lago Sul\",\"city\":\"\",\"county\":\"Brasília\",\"state\":\"Distrito Federal\",\"country_iso\":\"BR\",\"country\":\"Brazil\",\"postal_code\":\"71608-900\",\"phone\":\"+55 61 3364-9000\",\"latitude\":-15.869737,\"longitude\":-47.917236,\"uct\":-180,\"website\":\"http://www.bsb.aero/\"}\n",
            "\n",
            "{\"id\":4317,\"iata\":\"LPB\",\"icao\":\"SLLP\",\"name\":\"El Alto International Airport\",\"location\":\"La Paz, Bolivia\",\"street_number\":\"\",\"street\":\"\",\"city\":\"El Alto\",\"county\":\"\",\"state\":\"La Paz Department\",\"country_iso\":\"BO\",\"country\":\"Bolivia\",\"postal_code\":\"\",\"phone\":\"+591 2 2157300\",\"latitude\":-16.510248,\"longitude\":-68.18829,\"uct\":-240,\"website\":\"\"}\n",
            "\n",
            "{\"id\":2886,\"iata\":\"HHN\",\"icao\":\"EDFH\",\"name\":\"Frankfurt–Hahn Airport\",\"location\":\"Hahn, Rhineland-Palatinate, Germany\",\"street_number\":\"\",\"street\":\"\",\"city\":\"Hahn-Flughafen\",\"county\":\"\",\"state\":\"Rheinland-Pfalz\",\"country_iso\":\"DE\",\"country\":\"Germany\",\"postal_code\":\"55483\",\"phone\":\"+49 6543 509113\",\"latitude\":49.9429,\"longitude\":7.262953,\"uct\":120,\"website\":\"http://www.hahn-airport.de/\"}\n",
            "\n",
            "{\"id\":4609,\"iata\":\"MEX\",\"icao\":\"MMMX\",\"name\":\"Mexico City International Airport\",\"location\":\"Mexico City, Mexico\",\"street_number\":\"S/N\",\"street\":\"Av Capitan Carlos León\",\"city\":\"Ciudad de México\",\"county\":\"\",\"state\":\"Ciudad de México\",\"country_iso\":\"MX\",\"country\":\"Mexico\",\"postal_code\":\"15620\",\"phone\":\"+52 55 2482 2400\",\"latitude\":19.436077,\"longitude\":-99.07191,\"uct\":-300,\"website\":\"http://www.aicm.com.mx/\"}\n",
            "\n",
            "{\"error\":{\"text\":\"No airport found\"}}\n",
            "\n",
            "{\"id\":5426,\"iata\":\"NVT\",\"icao\":\"SBNF\",\"name\":\"Navegantes–Ministro Victor Konder International Airport\",\"location\":\"Navegantes, Santa Catarina, Brazil\",\"street_number\":\"1297\",\"street\":\"Rua Osmar Gaya\",\"city\":\"\",\"county\":\"Navegantes\",\"state\":\"Santa Catarina\",\"country_iso\":\"BR\",\"country\":\"Brazil\",\"postal_code\":\"88372-900\",\"phone\":\"+55 47 3342-9200\",\"latitude\":-26.880535,\"longitude\":-48.649086,\"uct\":-180,\"website\":\"http://www4.infraero.gov.br/aeroportos/aeroporto-internacional-de-navegantes-ministro-victor-konder/\"}\n",
            "\n",
            "{\"id\":4486,\"iata\":\"MAA\",\"icao\":\"VOMM\",\"name\":\"Chennai International Airport\",\"location\":\"Chennai, Tamil Nadu, India\",\"street_number\":\"\",\"street\":\"GST Rd\",\"city\":\"Chennai\",\"county\":\"\",\"state\":\"Tamil Nadu\",\"country_iso\":\"IN\",\"country\":\"India\",\"postal_code\":\"600027\",\"phone\":\"+91 44 2256 0551\",\"latitude\":12.994112,\"longitude\":80.17087,\"uct\":330,\"website\":\"https://www.aai.aero/en/airports/chennai\"}\n",
            "\n",
            "{\"error\":{\"text\":\"No airport found\"}}\n",
            "\n",
            "{\"id\":2371,\"iata\":\"FRA\",\"icao\":\"EDDF\",\"name\":\"Frankfurt Airport\",\"location\":\"Frankfurt, Hessen, Germany\",\"street_number\":\"\",\"street\":\"\",\"city\":\"Frankfurt\",\"county\":\"Darmstadt\",\"state\":\"Hesse\",\"country_iso\":\"DE\",\"country\":\"Germany\",\"postal_code\":\"60547\",\"phone\":\"+49 180 6 3724636\",\"latitude\":50.037933,\"longitude\":8.562152,\"uct\":120,\"website\":\"http://www.frankfurt-airport.de/\"}\n",
            "\n",
            "{\"id\":4838,\"iata\":\"MOC\",\"icao\":\"SBMK\",\"name\":\"Montes Claros/Mário Ribeiro Airport\",\"location\":\"Montes Claros, Minas Gerais, Brazil\",\"street_number\":\"\",\"street\":\"Avenida Comandante João Milton\",\"city\":\"\",\"county\":\"Montes Claros\",\"state\":\"Minas Gerais\",\"country_iso\":\"BR\",\"country\":\"Brazil\",\"postal_code\":\"39404-844\",\"phone\":\"+55 38 3229-1200\",\"latitude\":-16.704617,\"longitude\":-43.820087,\"uct\":-180,\"website\":\"http://www4.infraero.gov.br/aeroportos/aeroporto-de-montes-claros-mario-ribeiro/\"}\n",
            "\n",
            "{\"id\":1200,\"iata\":\"CCS\",\"icao\":\"SVMI\",\"name\":\"Simón Bolívar International Airport\",\"location\":\"Caracas, Venezuela\",\"street_number\":\"\",\"street\":\"\",\"city\":\"Maiquetía\",\"county\":\"Vargas\",\"state\":\"Vargas\",\"country_iso\":\"VE\",\"country\":\"Venezuela\",\"postal_code\":\"1162\",\"phone\":\"+58 424-2067470\",\"latitude\":10.597259,\"longitude\":-67.00534,\"uct\":-240,\"website\":\"http://www.aeropuerto-maiquetia.com.ve/\"}\n",
            "\n",
            "{\"id\":4686,\"iata\":\"MIA\",\"icao\":\"KMIA\",\"name\":\"Miami International Airport\",\"location\":\"Miami, Florida, United States\",\"street_number\":\"2100\",\"street\":\"NW 42nd Ave\",\"city\":\"Miami\",\"county\":\"Miami-Dade County\",\"state\":\"Florida\",\"country_iso\":\"US\",\"country\":\"United States\",\"postal_code\":\"33126\",\"phone\":\"+1 305-876-7000\",\"latitude\":25.795864,\"longitude\":-80.28705,\"uct\":-240,\"website\":\"http://www.miami-airport.com/\"}\n",
            "\n",
            "{\"error\":{\"text\":\"No airport found\"}}\n",
            "\n",
            "{\"id\":8012,\"iata\":\"VLN\",\"icao\":\"SVVA\",\"name\":\"Arturo Michelena International Airport\",\"location\":\"Valencia, Venezuela\",\"street_number\":\"\",\"street\":\"\",\"city\":\"\",\"county\":\"\",\"state\":\"\",\"country_iso\":\"\",\"country\":\"\",\"postal_code\":\"\",\"phone\":\"\",\"latitude\":0,\"longitude\":0,\"uct\":0,\"website\":\"\"}\n",
            "\n",
            "{\"id\":3098,\"iata\":\"IAD\",\"icao\":\"KIAD\",\"name\":\"Washington Dulles International Airport\",\"location\":\"Washington, D.C.,1 United States\",\"street_number\":\"1\",\"street\":\"Saarinen Circle\",\"city\":\"Dulles\",\"county\":\"\",\"state\":\"Virginia\",\"country_iso\":\"US\",\"country\":\"United States\",\"postal_code\":\"20166\",\"phone\":\"+1 703-572-2700\",\"latitude\":38.953117,\"longitude\":-77.456535,\"uct\":-240,\"website\":\"http://www.mwaa.com/dulles/dulles.htm\"}\n",
            "\n",
            "{\"id\":5071,\"iata\":\"MXP\",\"icao\":\"LIMC\",\"name\":\"Milan–Malpensa Airport\",\"location\":\"Milan, Lombardy, Italy\",\"street_number\":\"\",\"street\":\"\",\"city\":\"\",\"county\":\"Province of Varese\",\"state\":\"Lombardy\",\"country_iso\":\"IT\",\"country\":\"Italy\",\"postal_code\":\"21010\",\"phone\":\"+39 02 232323\",\"latitude\":45.630062,\"longitude\":8.725531,\"uct\":120,\"website\":\"http://www.milanomalpensa-airport.com/\"}\n",
            "\n",
            "{\"error\":{\"text\":\"No airport found\"}}\n",
            "\n",
            "{\"id\":3354,\"iata\":\"IZA\",\"icao\":\"SBZM\",\"name\":\"Presidente Itamar Franco Airport (Zona da Mata Regional Airport)\",\"location\":\"Juiz de Fora, Minas Gerais, Brazil\",\"street_number\":\"S/N\",\"street\":\"Rodovia MG 353, Klm 38\",\"city\":\"\",\"county\":\"Goianá\",\"state\":\"Minas Gerais\",\"country_iso\":\"BR\",\"country\":\"Brazil\",\"postal_code\":\"36150-000\",\"phone\":\"+55 32 3274-6200\",\"latitude\":-21.510195,\"longitude\":-43.16205,\"uct\":-180,\"website\":\"http://www.cazm.com.br/\"}\n",
            "\n",
            "{\"id\":929,\"iata\":\"BRA\",\"icao\":\"SNBR\",\"name\":\"Barreiras Airport\",\"location\":\"Barreiras, Bahia, Brazil\",\"street_number\":\"204\",\"street\":\"Rua Anapolina\",\"city\":\"\",\"county\":\"Barreiras\",\"state\":\"Bahia\",\"country_iso\":\"BR\",\"country\":\"Brazil\",\"postal_code\":\"47806-470\",\"phone\":\"+55 77 3611-2361\",\"latitude\":-12.078983,\"longitude\":-45.0102,\"uct\":-180,\"website\":\"\"}\n",
            "\n",
            "{\"id\":1156,\"iata\":\"CAU\",\"icao\":\"SNRU\",\"name\":\"Caruaru Airport (Oscar Laranjeiras Airport)\",\"location\":\"Caruaru, Pernambuco, Brazil\",\"street_number\":\"\",\"street\":\"Avenida Dr Oscár Laranjeira neto\",\"city\":\"\",\"county\":\"Caruaru\",\"state\":\"Pernambuco\",\"country_iso\":\"BR\",\"country\":\"Brazil\",\"postal_code\":\"\",\"phone\":\"\",\"latitude\":-8.282731,\"longitude\":-36.012905,\"uct\":-180,\"website\":\"\"}\n",
            "\n",
            "{\"id\":2732,\"iata\":\"GUA\",\"icao\":\"MGGT\",\"name\":\"La Aurora International Airport\",\"location\":\"Guatemala City, Guatemala\",\"street_number\":\"\",\"street\":\"\",\"city\":\"Guatemala City\",\"county\":\"\",\"state\":\"Guatemala Department\",\"country_iso\":\"GT\",\"country\":\"Guatemala\",\"postal_code\":\"\",\"phone\":\"+502 2321 5000\",\"latitude\":14.584098,\"longitude\":-90.52769,\"uct\":-360,\"website\":\"http://www.dgac.gob.gt/\"}\n",
            "\n",
            "{\"id\":1411,\"iata\":\"CMN\",\"icao\":\"GMMN\",\"name\":\"Mohammed V International Airport\",\"location\":\"Casablanca, Morocco\",\"street_number\":\"\",\"street\":\"\",\"city\":\"Nouaceur\",\"county\":\"\",\"state\":\"Casablanca-Settat\",\"country_iso\":\"MA\",\"country\":\"Morocco\",\"postal_code\":\"\",\"phone\":\"+212 5223-39040\",\"latitude\":33.371754,\"longitude\":-7.587027,\"uct\":60,\"website\":\"\"}\n",
            "\n",
            "{\"id\":5978,\"iata\":\"PLU\",\"icao\":\"SBBH\",\"name\":\"Belo Horizonte/Pampulha – Carlos Drummond de Andrade Airport\",\"location\":\"Belo Horizonte, Minas Gerais, Brazil\",\"street_number\":\"204\",\"street\":\"Praça Bagatelle\",\"city\":\"\",\"county\":\"Belo Horizonte\",\"state\":\"Minas Gerais\",\"country_iso\":\"BR\",\"country\":\"Brazil\",\"postal_code\":\"31270-705\",\"phone\":\"+55 31 3490-2000\",\"latitude\":-19.849848,\"longitude\":-43.95489,\"uct\":-180,\"website\":\"http://www4.infraero.gov.br/aeroportos/aeroporto-de-belo-horizonte-pampulha-carlos-drummond-de-andrade/\"}\n",
            "\n",
            "{\"id\":7941,\"iata\":\"VCP\",\"icao\":\"SBKP\",\"name\":\"Viracopos/Campinas International Airport\",\"location\":\"São Paulo / Campinas, São Paulo, Brazil\",\"street_number\":\"km 66\",\"street\":\"Rodovia Santos Dumont\",\"city\":\"\",\"county\":\"Campinas\",\"state\":\"São Paulo\",\"country_iso\":\"BR\",\"country\":\"Brazil\",\"postal_code\":\"13055-900\",\"phone\":\"+55 19 3725-5000\",\"latitude\":-23.008205,\"longitude\":-47.13757,\"uct\":-180,\"website\":\"http://www.viracopos.com/\"}\n",
            "\n",
            "{\"error\":{\"text\":\"No airport found\"}}\n",
            "\n",
            "{\"id\":1158,\"iata\":\"CAW\",\"icao\":\"SBCP\",\"name\":\"Bartolomeu Lysandro Airport\",\"location\":\"Campos dos Goytacazes, Rio de Janeiro, Brazil\",\"street_number\":\"36-44\",\"street\":\"Estrada Brejo Grande\",\"city\":\"\",\"county\":\"Campos dos Goytacazes\",\"state\":\"Rio de Janeiro\",\"country_iso\":\"BR\",\"country\":\"Brazil\",\"postal_code\":\"28093\",\"phone\":\"+55 22 2733-5022\",\"latitude\":-21.701117,\"longitude\":-41.308186,\"uct\":-180,\"website\":\"http://www.infraero.gov.br/\"}\n",
            "\n",
            "{\"id\":5011,\"iata\":\"MVD\",\"icao\":\"SUMU\",\"name\":\"Carrasco Gral. Cesáreo L. Berisso International Airport\",\"location\":\"Montevideo, Uruguay\",\"street_number\":\"\",\"street\":\"101\",\"city\":\"Ciudad de la Costa\",\"county\":\"\",\"state\":\"Departamento de Canelones\",\"country_iso\":\"UY\",\"country\":\"Uruguay\",\"postal_code\":\"14000\",\"phone\":\"+598 2604 0329\",\"latitude\":-34.83682,\"longitude\":-56.016518,\"uct\":-180,\"website\":\"http://www.aeropuertodecarrasco.com.uy/\"}\n",
            "\n",
            "{\"id\":4157,\"iata\":\"LGG\",\"icao\":\"EBLG\",\"name\":\"Liège Airport\",\"location\":\"Liège, Belgium\",\"street_number\":\"\",\"street\":\"Rue de l’Aéroport\",\"city\":\"Grâce-Hollogne\",\"county\":\"Liège\",\"state\":\"Wallonie\",\"country_iso\":\"BE\",\"country\":\"Belgium\",\"postal_code\":\"4460\",\"phone\":\"+32 4 234 84 11\",\"latitude\":50.64116,\"longitude\":5.4479117,\"uct\":120,\"website\":\"http://www.liegeairport.com/\"}\n",
            "\n",
            "{\"id\":4308,\"iata\":\"LOS\",\"icao\":\"DNMM\",\"name\":\"Murtala Muhammed International Airport\",\"location\":\"Lagos, Nigeria\",\"street_number\":\"\",\"street\":\"\",\"city\":\"Lagos\",\"county\":\"\",\"state\":\"Lagos\",\"country_iso\":\"NG\",\"country\":\"Nigeria\",\"postal_code\":\"\",\"phone\":\"+234 1 493 3385\",\"latitude\":6.5818186,\"longitude\":3.3211348,\"uct\":60,\"website\":\"http://www.faan.gov.ng/mmia/\"}\n",
            "\n",
            "{\"id\":1254,\"iata\":\"CFB\",\"icao\":\"SBCB\",\"name\":\"Cabo Frio International Airport\",\"location\":\"Cabo Frio, Rio de Janeiro, Brazil\",\"street_number\":\"s/n\",\"street\":\"Estrada Velha do Arraial do Cabo\",\"city\":\"\",\"county\":\"Cabo Frio\",\"state\":\"Rio de Janeiro\",\"country_iso\":\"BR\",\"country\":\"Brazil\",\"postal_code\":\"28900-000\",\"phone\":\"+55 22 2647-9500\",\"latitude\":-22.925629,\"longitude\":-42.079235,\"uct\":-180,\"website\":\"http://www.aeroportodecabofrio.com.br/\"}\n",
            "\n",
            "{\"id\":1911,\"iata\":\"DSS\",\"icao\":\"GOBD\",\"name\":\"Blaise Diagne International Airport\",\"location\":\"Dakar, Senegal\",\"street_number\":\"\",\"street\":\"\",\"city\":\"Ndiass\",\"county\":\"\",\"state\":\"Thiès Region\",\"country_iso\":\"SN\",\"country\":\"Senegal\",\"postal_code\":\"\",\"phone\":\"+221 33 939 69 00\",\"latitude\":14.670855,\"longitude\":-17.067347,\"uct\":0,\"website\":\"http://www.dakaraeroport.com/\"}\n",
            "\n",
            "{\"id\":4555,\"iata\":\"MCT\",\"icao\":\"OOMS\",\"name\":\"Muscat International Airport\",\"location\":\"Muscat, Oman\",\"street_number\":\"\",\"street\":\"\",\"city\":\"Muscat\",\"county\":\"\",\"state\":\"Muscat Governorate\",\"country_iso\":\"OM\",\"country\":\"Oman\",\"postal_code\":\"\",\"phone\":\"+968 24 519223\",\"latitude\":23.60135,\"longitude\":58.290123,\"uct\":240,\"website\":\"https://www.omanairports.co.om/\"}\n",
            "\n",
            "{\"id\":75,\"iata\":\"ADD\",\"icao\":\"HAAB\",\"name\":\"Bole International Airport\",\"location\":\"Addis Ababa, Ethiopia\",\"street_number\":\"\",\"street\":\"\",\"city\":\"Addis Ababa\",\"county\":\"North Shewa(R4)\",\"state\":\"Oromia\",\"country_iso\":\"ET\",\"country\":\"Ethiopia\",\"postal_code\":\"\",\"phone\":\"+251 11 665 6666\",\"latitude\":8.980069,\"longitude\":38.79893,\"uct\":180,\"website\":\"http://addisairport.com/\"}\n",
            "\n",
            "{\"id\":1399,\"iata\":\"CMB\",\"icao\":\"VCBI\",\"name\":\"Bandaranaike International Airport\",\"location\":\"Colombo, Sri Lanka\",\"street_number\":\"\",\"street\":\"Canada Friendship Rd\",\"city\":\"කටුනායක\",\"county\":\"ගම්පහ\",\"state\":\"බස්නාහිර පළාත, ශ් රී ලංකාව\",\"country_iso\":\"LK\",\"country\":\"Sri Lanka\",\"postal_code\":\"11450\",\"phone\":\"+94 112 264 444\",\"latitude\":7.1801553,\"longitude\":79.884254,\"uct\":330,\"website\":\"http://www.airport.lk/\"}\n",
            "\n",
            "{\"id\":1138,\"iata\":\"CAC\",\"icao\":\"SBCA\",\"name\":\"Cascavel Airport (Adalberto Mendes da Silva Airport)\",\"location\":\"Cascavel, Paraná, Brazil\",\"street_number\":\"S/n\",\"street\":\"Avenida Itelo Webber\",\"city\":\"\",\"county\":\"Cascavel\",\"state\":\"Paraná\",\"country_iso\":\"BR\",\"country\":\"Brazil\",\"postal_code\":\"85804-810\",\"phone\":\"+55 45 3228-2499\",\"latitude\":-25.001816,\"longitude\":-53.50192,\"uct\":-180,\"website\":\"http://www.cettrans.com.br/aeroporto.php\"}\n",
            "\n",
            "{\"id\":5853,\"iata\":\"PEK\",\"icao\":\"ZBAA\",\"name\":\"Beijing Capital International Airport\",\"location\":\"Beijing, China\",\"street_number\":\"\",\"street\":\"\",\"city\":\"\",\"county\":\"\",\"state\":\"Beijing\",\"country_iso\":\"CN\",\"country\":\"China\",\"postal_code\":\"\",\"phone\":\"+86 10 96158\",\"latitude\":40.079857,\"longitude\":116.60311,\"uct\":480,\"website\":\"http://www.bcia.com.cn/\"}\n",
            "\n",
            "{\"id\":2695,\"iata\":\"GRU\",\"icao\":\"SBGR\",\"name\":\"São Paulo–Guarulhos International Airport\",\"location\":\"São Paulo, Brazil\",\"street_number\":\"s/nº\",\"street\":\"Rod. Hélio Smidt\",\"city\":\"\",\"county\":\"Guarulhos\",\"state\":\"São Paulo\",\"country_iso\":\"BR\",\"country\":\"Brazil\",\"postal_code\":\"07190-100\",\"phone\":\"+55 11 2445-2945\",\"latitude\":-23.430573,\"longitude\":-46.47304,\"uct\":-180,\"website\":\"http://www.gru.com.br/\"}\n",
            "\n",
            "{\"id\":7994,\"iata\":\"VIX\",\"icao\":\"SBVT\",\"name\":\"Eurico de Aguiar Salles Airport\",\"location\":\"Vitória, Espírito Santo, Brazil\",\"street_number\":\"3800\",\"street\":\"Avenida Fernando Ferrari\",\"city\":\"\",\"county\":\"Vitória\",\"state\":\"Espírito Santo\",\"country_iso\":\"BR\",\"country\":\"Brazil\",\"postal_code\":\"29075-920\",\"phone\":\"+55 27 3235-6300\",\"latitude\":-20.257648,\"longitude\":-40.283535,\"uct\":-180,\"website\":\"http://www.infraero.gov.br/index.php/br/aeroportos/espirito-santo/aeroporto-de-vitoria-eurico-de-aguiar-salles-vitoria-es.html\"}\n",
            "\n",
            "{\"id\":1429,\"iata\":\"CNF\",\"icao\":\"SBCF\",\"name\":\"Tancredo Neves International Airport (Confins Int'l Airport)\",\"location\":\"Belo Horizonte, Minas Gerais, Brazil\",\"street_number\":\"s/n\",\"street\":\"LMG-800\",\"city\":\"\",\"county\":\"Confins\",\"state\":\"Minas Gerais\",\"country_iso\":\"BR\",\"country\":\"Brazil\",\"postal_code\":\"33500-900\",\"phone\":\"+55 31 3689-2700\",\"latitude\":-19.634098,\"longitude\":-43.965397,\"uct\":-180,\"website\":\"http://www.bh-airport.com.br/\"}\n",
            "\n",
            "{\"id\":268,\"iata\":\"AMS\",\"icao\":\"EHAM\",\"name\":\"Amsterdam Airport Schiphol\",\"location\":\"Amsterdam, Netherlands\",\"street_number\":\"202\",\"street\":\"Evert van de Beekstraat\",\"city\":\"Schiphol\",\"county\":\"Haarlemmermeer\",\"state\":\"Noord-Holland\",\"country_iso\":\"NL\",\"country\":\"Netherlands\",\"postal_code\":\"1118 CP\",\"phone\":\"+31 20 794 0800\",\"latitude\":52.31054,\"longitude\":4.7682743,\"uct\":120,\"website\":\"http://www.schiphol.nl/\"}\n",
            "\n",
            "{\"error\":{\"text\":\"No airport found\"}}\n",
            "\n",
            "{\"id\":8847,\"iata\":\"YYZ\",\"icao\":\"CYYZ\",\"name\":\"Toronto Pearson International Airport\",\"location\":\"Toronto, Ontario, Canada\",\"street_number\":\"6301\",\"street\":\"Silver Dart Drive\",\"city\":\"Mississauga\",\"county\":\"\",\"state\":\"Ontario\",\"country_iso\":\"CA\",\"country\":\"Canada\",\"postal_code\":\"L5P 1B2\",\"phone\":\"+1 416-247-7678\",\"latitude\":43.67772,\"longitude\":-79.62482,\"uct\":-240,\"website\":\"http://www.torontopearson.com/\"}\n",
            "\n",
            "{\"id\":3495,\"iata\":\"JUA\",\"icao\":\"SIZX\",\"name\":\"Inácio Luís do Nascimento Airport\",\"location\":\"Juara, Mato Grosso, Brazil\",\"street_number\":\"5\",\"street\":\"Avenida Rio Arinos\",\"city\":\"\",\"county\":\"Juara\",\"state\":\"Mato Grosso\",\"country_iso\":\"BR\",\"country\":\"Brazil\",\"postal_code\":\"78575-000\",\"phone\":\"+55 66 99648-3870\",\"latitude\":-11.298683,\"longitude\":-57.545204,\"uct\":-240,\"website\":\"\"}\n",
            "\n",
            "{\"id\":1373,\"iata\":\"CKY\",\"icao\":\"GUCY\",\"name\":\"Conakry International Airport (Gbessia Int'l Airport)\",\"location\":\"Conakry, Guinea\",\"street_number\":\"\",\"street\":\"N1\",\"city\":\"Conakry\",\"county\":\"\",\"state\":\"Conakry\",\"country_iso\":\"GN\",\"country\":\"Guinea\",\"postal_code\":\"\",\"phone\":\"+224 627 09 95 57\",\"latitude\":9.575655,\"longitude\":-13.62017,\"uct\":0,\"website\":\"http://www.aeroportdeconakry.com/\"}\n",
            "\n",
            "{\"id\":2320,\"iata\":\"FLN\",\"icao\":\"SBFL\",\"name\":\"Hercílio Luz International Airport\",\"location\":\"Florianópolis, Santa Catarina, Brazil\",\"street_number\":\"3393\",\"street\":\"Avenida Deputado Diomício Freitas\",\"city\":\"\",\"county\":\"Florianópolis\",\"state\":\"Santa Catarina\",\"country_iso\":\"BR\",\"country\":\"Brazil\",\"postal_code\":\"88047-900\",\"phone\":\"+55 48 3331-4000\",\"latitude\":-27.670118,\"longitude\":-48.545967,\"uct\":-180,\"website\":\"http://www.infraero.gov.br/index.php/br/aeroportos/santa-catarina/aeroporto-internacional-de-florianopolis.html\"}\n",
            "\n",
            "{\"id\":7487,\"iata\":\"TMT\",\"icao\":\"SBTB\",\"name\":\"Porto Trombetas Airport\",\"location\":\"Porto Trombetas / Oriximiná, Pará, Brazil\",\"street_number\":\"\",\"street\":\"Rua Barão do Rio Branco\",\"city\":\"\",\"county\":\"Oriximiná\",\"state\":\"Pará\",\"country_iso\":\"BR\",\"country\":\"Brazil\",\"postal_code\":\"68270-000\",\"phone\":\"\",\"latitude\":-1.4855014,\"longitude\":-56.390137,\"uct\":-180,\"website\":\"\"}\n",
            "\n",
            "{\"id\":4424,\"iata\":\"LUX\",\"icao\":\"ELLX\",\"name\":\"Luxembourg Findel Airport\",\"location\":\"Luxembourg, Luxembourg\",\"street_number\":\"\",\"street\":\"\",\"city\":\"Luxembourg City\",\"county\":\"Luxembourg\",\"state\":\"Luxembourg District\",\"country_iso\":\"LU\",\"country\":\"Luxembourg\",\"postal_code\":\"2987\",\"phone\":\"+352 24 640\",\"latitude\":49.6289,\"longitude\":6.2147446,\"uct\":120,\"website\":\"http://www.lux-airport.lu/\"}\n",
            "\n",
            "{\"id\":1613,\"iata\":\"CWB\",\"icao\":\"SBCT\",\"name\":\"Afonso Pena International Airport\",\"location\":\"Curitiba, Paraná, Brazil\",\"street_number\":\"\",\"street\":\"Av. Rocha Pombo\",\"city\":\"\",\"county\":\"São José dos Pinhais\",\"state\":\"Paraná\",\"country_iso\":\"BR\",\"country\":\"Brazil\",\"postal_code\":\"83010-900\",\"phone\":\"+55 41 3381-1515\",\"latitude\":-25.532713,\"longitude\":-49.17248,\"uct\":-180,\"website\":\"http://www.infraero.gov.br/index.php/br/aeroportos/parana/aeroporto-afonso-pena.html\"}\n",
            "\n",
            "{\"id\":6029,\"iata\":\"POA\",\"icao\":\"SBPA\",\"name\":\"Salgado Filho International Airport\",\"location\":\"Porto Alegre, Rio Grande do Sul, Brazil\",\"street_number\":\"\",\"street\":\"\",\"city\":\"\",\"county\":\"Porto Alegre\",\"state\":\"State of Rio Grande do Sul\",\"country_iso\":\"BR\",\"country\":\"Brazil\",\"postal_code\":\"\",\"phone\":\"+55 51 3358-2000\",\"latitude\":-29.993473,\"longitude\":-51.17538,\"uct\":-180,\"website\":\"http://www4.infraero.gov.br/aeroportos/aeroporto-internacional-de-porto-alegre-salgado-filho/\"}\n",
            "\n",
            "{\"id\":2518,\"iata\":\"GEL\",\"icao\":\"SBNM\",\"name\":\"Sepé Tiaraju Airport\",\"location\":\"Santo Ângelo, Rio Grande do Sul, Brazil\",\"street_number\":\"s/n\",\"street\":\"Rodovia RS-218, km 13\",\"city\":\"\",\"county\":\"Santo Ângelo\",\"state\":\"Rio Grande do Sul\",\"country_iso\":\"BR\",\"country\":\"Brazil\",\"postal_code\":\"\",\"phone\":\"+55 55 3313-6617\",\"latitude\":-28.280348,\"longitude\":-54.17094,\"uct\":-180,\"website\":\"http://www.aviacao.gov.br/\"}\n",
            "\n",
            "{\"id\":6335,\"iata\":\"REC\",\"icao\":\"SBRF\",\"name\":\"Recife/Guararapes–Gilberto Freyre International Airport\",\"location\":\"Recife, Pernambuco, Brazil\",\"street_number\":\"s/n\",\"street\":\"Praça Ministro Salgado Filho\",\"city\":\"\",\"county\":\"Recife\",\"state\":\"Pernambuco\",\"country_iso\":\"BR\",\"country\":\"Brazil\",\"postal_code\":\"51210-902\",\"phone\":\"+55 81 3322-4188\",\"latitude\":-8.125932,\"longitude\":-34.924015,\"uct\":-180,\"website\":\"http://www4.infraero.gov.br/aeroportos/aeroporto-internacional-do-recife-guararapes-gilberto-freyre/\"}\n",
            "\n",
            "{\"id\":6995,\"iata\":\"SRA\",\"icao\":\"SSZR\",\"name\":\"Santa Rosa Airport\",\"location\":\"Santa Rosa, Rio Grande do Sul, Brazil\",\"street_number\":\"2200\",\"street\":\"Airport Boulevard\",\"city\":\"Santa Rosa\",\"county\":\"Sonoma County\",\"state\":\"California\",\"country_iso\":\"US\",\"country\":\"United States\",\"postal_code\":\"95403\",\"phone\":\"+1 707-565-7240\",\"latitude\":38.50923,\"longitude\":-122.813255,\"uct\":-420,\"website\":\"http://www.sonomacountyairport.org/\"}\n",
            "\n",
            "{\"id\":7054,\"iata\":\"STM\",\"icao\":\"SBSN\",\"name\":\"Santarém-Maestro Wilson Fonseca Airport\",\"location\":\"Santarém, Pará, Brazil\",\"street_number\":\"s/n\",\"street\":\"Praça Eduardo Gomes\",\"city\":\"\",\"county\":\"Santarém\",\"state\":\"Pará\",\"country_iso\":\"BR\",\"country\":\"Brazil\",\"postal_code\":\"\",\"phone\":\"+55 93 3522-4328\",\"latitude\":-2.4248295,\"longitude\":-54.786243,\"uct\":-180,\"website\":\"http://www4.infraero.gov.br/aeroportos/aeroporto-de-santarem-maestro-wilson-fonseca/\"}\n",
            "\n",
            "{\"id\":1141,\"iata\":\"CAF\",\"icao\":\"SWCA\",\"name\":\"Carauari Airport\",\"location\":\"Carauari, Amazonas, Brazil\",\"street_number\":\"600-628\",\"street\":\"Avenida Dom Pedro Segundo\",\"city\":\"\",\"county\":\"Carauari\",\"state\":\"Amazonas\",\"country_iso\":\"BR\",\"country\":\"Brazil\",\"postal_code\":\"69500-000\",\"phone\":\"\",\"latitude\":-4.8755007,\"longitude\":-66.89916,\"uct\":-240,\"website\":\"\"}\n",
            "\n",
            "{\"id\":6929,\"iata\":\"SOD\",\"icao\":\"SDCO\",\"name\":\"Bertram Luiz Leupolz–Sorocaba Airport\",\"location\":\"Sorocaba, São Paulo, Brazil\",\"street_number\":\"s/n\",\"street\":\"Avenida Santos Dumont\",\"city\":\"\",\"county\":\"Sorocaba\",\"state\":\"São Paulo\",\"country_iso\":\"BR\",\"country\":\"Brazil\",\"postal_code\":\"18065-290\",\"phone\":\"+55 15 3223-3333\",\"latitude\":-23.48182,\"longitude\":-47.48626,\"uct\":-180,\"website\":\"http://www.daesp.sp.gov.br/aeroporto-detalhe/?id=893\"}\n",
            "\n",
            "{\"id\":6150,\"iata\":\"PTY\",\"icao\":\"MPTO\",\"name\":\"Tocumen International Airport\",\"location\":\"Panama City, Panama\",\"street_number\":\"\",\"street\":\"Avenida Domingo Díaz\",\"city\":\"Panamá\",\"county\":\"Panamá\",\"state\":\"Panamá\",\"country_iso\":\"PA\",\"country\":\"Panama\",\"postal_code\":\"\",\"phone\":\"+507 238-2700\",\"latitude\":9.066701,\"longitude\":-79.387375,\"uct\":-300,\"website\":\"http://www.tocumenpanama.aero/\"}\n",
            "\n",
            "{\"id\":107,\"iata\":\"AEP\",\"icao\":\"SABE\",\"name\":\"Jorge Newbery Airpark\",\"location\":\"Buenos Aires, Argentina\",\"street_number\":\"s/n\",\"street\":\"Avenida Costanera Rafael Obligado\",\"city\":\"\",\"county\":\"Comuna 14\",\"state\":\"Buenos Aires\",\"country_iso\":\"AR\",\"country\":\"Argentina\",\"postal_code\":\"C1425\",\"phone\":\"+54 11 5480-6111\",\"latitude\":-34.55803,\"longitude\":-58.417007,\"uct\":-180,\"website\":\"http://www.aa2000.com.ar/\"}\n",
            "\n",
            "{\"id\":7252,\"iata\":\"TBT\",\"icao\":\"SBTT\",\"name\":\"Tabatinga International Airport\",\"location\":\"Tabatinga, Amazonas, Brazil\",\"street_number\":\"s/n\",\"street\":\"Praça Marechal-do-ar Eduardo Gomes\",\"city\":\"\",\"county\":\"Tabatinga\",\"state\":\"Amazonas\",\"country_iso\":\"BR\",\"country\":\"Brazil\",\"postal_code\":\"69640-000\",\"phone\":\"+55 97 3412-1100\",\"latitude\":-4.25038,\"longitude\":-69.93939,\"uct\":-240,\"website\":\"http://www.infraero.gov.br/\"}\n",
            "\n",
            "{\"id\":393,\"iata\":\"ASU\",\"icao\":\"SGAS\",\"name\":\"Silvio Pettirossi International Airport\",\"location\":\"Asunción, Paraguay\",\"street_number\":\"\",\"street\":\"Autopista Silvio Pettisossi\",\"city\":\"Luque\",\"county\":\"\",\"state\":\"Departamento Central\",\"country_iso\":\"PY\",\"country\":\"Paraguay\",\"postal_code\":\"\",\"phone\":\"+595 21 688 2000\",\"latitude\":-25.241512,\"longitude\":-57.514183,\"uct\":-180,\"website\":\"http://www.dinac.gov.py/v2/index.php?option=com_k2\\u0026view=itemlist\\u0026task=category\\u0026id=49:aeropuerto-internacional-silvio-pettirossi\\u0026Itemid=205\"}\n",
            "\n",
            "{\"id\":4694,\"iata\":\"MII\",\"icao\":\"SBML\",\"name\":\"Frank Miloye Milenkowichi–Marília State Airport\",\"location\":\"Marília, São Paulo, Brazil\",\"street_number\":\"2100\",\"street\":\"Avenida Brigadeiro Eduardo Gomes\",\"city\":\"\",\"county\":\"Marília\",\"state\":\"São Paulo\",\"country_iso\":\"BR\",\"country\":\"Brazil\",\"postal_code\":\"17514-050\",\"phone\":\"+55 14 3433-4066\",\"latitude\":-22.19709,\"longitude\":-49.92981,\"uct\":-180,\"website\":\"\"}\n",
            "\n",
            "{\"id\":3217,\"iata\":\"IMP\",\"icao\":\"SBIZ\",\"name\":\"Imperatriz Airport (Prefeito Renato Moreira Airport)\",\"location\":\"Imperatriz, Maranhão, Brazil\",\"street_number\":\"S/N\",\"street\":\"Avenida Moacyr Spósito Ribeiro\",\"city\":\"\",\"county\":\"Imperatriz\",\"state\":\"Maranhão\",\"country_iso\":\"BR\",\"country\":\"Brazil\",\"postal_code\":\"65913-415\",\"phone\":\"+55 99 3524-4555\",\"latitude\":-5.5316944,\"longitude\":-47.45607,\"uct\":-180,\"website\":\"http://www4.infraero.gov.br/\"}\n",
            "\n",
            "{\"id\":6182,\"iata\":\"PVH\",\"icao\":\"SBPV\",\"name\":\"Governador Jorge Teixeira de Oliveira International Airport\",\"location\":\"Porto Velho, Rondônia, Brazil\",\"street_number\":\"S/N\",\"street\":\"Avenida Governador Jorge Teixeira\",\"city\":\"\",\"county\":\"Porto Velho\",\"state\":\"Rondônia\",\"country_iso\":\"BR\",\"country\":\"Brazil\",\"postal_code\":\"76803-970\",\"phone\":\"+55 69 3219-7450\",\"latitude\":-8.71417,\"longitude\":-63.89832,\"uct\":-240,\"website\":\"\"}\n",
            "\n",
            "{\"id\":3395,\"iata\":\"JDO\",\"icao\":\"SBJU\",\"name\":\"Juazeiro do Norte Airport\",\"location\":\"Juazeiro do Norte, Ceará, Brazil\",\"street_number\":\"4000\",\"street\":\"Avenida Virgílio Távora\",\"city\":\"\",\"county\":\"Juazeiro do Norte\",\"state\":\"Ceará\",\"country_iso\":\"BR\",\"country\":\"Brazil\",\"postal_code\":\"63020-735\",\"phone\":\"+55 88 3311-6500\",\"latitude\":-7.2150974,\"longitude\":-39.27223,\"uct\":-180,\"website\":\"http://www4.infraero.gov.br/aeroportos/aeroporto-de-juazeiro-do-norte-orlando-bezerra-de-menezes/\"}\n",
            "\n",
            "{\"id\":8079,\"iata\":\"VVI\",\"icao\":\"SLVR\",\"name\":\"Viru Viru International Airport\",\"location\":\"Santa Cruz de la Sierra, Bolivia\",\"street_number\":\"\",\"street\":\"Avenida G77\",\"city\":\"Santa Cruz de la Sierra\",\"county\":\"\",\"state\":\"Departamento de Santa Cruz\",\"country_iso\":\"BO\",\"country\":\"Bolivia\",\"postal_code\":\"\",\"phone\":\"+591 3 3385000\",\"latitude\":-17.64312,\"longitude\":-63.140755,\"uct\":-240,\"website\":\"http://www.sabsa.aero/\"}\n",
            "\n",
            "{\"id\":4963,\"iata\":\"MTE\",\"icao\":\"SNMA\",\"name\":\"Monte Alegre Airport\",\"location\":\"Monte Alegre, Pará, Brazil\",\"street_number\":\"678-854\",\"street\":\"Avenida Desembargador Inácio Guilhon\",\"city\":\"\",\"county\":\"Monte Alegre\",\"state\":\"Pará\",\"country_iso\":\"BR\",\"country\":\"Brazil\",\"postal_code\":\"68220-000\",\"phone\":\"\",\"latitude\":-1.9937029,\"longitude\":-54.068874,\"uct\":-180,\"website\":\"http://www.emsampa.com.br/aeroportos/para_monte_alegre.htm\"}\n",
            "\n",
            "{\"id\":6003,\"iata\":\"PMW\",\"icao\":\"SBPJ\",\"name\":\"Palmas–Brigadeiro Lysias Rodrigues Airport\",\"location\":\"Palmas, Tocantins, Brazil\",\"street_number\":\"s/n\",\"street\":\"Avenida Joaquim Teotônio Segurado\",\"city\":\"\",\"county\":\"Palmas\",\"state\":\"Tocantins\",\"country_iso\":\"BR\",\"country\":\"Brazil\",\"postal_code\":\"\",\"phone\":\"+55 63 3219-3700\",\"latitude\":-10.295659,\"longitude\":-48.35811,\"uct\":-180,\"website\":\"http://www.infraero.gov.br/\"}\n",
            "\n",
            "{\"id\":212,\"iata\":\"AKL\",\"icao\":\"NZAA\",\"name\":\"Auckland Airport\",\"location\":\"Auckland, New Zealand\",\"street_number\":\"\",\"street\":\"Ray Emery Drive\",\"city\":\"Auckland\",\"county\":\"\",\"state\":\"Auckland\",\"country_iso\":\"NZ\",\"country\":\"New Zealand\",\"postal_code\":\"2022\",\"phone\":\"+64 9-275 0789\",\"latitude\":-37.008247,\"longitude\":174.78503,\"uct\":780,\"website\":\"http://www.aucklandairport.co.nz/\"}\n",
            "\n",
            "{\"id\":4642,\"iata\":\"MGF\",\"icao\":\"SBMG\",\"name\":\"Sílvio Name Júnior Regional Airport\",\"location\":\"Maringá, Paraná, Brazil\",\"street_number\":\"S/n\",\"street\":\"Avenida Doutor Vladimir Babkov\",\"city\":\"\",\"county\":\"Maringá\",\"state\":\"Paraná\",\"country_iso\":\"BR\",\"country\":\"Brazil\",\"postal_code\":\"\",\"phone\":\"+55 44 3366-3838\",\"latitude\":-23.48028,\"longitude\":-52.011982,\"uct\":-180,\"website\":\"http://www.aeroportomaringa.com.br/\"}\n",
            "\n",
            "{\"id\":4435,\"iata\":\"LVR\",\"icao\":\"SILC\",\"name\":\"Bom Futuro Municipal Airport[2]\",\"location\":\"Lucas do Rio Verde, Mato Grosso, Brazil\",\"street_number\":\"s/n\",\"street\":\"Rod MT-449 KM 4\",\"city\":\"\",\"county\":\"Lucas do Rio Verde\",\"state\":\"Mato Grosso\",\"country_iso\":\"BR\",\"country\":\"Brazil\",\"postal_code\":\"78455-000\",\"phone\":\"\",\"latitude\":-13.034962,\"longitude\":-55.942123,\"uct\":-240,\"website\":\"\"}\n",
            "\n",
            "{\"id\":7740,\"iata\":\"UDI\",\"icao\":\"SBUL\",\"name\":\"Ten. Cel. Av. César Bombonato Airport\",\"location\":\"Uberlândia, Minas Gerais, Brazil\",\"street_number\":\"100\",\"street\":\"Praça José Alves dos Santos\",\"city\":\"\",\"county\":\"Uberlândia\",\"state\":\"Minas Gerais\",\"country_iso\":\"BR\",\"country\":\"Brazil\",\"postal_code\":\"38406\",\"phone\":\"+55 34 3233-5420\",\"latitude\":-18.88897,\"longitude\":-48.230865,\"uct\":-180,\"website\":\"http://www4.infraero.gov.br/aeroportos/aeroporto-de-uberlandia-ten-cel-aviador-cesar-bombonato/\"}\n",
            "\n",
            "{\"id\":6484,\"iata\":\"ROS\",\"icao\":\"SAAR\",\"name\":\"Rosario – Islas Malvinas International Airport\",\"location\":\"Rosario, Santa Fe, Argentina\",\"street_number\":\"s/n\",\"street\":\"Avenida Jorge Newbery\",\"city\":\"Rosario\",\"county\":\"Rosario\",\"state\":\"Santa Fe\",\"country_iso\":\"AR\",\"country\":\"Argentina\",\"postal_code\":\"S2000\",\"phone\":\"+54 341 451-3220\",\"latitude\":-32.916885,\"longitude\":-60.78039,\"uct\":-180,\"website\":\"http://aeropuertorosario.com/\"}\n",
            "\n",
            "{\"error\":{\"text\":\"No airport found\"}}\n",
            "\n",
            "{\"id\":3406,\"iata\":\"JFK\",\"icao\":\"KJFK\",\"name\":\"John F. Kennedy International Airport\",\"location\":\"New York City, New York, United States\",\"street_number\":\"\",\"street\":\"\",\"city\":\"\",\"county\":\"Queens County\",\"state\":\"New York\",\"country_iso\":\"US\",\"country\":\"United States\",\"postal_code\":\"11430\",\"phone\":\"+1 718-244-4444\",\"latitude\":40.64131,\"longitude\":-73.77814,\"uct\":-240,\"website\":\"https://www.jfkairport.com/\"}\n",
            "\n",
            "{\"error\":{\"text\":\"No airport found\"}}\n",
            "\n",
            "{\"id\":1491,\"iata\":\"CPV\",\"icao\":\"SBKG\",\"name\":\"Campina Grande Airport (Presidente João Suassuna Airport)\",\"location\":\"Campina Grande, Paraíba, Brazil\",\"street_number\":\"S/N\",\"street\":\"Avenida Uberaba\",\"city\":\"\",\"county\":\"Campina Grande\",\"state\":\"Paraíba\",\"country_iso\":\"BR\",\"country\":\"Brazil\",\"postal_code\":\"58418-410\",\"phone\":\"+55 83 3332-9023\",\"latitude\":-7.2688785,\"longitude\":-35.89402,\"uct\":-180,\"website\":\"http://www4.infraero.gov.br/aeroportos/aeroporto-de-campina-grande-presidente-joao-suassuna\"}\n",
            "\n",
            "{\"error\":{\"text\":\"No airport found\"}}\n",
            "\n",
            "{\"id\":4027,\"iata\":\"LAD\",\"icao\":\"FNLU\",\"name\":\"Quatro de Fevereiro Airport\",\"location\":\"Luanda, Angola\",\"street_number\":\"\",\"street\":\"\",\"city\":\"Luanda\",\"county\":\"Luanda\",\"state\":\"Luanda Province\",\"country_iso\":\"AO\",\"country\":\"Angola\",\"postal_code\":\"\",\"phone\":\"+244 442 352 387\",\"latitude\":-8.847951,\"longitude\":13.234862,\"uct\":60,\"website\":\"http://angolaairport.net/\"}\n",
            "\n",
            "{\"error\":{\"text\":\"No airport found\"}}\n",
            "\n",
            "{\"error\":{\"text\":\"No airport found\"}}\n",
            "\n",
            "{\"id\":5685,\"iata\":\"OST\",\"icao\":\"EBOS\",\"name\":\"Ostend–Bruges International Airport\",\"location\":\"Ostend / Bruges, Belgium\",\"street_number\":\"889\",\"street\":\"Nieuwpoortsesteenweg\",\"city\":\"Oostende\",\"county\":\"West-Vlaanderen\",\"state\":\"Vlaanderen\",\"country_iso\":\"BE\",\"country\":\"Belgium\",\"postal_code\":\"8400\",\"phone\":\"+32 59 55 12 11\",\"latitude\":51.204193,\"longitude\":2.8698127,\"uct\":120,\"website\":\"http://www.luchthaven-oostendebrugge.com/\"}\n",
            "\n",
            "{\"id\":6245,\"iata\":\"QSC\",\"icao\":\"SDSC\",\"name\":\"Mário Pereira Lopes Airport\",\"location\":\"São Carlos, São Paulo, Brazil\",\"street_number\":\"\",\"street\":\"\",\"city\":\"\",\"county\":\"\",\"state\":\"\",\"country_iso\":\"\",\"country\":\"\",\"postal_code\":\"\",\"phone\":\"\",\"latitude\":0,\"longitude\":0,\"uct\":0,\"website\":\"\"}\n",
            "\n",
            "{\"id\":4624,\"iata\":\"MFM\",\"icao\":\"VMMC\",\"name\":\"Macau International Airport\",\"location\":\"Macau\",\"street_number\":\"\",\"street\":\"\",\"city\":\"\",\"county\":\"\",\"state\":\"\",\"country_iso\":\"MO\",\"country\":\"Macau\",\"postal_code\":\"\",\"phone\":\"+853 2886 1111\",\"latitude\":22.157835,\"longitude\":113.576416,\"uct\":480,\"website\":\"http://www.macau-airport.com/en\"}\n",
            "\n",
            "{\"error\":{\"text\":\"No airport found\"}}\n",
            "\n",
            "{\"id\":4598,\"iata\":\"MEM\",\"icao\":\"KMEM\",\"name\":\"Memphis International Airport\",\"location\":\"Memphis, Tennessee, United States\",\"street_number\":\"2491\",\"street\":\"Winchester Road\",\"city\":\"Memphis\",\"county\":\"Shelby County\",\"state\":\"Tennessee\",\"country_iso\":\"US\",\"country\":\"United States\",\"postal_code\":\"38116\",\"phone\":\"+1 901-922-8000\",\"latitude\":35.04207,\"longitude\":-89.97917,\"uct\":-300,\"website\":\"http://www.flymemphis.com/\"}\n",
            "\n",
            "{\"id\":3290,\"iata\":\"ISL\",\"icao\":\"LTFM\",\"name\":\"Istanbul New Airport\",\"location\":\"Istanbul, Turkey\",\"street_number\":\"\",\"street\":\"\",\"city\":\"\",\"county\":\"Bakırköy\",\"state\":\"Istanbul\",\"country_iso\":\"TR\",\"country\":\"Turkey\",\"postal_code\":\"34149\",\"phone\":\"+90 212 463 30 00\",\"latitude\":40.98299,\"longitude\":28.810442,\"uct\":180,\"website\":\"http://www.ataturkairport.com/\"}\n",
            "\n",
            "{\"id\":5640,\"iata\":\"OPO\",\"icao\":\"LPPR\",\"name\":\"Francisco de Sá Carneiro Airport\",\"location\":\"Porto, Portugal\",\"street_number\":\"\",\"street\":\"\",\"city\":\"Maia\",\"county\":\"\",\"state\":\"Porto District\",\"country_iso\":\"PT\",\"country\":\"Portugal\",\"postal_code\":\"4470-558\",\"phone\":\"+351 22 943 2400\",\"latitude\":41.24212,\"longitude\":-8.678552,\"uct\":60,\"website\":\"http://www.ana.pt/pt-PT/Aeroportos/Porto/Porto/Paginas/HomePorto.aspx\"}\n",
            "\n",
            "{\"id\":1273,\"iata\":\"CGB\",\"icao\":\"SBCY\",\"name\":\"Marechal Rondon International Airport\",\"location\":\"Cuiabá, Mato Grosso, Brazil\",\"street_number\":\"s/n\",\"street\":\"Avenida João Ponce de Arruda\",\"city\":\"\",\"county\":\"Várzea Grande\",\"state\":\"Mato Grosso\",\"country_iso\":\"BR\",\"country\":\"Brazil\",\"postal_code\":\"78110-900\",\"phone\":\"+55 65 3614-2500\",\"latitude\":-15.653079,\"longitude\":-56.117268,\"uct\":-240,\"website\":\"http://www4.infraero.gov.br/aeroportos/aeroporto-internacional-de-cuiaba-marechal-rondon/\"}\n",
            "\n",
            "{\"id\":6154,\"iata\":\"PUC\",\"icao\":\"KPUC\",\"name\":\"Carbon County Regional Airport\",\"location\":\"Price, Utah, United States\",\"street_number\":\"3095\",\"street\":\"Airport Road\",\"city\":\"Price\",\"county\":\"Carbon County\",\"state\":\"Utah\",\"country_iso\":\"US\",\"country\":\"United States\",\"postal_code\":\"84501\",\"phone\":\"+1 435-637-9556\",\"latitude\":39.61092,\"longitude\":-110.752785,\"uct\":-360,\"website\":\"http://redtailfbo.com/\"}\n",
            "\n",
            "{\"id\":3420,\"iata\":\"JIA\",\"icao\":\"SWJN\",\"name\":\"Juína Airport\",\"location\":\"Juína, Mato Grosso, Brazil\",\"street_number\":\"\",\"street\":\"\",\"city\":\"\",\"county\":\"Juína\",\"state\":\"State of Mato Grosso\",\"country_iso\":\"BR\",\"country\":\"Brazil\",\"postal_code\":\"78320-000\",\"phone\":\"\",\"latitude\":-11.417905,\"longitude\":-58.708218,\"uct\":-240,\"website\":\"\"}\n",
            "\n",
            "{\"id\":3100,\"iata\":\"IAH\",\"icao\":\"KIAH\",\"name\":\"George Bush Intercontinental Airport\",\"location\":\"Houston, Texas, United States\",\"street_number\":\"2800\",\"street\":\"North Terminal Road\",\"city\":\"Houston\",\"county\":\"Harris County\",\"state\":\"Texas\",\"country_iso\":\"US\",\"country\":\"United States\",\"postal_code\":\"77032\",\"phone\":\"+1 281-230-3100\",\"latitude\":29.99022,\"longitude\":-95.336784,\"uct\":-300,\"website\":\"http://www.fly2houston.com/\"}\n",
            "\n",
            "{\"id\":6045,\"iata\":\"POS\",\"icao\":\"TTPP\",\"name\":\"Piarco International Airport\",\"location\":\"Port of Spain, Trinidad and Tobago\",\"street_number\":\"\",\"street\":\"Golden Grove Road\",\"city\":\"Piarco\",\"county\":\"\",\"state\":\"Tunapuna/Piarco Regional Corporation\",\"country_iso\":\"TT\",\"country\":\"Trinidad and Tobago\",\"postal_code\":\"\",\"phone\":\"+1 868-669-4880\",\"latitude\":10.597696,\"longitude\":-61.339527,\"uct\":-240,\"website\":\"http://www.tntairports.com/piarco/index.html\"}\n",
            "\n",
            "{\"id\":7166,\"iata\":\"SYD\",\"icao\":\"YSSY\",\"name\":\"Sydney Airport (Kingsford Smith Airport)\",\"location\":\"Sydney, New South Wales, Australia\",\"street_number\":\"\",\"street\":\"\",\"city\":\"Sydney\",\"county\":\"\",\"state\":\"New South Wales\",\"country_iso\":\"AU\",\"country\":\"Australia\",\"postal_code\":\"2020\",\"phone\":\"+61 2 9667 9111\",\"latitude\":-33.939922,\"longitude\":151.17528,\"uct\":660,\"website\":\"http://www.sydneyairport.com.au/\"}\n",
            "\n",
            "{\"id\":4489,\"iata\":\"MAD\",\"icao\":\"LEMD\",\"name\":\"Adolfo Suárez Madrid–Barajas Airport\",\"location\":\"Madrid, Spain\",\"street_number\":\"s/n\",\"street\":\"Avenida de la Hispanidad\",\"city\":\"Madrid\",\"county\":\"Madrid\",\"state\":\"Comunidad de Madrid\",\"country_iso\":\"ES\",\"country\":\"Spain\",\"postal_code\":\"28042\",\"phone\":\"+34 913 21 10 00\",\"latitude\":40.498333,\"longitude\":-3.567598,\"uct\":120,\"website\":\"http://www.aena.es/es/aeropuerto-madrid-barajas/index.html\"}\n",
            "\n",
            "{\"error\":{\"text\":\"No airport found\"}}\n",
            "\n",
            "{\"error\":{\"text\":\"No airport found\"}}\n",
            "\n",
            "{\"id\":2214,\"iata\":\"EWR\",\"icao\":\"KEWR\",\"name\":\"Newark Liberty International Airport\",\"location\":\"Newark, New Jersey, United States\",\"street_number\":\"3\",\"street\":\"Brewster Road\",\"city\":\"Newark\",\"county\":\"\",\"state\":\"New Jersey\",\"country_iso\":\"US\",\"country\":\"United States\",\"postal_code\":\"7114\",\"phone\":\"+1 973-961-6000\",\"latitude\":40.689533,\"longitude\":-74.17446,\"uct\":-240,\"website\":\"http://www.panynj.gov/airports/newark-liberty.html\"}\n",
            "\n",
            "{\"id\":7055,\"iata\":\"STN\",\"icao\":\"EGSS\",\"name\":\"London Stansted Airport\",\"location\":\"London, England, United Kingdom\",\"street_number\":\"\",\"street\":\"Bassingbourn Road\",\"city\":\"\",\"county\":\"Essex\",\"state\":\"England\",\"country_iso\":\"GB\",\"country\":\"United Kingdom\",\"postal_code\":\"CM24 1QW\",\"phone\":\"+44 808 169 7031\",\"latitude\":51.886017,\"longitude\":0.2388661,\"uct\":60,\"website\":\"https://www.stanstedairport.com/\"}\n",
            "\n",
            "{\"id\":939,\"iata\":\"BRM\",\"icao\":\"SVBM\",\"name\":\"Jacinto Lara International Airport\",\"location\":\"Barquisimeto, Venezuela\",\"street_number\":\"\",\"street\":\"Avenida la Salle y Avenida Vicente Landaeta\",\"city\":\"Barquisimeto\",\"county\":\"Iribarren\",\"state\":\"Lara\",\"country_iso\":\"VE\",\"country\":\"Venezuela\",\"postal_code\":\"3001\",\"phone\":\"+58 251-7188379\",\"latitude\":10.046086,\"longitude\":-69.35981,\"uct\":-240,\"website\":\"http://aijl.baer.gob.ve/\"}\n",
            "\n",
            "{\"id\":5794,\"iata\":\"PBM\",\"icao\":\"SMJP\",\"name\":\"Johan Adolf Pengel International Airport\",\"location\":\"Paramaribo, Suriname\",\"street_number\":\"\",\"street\":\"\",\"city\":\"Paramaribo\",\"county\":\"Zuid-Para\",\"state\":\"Para\",\"country_iso\":\"SR\",\"country\":\"Suriname\",\"postal_code\":\"\",\"phone\":\"+597 401-348\",\"latitude\":5.456003,\"longitude\":-55.200058,\"uct\":-180,\"website\":\"https://www.japi-airport.com/\"}\n",
            "\n",
            "{\"id\":4565,\"iata\":\"MDE\",\"icao\":\"SKRG\",\"name\":\"José María Córdova International Airport\",\"location\":\"Medellín, Colombia\",\"street_number\":\"\",\"street\":\"\",\"city\":\"\",\"county\":\"Rionegro\",\"state\":\"Antioquia\",\"country_iso\":\"CO\",\"country\":\"Colombia\",\"postal_code\":\"54047\",\"phone\":\"+57 4 4025110\",\"latitude\":6.1707635,\"longitude\":-75.42762,\"uct\":-300,\"website\":\"http://www.aeropuertorionegro.co/\"}\n",
            "\n",
            "{\"id\":633,\"iata\":\"BEL\",\"icao\":\"SBBE\",\"name\":\"Val de Cans International Airport\",\"location\":\"Belém, Pará, Brazil\",\"street_number\":\"s/n\",\"street\":\"Avenida Júlio César\",\"city\":\"\",\"county\":\"Belém\",\"state\":\"Pará\",\"country_iso\":\"BR\",\"country\":\"Brazil\",\"postal_code\":\"66115-970\",\"phone\":\"+55 91 3210-6000\",\"latitude\":-1.3820615,\"longitude\":-48.477524,\"uct\":-180,\"website\":\"http://www4.infraero.gov.br/aeroportos/aeroporto-internacional-de-belem-val-de-cans-julio-cezar-ribeiro/\"}\n",
            "\n",
            "{\"id\":3122,\"iata\":\"ICN\",\"icao\":\"RKSI\",\"name\":\"Incheon International Airport\",\"location\":\"Seoul, South Korea\",\"street_number\":\"272\",\"street\":\"\",\"city\":\"\",\"county\":\"\",\"state\":\"Incheon\",\"country_iso\":\"KR\",\"country\":\"South Korea\",\"postal_code\":\"\",\"phone\":\"+82 1577-2600\",\"latitude\":37.46019,\"longitude\":126.4407,\"uct\":540,\"website\":\"http://www.airport.kr/\"}\n",
            "\n",
            "{\"id\":1386,\"iata\":\"CLO\",\"icao\":\"SKCL\",\"name\":\"Alfonso Bonilla Aragón International Airport\",\"location\":\"Cali, Colombia\",\"street_number\":\"\",\"street\":\"Vía al Aeropuerto Norte\",\"city\":\"Palmira\",\"county\":\"Palmira\",\"state\":\"Valle del Cauca\",\"country_iso\":\"CO\",\"country\":\"Colombia\",\"postal_code\":\"763537\",\"phone\":\"+57 2 2801515\",\"latitude\":3.5439613,\"longitude\":-76.38406,\"uct\":-300,\"website\":\"http://www.aerocali.com.co/\"}\n",
            "\n",
            "{\"id\":1481,\"iata\":\"CPH\",\"icao\":\"EKCH\",\"name\":\"Copenhagen Airport, Kastrup\",\"location\":\"Copenhagen, Denmark\",\"street_number\":\"6\",\"street\":\"Lufthavnsboulevarden\",\"city\":\"Kastrup\",\"county\":\"\",\"state\":\"\",\"country_iso\":\"DK\",\"country\":\"Denmark\",\"postal_code\":\"2770\",\"phone\":\"+45 32 31 32 31\",\"latitude\":55.618023,\"longitude\":12.650763,\"uct\":120,\"website\":\"https://cph.dk/\"}\n",
            "\n",
            "{\"id\":4952,\"iata\":\"MST\",\"icao\":\"EHBK\",\"name\":\"Maastricht Aachen Airport\",\"location\":\"Maastricht, Netherlands\",\"street_number\":\"90\",\"street\":\"Vliegveldweg\",\"city\":\"Maastricht-Airport\",\"county\":\"Beek\",\"state\":\"Limburg\",\"country_iso\":\"NL\",\"country\":\"Netherlands\",\"postal_code\":\"6199 AD\",\"phone\":\"+31 43 358 9898\",\"latitude\":50.913685,\"longitude\":5.773359,\"uct\":120,\"website\":\"http://www.maa.nl/\"}\n",
            "\n",
            "{\"id\":2318,\"iata\":\"FLL\",\"icao\":\"KFLL\",\"name\":\"Fort Lauderdale–Hollywood International Airport\",\"location\":\"Fort Lauderdale / Hollywood, Florida, United States\",\"street_number\":\"100\",\"street\":\"Terminal Drive\",\"city\":\"Fort Lauderdale\",\"county\":\"Broward County\",\"state\":\"Florida\",\"country_iso\":\"US\",\"country\":\"United States\",\"postal_code\":\"33315\",\"phone\":\"+1 954-359-1200\",\"latitude\":26.074234,\"longitude\":-80.150604,\"uct\":-240,\"website\":\"http://www.fll.net/\"}\n",
            "\n",
            "{\"id\":3081,\"iata\":\"HYD\",\"icao\":\"VOHS\",\"name\":\"Rajiv Gandhi International Airport\",\"location\":\"Hyderabad, Telangana, India\",\"street_number\":\"\",\"street\":\"\",\"city\":\"Hyderabad\",\"county\":\"Ranga Reddy\",\"state\":\"Telangana\",\"country_iso\":\"IN\",\"country\":\"India\",\"postal_code\":\"500409\",\"phone\":\"+91 40 6654 6370\",\"latitude\":17.240263,\"longitude\":78.42938,\"uct\":330,\"website\":\"http://www.hyderabad.aero/\"}\n",
            "\n",
            "{\"id\":369,\"iata\":\"ARU\",\"icao\":\"SBAU\",\"name\":\"Araçatuba Airport\",\"location\":\"Araçatuba, São Paulo, Brazil\",\"street_number\":\"\",\"street\":\"Via de Acesso Olegário Ferraz\",\"city\":\"\",\"county\":\"Araçatuba\",\"state\":\"São Paulo\",\"country_iso\":\"BR\",\"country\":\"Brazil\",\"postal_code\":\"16052-800\",\"phone\":\"+55 18 3621-3001\",\"latitude\":-21.13759,\"longitude\":-50.425983,\"uct\":-180,\"website\":\"http://www.daesp.sp.gov.br/aeroporto-detalhe/?id=841\"}\n",
            "\n",
            "{\"id\":182,\"iata\":\"AIR\",\"icao\":\"SSOU\",\"name\":\"Aripuanã Airport\",\"location\":\"Aripuanã, Mato Grosso, Brazil\",\"street_number\":\"\",\"street\":\"Rua Beira Rio\",\"city\":\"\",\"county\":\"Colniza\",\"state\":\"Mato Grosso\",\"country_iso\":\"BR\",\"country\":\"Brazil\",\"postal_code\":\"78335-000\",\"phone\":\"\",\"latitude\":-9.450131,\"longitude\":-59.201378,\"uct\":-240,\"website\":\"\"}\n",
            "\n",
            "{\"id\":901,\"iata\":\"BPG\",\"icao\":\"SBBW\",\"name\":\"Barra do Garças Airport\",\"location\":\"Barra do Garças, Mato Grosso, Brazil\",\"street_number\":\"\",\"street\":\"\",\"city\":\"\",\"county\":\"Barra do Garças\",\"state\":\"Mato Grosso\",\"country_iso\":\"BR\",\"country\":\"Brazil\",\"postal_code\":\"78600-000\",\"phone\":\"+55 66 98404-7588\",\"latitude\":-15.858338,\"longitude\":-52.39055,\"uct\":-240,\"website\":\"http://www.voeazul.com.br/\"}\n",
            "\n",
            "{\"id\":5647,\"iata\":\"ORD\",\"icao\":\"KORD\",\"name\":\"O'Hare International Airport\",\"location\":\"Chicago, Illinois, United States\",\"street_number\":\"10000\",\"street\":\"W O'Hare Ave\",\"city\":\"Chicago\",\"county\":\"\",\"state\":\"Illinois\",\"country_iso\":\"US\",\"country\":\"United States\",\"postal_code\":\"60666\",\"phone\":\"+1 800-832-6352\",\"latitude\":41.974163,\"longitude\":-87.90732,\"uct\":-300,\"website\":\"http://www.flychicago.com/ohare/en/home/Pages/default.aspx\"}\n",
            "\n",
            "{\"error\":{\"text\":\"No airport found\"}}\n",
            "\n",
            "{\"id\":6647,\"iata\":\"SCL\",\"icao\":\"SCEL\",\"name\":\"Comodoro Arturo Merino Benítez International Airport\",\"location\":\"Santiago, Chile\",\"street_number\":\"\",\"street\":\"Aviador David Fuentes\",\"city\":\"Pudahuel\",\"county\":\"Santiago\",\"state\":\"Región Metropolitana\",\"country_iso\":\"CL\",\"country\":\"Chile\",\"postal_code\":\"\",\"phone\":\"+56 2 2690 1752\",\"latitude\":-33.39051,\"longitude\":-70.79381,\"uct\":-180,\"website\":\"https://www.nuevopudahuel.cl/\"}\n",
            "\n",
            "{\"id\":1041,\"iata\":\"BVS\",\"icao\":\"SNVS\",\"name\":\"Breves Airport\",\"location\":\"Breves, Pará, Brazil\",\"street_number\":\"\",\"street\":\"\",\"city\":\"\",\"county\":\"\",\"state\":\"\",\"country_iso\":\"\",\"country\":\"\",\"postal_code\":\"\",\"phone\":\"\",\"latitude\":0,\"longitude\":0,\"uct\":0,\"website\":\"\"}\n",
            "\n",
            "{\"id\":6812,\"iata\":\"SJL\",\"icao\":\"SBUA\",\"name\":\"São Gabriel da Cachoeira Airport\",\"location\":\"São Gabriel da Cachoeira, Amazonas, Brazil\",\"street_number\":\"\",\"street\":\"Estrada do Aeroporto\",\"city\":\"\",\"county\":\"São Gabriel da Cachoeira\",\"state\":\"Amazonas\",\"country_iso\":\"BR\",\"country\":\"Brazil\",\"postal_code\":\"69750-000\",\"phone\":\"\",\"latitude\":-0.1510764,\"longitude\":-66.9913,\"uct\":-240,\"website\":\"\"}\n",
            "\n",
            "{\"id\":4044,\"iata\":\"LAX\",\"icao\":\"KLAX\",\"name\":\"Los Angeles International Airport\",\"location\":\"Los Angeles, California, United States\",\"street_number\":\"1\",\"street\":\"World Way\",\"city\":\"Los Angeles\",\"county\":\"Los Angeles County\",\"state\":\"California\",\"country_iso\":\"US\",\"country\":\"United States\",\"postal_code\":\"90045\",\"phone\":\"+1 855-463-5252\",\"latitude\":33.94159,\"longitude\":-118.40853,\"uct\":-420,\"website\":\"http://www.lawa.org/welcomelax.aspx\"}\n",
            "\n",
            "{\"id\":1629,\"iata\":\"CXJ\",\"icao\":\"SBCX\",\"name\":\"Caxias do Sul Airport (Hugo Cantergiani Regional Airport)\",\"location\":\"Caxias do Sul, Rio Grande do Sul, Brazil\",\"street_number\":\"3451\",\"street\":\"Avenida Salgado Filho\",\"city\":\"\",\"county\":\"Caxias do Sul\",\"state\":\"Rio Grande do Sul\",\"country_iso\":\"BR\",\"country\":\"Brazil\",\"postal_code\":\"95098-420\",\"phone\":\"+55 54 3901-1219\",\"latitude\":-29.19492,\"longitude\":-51.18693,\"uct\":-180,\"website\":\"http://www.transportes.rs.gov.br/dap\"}\n",
            "\n",
            "{\"id\":6054,\"iata\":\"PPB\",\"icao\":\"SBDN\",\"name\":\"Presidente Prudente Airport\",\"location\":\"Presidente Prudente, São Paulo, Brazil\",\"street_number\":\"s/nº\",\"street\":\"Assis Chateaubriand, km 459\",\"city\":\"\",\"county\":\"Presidente Prudente\",\"state\":\"São Paulo\",\"country_iso\":\"BR\",\"country\":\"Brazil\",\"postal_code\":\"19053-680\",\"phone\":\"+55 18 3222-8099\",\"latitude\":-22.17834,\"longitude\":-51.417664,\"uct\":-180,\"website\":\"http://www.daesp.sp.gov.br/aeroporto-detalhe/?id=879\"}\n",
            "\n",
            "{\"id\":7106,\"iata\":\"SVO\",\"icao\":\"UUEE\",\"name\":\"Sheremetyevo International Airport\",\"location\":\"Moscow, Russia\",\"street_number\":\"\",\"street\":\"\",\"city\":\"Khimki\",\"county\":\"Gorod Khimki\",\"state\":\"Moscow Oblast\",\"country_iso\":\"RU\",\"country\":\"Russia\",\"postal_code\":\"141400\",\"phone\":\"+7 495 578-65-65\",\"latitude\":55.973648,\"longitude\":37.412502,\"uct\":180,\"website\":\"http://www.svo.aero/\"}\n",
            "\n",
            "{\"id\":877,\"iata\":\"BOG\",\"icao\":\"SKBO\",\"name\":\"El Dorado International Airport\",\"location\":\"Bogotá, Colombia\",\"street_number\":\"\",\"street\":\"\",\"city\":\"\",\"county\":\"\",\"state\":\"Bogotá\",\"country_iso\":\"CO\",\"country\":\"Colombia\",\"postal_code\":\"\",\"phone\":\"+57 1 2662000\",\"latitude\":4.7014127,\"longitude\":-74.14449,\"uct\":-300,\"website\":\"http://www.eldorado.aero/\"}\n",
            "\n",
            "{\"id\":1367,\"iata\":\"CKS\",\"icao\":\"SBCJ\",\"name\":\"Carajás Airport\",\"location\":\"Parauapebas, Pará, Brazil\",\"street_number\":\"\",\"street\":\"\",\"city\":\"\",\"county\":\"Parauapebas\",\"state\":\"Pará\",\"country_iso\":\"BR\",\"country\":\"Brazil\",\"postal_code\":\"68515-000\",\"phone\":\"+55 94 98403-1335\",\"latitude\":-6.114454,\"longitude\":-50.001007,\"uct\":-180,\"website\":\"http://www.infraero.gov.br/\"}\n",
            "\n",
            "{\"id\":538,\"iata\":\"BAQ\",\"icao\":\"SKBQ\",\"name\":\"Ernesto Cortissoz International Airport\",\"location\":\"Barranquilla, Colombia\",\"street_number\":\"\",\"street\":\"\",\"city\":\"\",\"county\":\"Soledad\",\"state\":\"Atlántico\",\"country_iso\":\"CO\",\"country\":\"Colombia\",\"postal_code\":\"\",\"phone\":\"+57 5 3160900\",\"latitude\":10.886601,\"longitude\":-74.77643,\"uct\":-300,\"website\":\"http://aeropuertobaq.com/\"}\n",
            "\n",
            "{\"id\":6876,\"iata\":\"SLZ\",\"icao\":\"SBSL\",\"name\":\"Marechal Cunha Machado International Airport\",\"location\":\"São Luís, Maranhão, Brazil\",\"street_number\":\"3503\",\"street\":\"Avenida dos Libaneses\",\"city\":\"\",\"county\":\"São Luís\",\"state\":\"Maranhão\",\"country_iso\":\"BR\",\"country\":\"Brazil\",\"postal_code\":\"65056-480\",\"phone\":\"+55 98 3217-6100\",\"latitude\":-2.5849926,\"longitude\":-44.23488,\"uct\":-180,\"website\":\"http://www.infraero.gov.br/\"}\n",
            "\n",
            "{\"id\":5852,\"iata\":\"PEI\",\"icao\":\"SKPE\",\"name\":\"Matecaña International Airport\",\"location\":\"Pereira, Colombia\",\"street_number\":\"\",\"street\":\"Vía Cerritos\",\"city\":\"Pereira\",\"county\":\"Pereira\",\"state\":\"Risaralda\",\"country_iso\":\"CO\",\"country\":\"Colombia\",\"postal_code\":\"660001\",\"phone\":\"+57 6 3148151\",\"latitude\":4.81521,\"longitude\":-75.73631,\"uct\":-300,\"website\":\"http://www.aeromate.gov.co/\"}\n",
            "\n",
            "{\"error\":{\"text\":\"No airport found\"}}\n",
            "\n",
            "{\"id\":1288,\"iata\":\"CGR\",\"icao\":\"SBCG\",\"name\":\"Campo Grande International Airport\",\"location\":\"Campo Grande, Mato Grosso do Sul, Brazil\",\"street_number\":\"s/n\",\"street\":\"Av. Duque de Caxias\",\"city\":\"\",\"county\":\"Campo Grande\",\"state\":\"Mato Grosso do Sul\",\"country_iso\":\"BR\",\"country\":\"Brazil\",\"postal_code\":\"79101-901\",\"phone\":\"+55 67 3368-6000\",\"latitude\":-20.468693,\"longitude\":-54.67412,\"uct\":-240,\"website\":\"http://www4.infraero.gov.br/aeroportos/aeroporto-internacional-de-campo-grande/\"}\n",
            "\n",
            "{\"error\":{\"text\":\"No airport found\"}}\n",
            "\n",
            "{\"id\":242,\"iata\":\"ALQ\",\"icao\":\"SSLT\",\"name\":\"Alegrete Airport\",\"location\":\"Alegrete, Rio Grande do Sul, Brazil\",\"street_number\":\"\",\"street\":\"\",\"city\":\"\",\"county\":\"Alegrete\",\"state\":\"Rio Grande do Sul\",\"country_iso\":\"BR\",\"country\":\"Brazil\",\"postal_code\":\"\",\"phone\":\"\",\"latitude\":-29.817083,\"longitude\":-55.89244,\"uct\":-180,\"website\":\"\"}\n",
            "\n",
            "{\"id\":4552,\"iata\":\"MCP\",\"icao\":\"SBMQ\",\"name\":\"Alberto Alcolumbre International Airport\",\"location\":\"Macapá, Amapá, Brazil\",\"street_number\":\"S/N\",\"street\":\"Rua Hildemar Maia\",\"city\":\"\",\"county\":\"Macapá\",\"state\":\"Amapá\",\"country_iso\":\"BR\",\"country\":\"Brazil\",\"postal_code\":\"68908-119\",\"phone\":\"+55 96 3223-2323\",\"latitude\":0.0500081,\"longitude\":-51.06711,\"uct\":-180,\"website\":\"http://www4.infraero.gov.br/aeroportos/aeroporto-internacional-de-macapa-alberto-alcolumbre/\"}\n",
            "\n",
            "{\"id\":2151,\"iata\":\"ERN\",\"icao\":\"SWEI\",\"name\":\"Eirunepé Airport (Amaury Feitosa Tomaz Airport)\",\"location\":\"Eirunepé, Amazonas, Brazil\",\"street_number\":\"\",\"street\":\"\",\"city\":\"\",\"county\":\"Eirunepé\",\"state\":\"Amazonas\",\"country_iso\":\"BR\",\"country\":\"Brazil\",\"postal_code\":\"69880-000\",\"phone\":\"+55 32 99107-5288\",\"latitude\":-6.6368523,\"longitude\":-69.88315,\"uct\":-240,\"website\":\"\"}\n",
            "\n",
            "{\"id\":4586,\"iata\":\"MEA\",\"icao\":\"SBME\",\"name\":\"Benedito Lacerda Airport\",\"location\":\"Macaé, Rio de Janeiro, Brazil\",\"street_number\":\"\",\"street\":\"\",\"city\":\"\",\"county\":\"\",\"state\":\"\",\"country_iso\":\"\",\"country\":\"\",\"postal_code\":\"\",\"phone\":\"\",\"latitude\":0,\"longitude\":0,\"uct\":0,\"website\":\"\"}\n",
            "\n",
            "{\"id\":921,\"iata\":\"BQN\",\"icao\":\"TJBQ\",\"name\":\"Rafael Hernández Airport\",\"location\":\"Aguadilla, Puerto Rico, United States\",\"street_number\":\"\",\"street\":\"Hangar Road\",\"city\":\"Aguadilla Pueblo\",\"county\":\"\",\"state\":\"Aguadilla\",\"country_iso\":\"PR\",\"country\":\"Puerto Rico\",\"postal_code\":\"603\",\"phone\":\"+1 787-890-6075\",\"latitude\":18.495396,\"longitude\":-67.135574,\"uct\":-240,\"website\":\"http://www.prpa.gobierno.pr/\"}\n",
            "\n",
            "{\"error\":{\"text\":\"No airport found\"}}\n",
            "\n",
            "{\"id\":5894,\"iata\":\"PHB\",\"icao\":\"SBPB\",\"name\":\"Parnaíba-Prefeito Dr. João Silva Filho International Airport\",\"location\":\"Parnaíba, Piauí, Brazil\",\"street_number\":\"s/n\",\"street\":\"Rodovia BR-343\",\"city\":\"\",\"county\":\"Parnaíba\",\"state\":\"Piauí\",\"country_iso\":\"BR\",\"country\":\"Brazil\",\"postal_code\":\"64206-260\",\"phone\":\"+55 86 3315-3300\",\"latitude\":-2.895248,\"longitude\":-41.729797,\"uct\":-180,\"website\":\"http://www4.infraero.gov.br/aeroportos/aeroporto-internacional-de-parnaiba-prefeito-dr-joao-silva-filho/\"}\n",
            "\n",
            "{\"id\":6820,\"iata\":\"SJU\",\"icao\":\"TJSJ\",\"name\":\"Luis Muñoz Marín International Airport\",\"location\":\"San Juan, Puerto Rico\",\"street_number\":\"\",\"street\":\"Avenida Aeropuerto\",\"city\":\"Carolina\",\"county\":\"\",\"state\":\"Carolina\",\"country_iso\":\"PR\",\"country\":\"Puerto Rico\",\"postal_code\":\"979\",\"phone\":\"+1 787-253-2329\",\"latitude\":18.437422,\"longitude\":-66.00162,\"uct\":-240,\"website\":\"http://aeropuertosju.com/en/\"}\n",
            "\n",
            "{\"id\":7045,\"iata\":\"STD\",\"icao\":\"SVSO\",\"name\":\"Mayor Buenaventura Vivas Airport\",\"location\":\"Santo Domingo, Táchira, Venezuela\",\"street_number\":\"\",\"street\":\"\",\"city\":\"\",\"county\":\"Fernandez Feo\",\"state\":\"Táchira\",\"country_iso\":\"VE\",\"country\":\"Venezuela\",\"postal_code\":\"5032\",\"phone\":\"\",\"latitude\":7.571383,\"longitude\":-72.04406,\"uct\":-240,\"website\":\"\"}\n",
            "\n",
            "{\"id\":411,\"iata\":\"ATM\",\"icao\":\"SBHT\",\"name\":\"Altamira Airport\",\"location\":\"Altamira, Pará, Brazil\",\"street_number\":\"S/N\",\"street\":\"Avenida Tancredo Neves\",\"city\":\"\",\"county\":\"Altamira\",\"state\":\"Pará\",\"country_iso\":\"BR\",\"country\":\"Brazil\",\"postal_code\":\"68372-590\",\"phone\":\"+55 93 3515-1976\",\"latitude\":-3.2535655,\"longitude\":-52.24909,\"uct\":-180,\"website\":\"http://www4.infraero.gov.br/aeroportos/aeroporto-de-altamira-para\"}\n",
            "\n",
            "{\"id\":7348,\"iata\":\"TGQ\",\"icao\":\"SWTS\",\"name\":\"Tangará da Serra Airport\",\"location\":\"Tangará da Serra, Mato Grosso, Brazil\",\"street_number\":\"\",\"street\":\"\",\"city\":\"\",\"county\":\"Tangará da Serra\",\"state\":\"State of Mato Grosso\",\"country_iso\":\"BR\",\"country\":\"Brazil\",\"postal_code\":\"78300-000\",\"phone\":\"+55 65 3311-4800\",\"latitude\":-14.657461,\"longitude\":-57.445904,\"uct\":-240,\"website\":\"http://www.tangaradaserra.mt.gov.br/\"}\n",
            "\n",
            "{\"id\":4202,\"iata\":\"LIS\",\"icao\":\"LPPT\",\"name\":\"Lisbon Portela Airport\",\"location\":\"Lisbon, Portugal\",\"street_number\":\"\",\"street\":\"Alameda das Comunidades Portuguesas\",\"city\":\"Lisboa\",\"county\":\"\",\"state\":\"Lisboa\",\"country_iso\":\"PT\",\"country\":\"Portugal\",\"postal_code\":\"1700-111\",\"phone\":\"+351 21 841 3500\",\"latitude\":38.775593,\"longitude\":-9.135366,\"uct\":60,\"website\":\"http://www.ana.pt/pt-PT/Aeroportos/Lisboa/Lisboa/Paginas/HomeLisboa.aspx\"}\n",
            "\n",
            "{\"id\":1162,\"iata\":\"CBB\",\"icao\":\"SLCB\",\"name\":\"Jorge Wilstermann International Airport\",\"location\":\"Cochabamba, Bolivia\",\"street_number\":\"\",\"street\":\"\",\"city\":\"Cochabamba\",\"county\":\"Cercado\",\"state\":\"Cochabamba Department\",\"country_iso\":\"BO\",\"country\":\"Bolivia\",\"postal_code\":\"\",\"phone\":\"+591 4 4120400\",\"latitude\":-17.417048,\"longitude\":-66.17871,\"uct\":-240,\"website\":\"\"}\n",
            "\n",
            "{\"id\":6126,\"iata\":\"PSW\",\"icao\":\"SNOS\",\"name\":\"Passos Airport\",\"location\":\"Passos, Minas Gerais, Brazil\",\"street_number\":\"\",\"street\":\"\",\"city\":\"\",\"county\":\"Passos\",\"state\":\"State of Minas Gerais\",\"country_iso\":\"BR\",\"country\":\"Brazil\",\"postal_code\":\"\",\"phone\":\"+55 35 3526-7688\",\"latitude\":-20.734102,\"longitude\":-46.6587,\"uct\":-180,\"website\":\"\"}\n",
            "\n",
            "{\"id\":888,\"iata\":\"BOS\",\"icao\":\"KBOS\",\"name\":\"Logan International Airport\",\"location\":\"Boston, Massachusetts, United States\",\"street_number\":\"1\",\"street\":\"Harborside Drive\",\"city\":\"Boston\",\"county\":\"Suffolk County\",\"state\":\"Massachusetts\",\"country_iso\":\"US\",\"country\":\"United States\",\"postal_code\":\"2128\",\"phone\":\"+1 800-235-6426\",\"latitude\":42.365612,\"longitude\":-71.00956,\"uct\":-240,\"website\":\"http://www.massport.com/logan-airport\"}\n",
            "\n",
            "{\"id\":5163,\"iata\":\"NBO\",\"icao\":\"HKJK\",\"name\":\"Jomo Kenyatta International Airport\",\"location\":\"Nairobi, Kenya\",\"street_number\":\"\",\"street\":\"Embakasi\",\"city\":\"Nairobi\",\"county\":\"\",\"state\":\"Nairobi County\",\"country_iso\":\"KE\",\"country\":\"Kenya\",\"postal_code\":\"\",\"phone\":\"+254 20 822111\",\"latitude\":-1.3227102,\"longitude\":36.92607,\"uct\":180,\"website\":\"https://www.kaa.go.ke/airports/nairobi-jomo-kenyatta-intl-airport\"}\n",
            "\n",
            "{\"id\":2520,\"iata\":\"GEO\",\"icao\":\"SYCJ\",\"name\":\"Cheddi Jagan International Airport\",\"location\":\"Georgetown, Guyana\",\"street_number\":\"\",\"street\":\"Timeri\",\"city\":\"East Bank Demerara\",\"county\":\"\",\"state\":\"Demerara-Mahaica\",\"country_iso\":\"GY\",\"country\":\"Guyana\",\"postal_code\":\"\",\"phone\":\"+592 261 2281\",\"latitude\":6.503833,\"longitude\":-58.25308,\"uct\":-240,\"website\":\"http://www.cjairport-gy.com/\"}\n",
            "\n",
            "{\"id\":6143,\"iata\":\"PTQ\",\"icao\":\"SNMZ\",\"name\":\"Porto de Moz Airport\",\"location\":\"Porto de Moz, Pará, Brazil\",\"street_number\":\"\",\"street\":\"\",\"city\":\"\",\"county\":\"\",\"state\":\"\",\"country_iso\":\"\",\"country\":\"\",\"postal_code\":\"\",\"phone\":\"\",\"latitude\":0,\"longitude\":0,\"uct\":0,\"website\":\"\"}\n",
            "\n",
            "{\"error\":{\"text\":\"No airport found\"}}\n",
            "\n",
            "{\"id\":2761,\"iata\":\"GVR\",\"icao\":\"SBGV\",\"name\":\"Coronel Altino Machado de Oliveira Airport\",\"location\":\"Governador Valadares, Minas Gerais, Brazil\",\"street_number\":\"s/n\",\"street\":\"Avenida Industrial\",\"city\":\"\",\"county\":\"Governador Valadares\",\"state\":\"Minas Gerais\",\"country_iso\":\"BR\",\"country\":\"Brazil\",\"postal_code\":\"35040-260\",\"phone\":\"+55 33 3277-3935\",\"latitude\":-18.897291,\"longitude\":-41.986973,\"uct\":-180,\"website\":\"\"}\n",
            "\n",
            "{\"id\":7204,\"iata\":\"SZX\",\"icao\":\"ZGSZ\",\"name\":\"Shenzhen Bao'an International Airport\",\"location\":\"Shenzhen, Guangdong, China\",\"street_number\":\"\",\"street\":\"\",\"city\":\"Shenzhen\",\"county\":\"\",\"state\":\"Guangdong\",\"country_iso\":\"CN\",\"country\":\"China\",\"postal_code\":\"\",\"phone\":\"+86 755 2345 6789\",\"latitude\":22.636827,\"longitude\":113.814606,\"uct\":480,\"website\":\"http://www.szairport.com/\"}\n",
            "\n",
            "{\"id\":6815,\"iata\":\"SJP\",\"icao\":\"SBSR\",\"name\":\"Prof. Eribelto Manoel Reino State Airport\",\"location\":\"São José do Rio Preto, São Paulo, Brazil\",\"street_number\":\"3505\",\"street\":\"Avenida dos Estudantes\",\"city\":\"\",\"county\":\"São José do Rio Preto\",\"state\":\"São Paulo\",\"country_iso\":\"BR\",\"country\":\"Brazil\",\"postal_code\":\"15035-010\",\"phone\":\"+55 17 3233-1919\",\"latitude\":-20.812494,\"longitude\":-49.404926,\"uct\":-180,\"website\":\"http://www.daesp.sp.gov.br/aeroporto-detalhe/?id=889\"}\n",
            "\n",
            "{\"id\":947,\"iata\":\"BRU\",\"icao\":\"EBBR\",\"name\":\"Brussels Airport (Zaventem Airport)\",\"location\":\"Brussels, Belgium\",\"street_number\":\"\",\"street\":\"Leopoldlaan\",\"city\":\"Zaventem\",\"county\":\"Vlaams-Brabant\",\"state\":\"Vlaanderen\",\"country_iso\":\"BE\",\"country\":\"Belgium\",\"postal_code\":\"1930\",\"phone\":\"+32 2 753 77 53\",\"latitude\":50.900997,\"longitude\":4.4855742,\"uct\":120,\"website\":\"http://www.brusselsairport.be/\"}\n",
            "\n",
            "{\"id\":447,\"iata\":\"AUX\",\"icao\":\"SWGN\",\"name\":\"Araguaína Airport\",\"location\":\"Araguaína, Tocantins, Brazil\",\"street_number\":\"280\",\"street\":\"Avenida Dionísio Farias\",\"city\":\"\",\"county\":\"Araguaína\",\"state\":\"Tocantins\",\"country_iso\":\"BR\",\"country\":\"Brazil\",\"postal_code\":\"65907-230\",\"phone\":\"+55 63 99291-8995\",\"latitude\":-7.2283916,\"longitude\":-48.240532,\"uct\":-180,\"website\":\"\"}\n",
            "\n",
            "{\"id\":2363,\"iata\":\"FOR\",\"icao\":\"SBFZ\",\"name\":\"Pinto Martins – Fortaleza International Airport\",\"location\":\"Fortaleza, Ceará, Brazil\",\"street_number\":\"\",\"street\":\"\",\"city\":\"\",\"county\":\"Fortaleza\",\"state\":\"Ceará\",\"country_iso\":\"BR\",\"country\":\"Brazil\",\"postal_code\":\"60741-900\",\"phone\":\"+55 85 3392-1200\",\"latitude\":-3.7771554,\"longitude\":-38.533096,\"uct\":-180,\"website\":\"http://www.infraero.gov.br/index.php/br/aeroportos/ceara/aeroporto-internacional-pinto-martins.html\"}\n",
            "\n",
            "{\"id\":3465,\"iata\":\"JOI\",\"icao\":\"SBJV\",\"name\":\"Joinville-Lauro Carneiro de Loyola Airport\",\"location\":\"Joinville, Santa Catarina, Brazil\",\"street_number\":\"9000\",\"street\":\"Avenida Santos Dumont\",\"city\":\"\",\"county\":\"Joinville\",\"state\":\"Santa Catarina\",\"country_iso\":\"BR\",\"country\":\"Brazil\",\"postal_code\":\"89223-600\",\"phone\":\"+55 47 3417-4000\",\"latitude\":-26.224194,\"longitude\":-48.801685,\"uct\":-180,\"website\":\"http://www4.infraero.gov.br/aeroportos/aeroporto-de-joinville-lauro-carneiro-de-loyola/\"}\n",
            "\n",
            "{\"id\":1279,\"iata\":\"CGH\",\"icao\":\"SBSP\",\"name\":\"São Paulo–Congonhas Airport\",\"location\":\"São Paulo, São Paulo, Brazil\",\"street_number\":\"s/nº\",\"street\":\"Avenida Washington Luís\",\"city\":\"\",\"county\":\"São Paulo\",\"state\":\"São Paulo\",\"country_iso\":\"BR\",\"country\":\"Brazil\",\"postal_code\":\"04626-911\",\"phone\":\"+55 11 5090-9000\",\"latitude\":-23.627325,\"longitude\":-46.656586,\"uct\":-180,\"website\":\"http://www.infraero.com.br/index.php/br/aeroportos/sao-paulo/aeroporto-de-sao-paulo-congonhas.html\"}\n",
            "\n",
            "{\"id\":6557,\"iata\":\"RVD\",\"icao\":\"SWLC\",\"name\":\"General Leite de Castro Airport\",\"location\":\"Rio Verde, Goiás, Brazil\",\"street_number\":\"s/nº\",\"street\":\"Rua do Ipê\",\"city\":\"\",\"county\":\"Rio Verde\",\"state\":\"Goiás\",\"country_iso\":\"BR\",\"country\":\"Brazil\",\"postal_code\":\"75900-000\",\"phone\":\"+55 64 3620-2125\",\"latitude\":-17.836782,\"longitude\":-50.958645,\"uct\":-180,\"website\":\"\"}\n",
            "\n",
            "{\"id\":7053,\"iata\":\"STL\",\"icao\":\"KSTL\",\"name\":\"Lambert–St. Louis International Airport\",\"location\":\"St. Louis, Missouri, United States\",\"street_number\":\"10701\",\"street\":\"Lambert International Boulevard\",\"city\":\"St. Louis\",\"county\":\"St. Louis County\",\"state\":\"Missouri\",\"country_iso\":\"US\",\"country\":\"United States\",\"postal_code\":\"63145\",\"phone\":\"+1 314-890-1333\",\"latitude\":38.751648,\"longitude\":-90.37153,\"uct\":-300,\"website\":\"http://www.flystl.com/\"}\n",
            "\n",
            "{\"id\":146,\"iata\":\"AGT\",\"icao\":\"SGES\",\"name\":\"Guaraní International Airport\",\"location\":\"Ciudad del Este, Paraguay\",\"street_number\":\"\",\"street\":\"Ruta Internacional 7\",\"city\":\"Minga Guazú\",\"county\":\"Minga Guazú\",\"state\":\"Departamento de Alto Paraná\",\"country_iso\":\"PY\",\"country\":\"Paraguay\",\"postal_code\":\"\",\"phone\":\"\",\"latitude\":-25.4555,\"longitude\":-54.843594,\"uct\":-180,\"website\":\"http://www.dinac.gov.py/\"}\n",
            "\n",
            "{\"id\":119,\"iata\":\"AFL\",\"icao\":\"SBAT\",\"name\":\"Alta Floresta Airport\",\"location\":\"Alta Floresta, Mato Grosso, Brazil\",\"street_number\":\"\",\"street\":\"\",\"city\":\"\",\"county\":\"Alta Floresta\",\"state\":\"State of Mato Grosso\",\"country_iso\":\"BR\",\"country\":\"Brazil\",\"postal_code\":\"78580-000\",\"phone\":\"+55 66 3521-2226\",\"latitude\":-9.872357,\"longitude\":-56.105198,\"uct\":-240,\"website\":\"\"}\n",
            "\n",
            "{\"id\":1105,\"iata\":\"BYO\",\"icao\":\"SBDB\",\"name\":\"Bonito Airport\",\"location\":\"Bonito, Mato Grosso do Sul, Brazil\",\"street_number\":\"s/n\",\"street\":\"MS-178\",\"city\":\"\",\"county\":\"Bonito\",\"state\":\"Mato Grosso do Sul\",\"country_iso\":\"BR\",\"country\":\"Brazil\",\"postal_code\":\"79290-000\",\"phone\":\"+55 67 3255-3222\",\"latitude\":-21.243193,\"longitude\":-56.44983,\"uct\":-240,\"website\":\"http://www.portalbonito.com.br/servicos/informacoes\"}\n",
            "\n",
            "{\"id\":693,\"iata\":\"BGX\",\"icao\":\"SBBG\",\"name\":\"Comandante Gustavo Kraemer Airport\",\"location\":\"Bagé, Rio Grande do Sul, Brazil\",\"street_number\":\"\",\"street\":\"\",\"city\":\"Bagé\",\"county\":\"Bagé\",\"state\":\"Rio Grande do Sul\",\"country_iso\":\"BR\",\"country\":\"Brazil\",\"postal_code\":\"\",\"phone\":\"+55 53 3242-7702\",\"latitude\":-31.389591,\"longitude\":-54.11207,\"uct\":-180,\"website\":\"http://www4.infraero.gov.br/aeroportos/aeroporto-internacional-de-bage-comandante-gustavo-kraemer/\"}\n",
            "\n",
            "{\"id\":8947,\"iata\":\"ZRH\",\"icao\":\"LSZH\",\"name\":\"Zürich Airport\",\"location\":\"Zürich, Switzerland\",\"street_number\":\"\",\"street\":\"\",\"city\":\"Zürich-Flughafen\",\"county\":\"\",\"state\":\"Zürich\",\"country_iso\":\"CH\",\"country\":\"Switzerland\",\"postal_code\":\"8058\",\"phone\":\"+41 43 816 22 11\",\"latitude\":47.458218,\"longitude\":8.555475,\"uct\":120,\"website\":\"https://www.flughafen-zuerich.ch/\"}\n",
            "\n",
            "{\"id\":6028,\"iata\":\"PNZ\",\"icao\":\"SBPL\",\"name\":\"Senador Nilo Coelho Airport\",\"location\":\"Petrolina, Pernambuco, Brazil\",\"street_number\":\"s/n\",\"street\":\"Rodovia BR 235 - km 11\",\"city\":\"\",\"county\":\"Petrolina\",\"state\":\"Pernambuco\",\"country_iso\":\"BR\",\"country\":\"Brazil\",\"postal_code\":\"56313-900\",\"phone\":\"+55 87 3867-9600\",\"latitude\":-9.366508,\"longitude\":-40.566074,\"uct\":-180,\"website\":\"http://www.infraero.gov.br/\"}\n",
            "\n",
            "{\"id\":4487,\"iata\":\"MAB\",\"icao\":\"SBMA\",\"name\":\"João Correa da Rocha Airport\",\"location\":\"Marabá, Pará, Brazil\",\"street_number\":\"\",\"street\":\"\",\"city\":\"\",\"county\":\"Marabá\",\"state\":\"Pará\",\"country_iso\":\"BR\",\"country\":\"Brazil\",\"postal_code\":\"\",\"phone\":\"+55 94 3324-1383\",\"latitude\":-5.3715158,\"longitude\":-49.13676,\"uct\":-180,\"website\":\"http://www4.infraero.gov.br/aeroportos/aeroporto-de-maraba-joao-correa-da-rocha/\"}\n",
            "\n",
            "{\"id\":6385,\"iata\":\"RIA\",\"icao\":\"SBSM\",\"name\":\"Santa Maria Airport\",\"location\":\"Santa Maria, Rio Grande do Sul, Brazil\",\"street_number\":\"3249\",\"street\":\"Terminal Drive\",\"city\":\"Santa Maria\",\"county\":\"Santa Barbara County\",\"state\":\"California\",\"country_iso\":\"US\",\"country\":\"United States\",\"postal_code\":\"93455\",\"phone\":\"+1 805-922-1726\",\"latitude\":34.89914,\"longitude\":-120.44778,\"uct\":-420,\"website\":\"http://www.santamariaairport.com/\"}\n",
            "\n",
            "{\"error\":{\"text\":\"No airport found\"}}\n",
            "\n",
            "{\"id\":3882,\"iata\":\"KRT\",\"icao\":\"HSSS\",\"name\":\"Khartoum International Airport\",\"location\":\"Khartoum, Sudan\",\"street_number\":\"\",\"street\":\"\",\"city\":\"Khartoum\",\"county\":\"Khartoum\",\"state\":\"Khartoum\",\"country_iso\":\"SD\",\"country\":\"Sudan\",\"postal_code\":\"\",\"phone\":\"\",\"latitude\":15.592767,\"longitude\":32.552235,\"uct\":120,\"website\":\"\"}\n",
            "\n",
            "{\"id\":2787,\"iata\":\"GYN\",\"icao\":\"SBGO\",\"name\":\"Santa Genoveva Airport\",\"location\":\"Goiânia, Goiás, Brazil\",\"street_number\":\"s/n\",\"street\":\"Alameda 4\",\"city\":\"\",\"county\":\"Goiânia\",\"state\":\"Goiás\",\"country_iso\":\"BR\",\"country\":\"Brazil\",\"postal_code\":\"74672-410\",\"phone\":\"+55 62 3265-1500\",\"latitude\":-16.632303,\"longitude\":-49.216347,\"uct\":-180,\"website\":\"http://www4.infraero.gov.br/aeroportos/aeroporto-de-goiania-santa-genoveva/\"}\n",
            "\n",
            "{\"id\":6294,\"iata\":\"RBR\",\"icao\":\"SBRB\",\"name\":\"Plácido de Castro International Airport\",\"location\":\"Rio Branco, Acre, Brazil\",\"street_number\":\"\",\"street\":\"\",\"city\":\"\",\"county\":\"\",\"state\":\"\",\"country_iso\":\"\",\"country\":\"\",\"postal_code\":\"\",\"phone\":\"\",\"latitude\":0,\"longitude\":0,\"uct\":0,\"website\":\"\"}\n",
            "\n",
            "{\"id\":7767,\"iata\":\"UIO\",\"icao\":\"SEQM\",\"name\":\"Mariscal Sucre International Airport\",\"location\":\"Quito, Ecuador\",\"street_number\":\"\",\"street\":\"\",\"city\":\"Quito\",\"county\":\"Distrito Metropolitano de Quito\",\"state\":\"Pichincha\",\"country_iso\":\"EC\",\"country\":\"Ecuador\",\"postal_code\":\"170183\",\"phone\":\"+593 2-395-4200\",\"latitude\":-0.1243826,\"longitude\":-78.36049,\"uct\":-300,\"website\":\"http://aeropuertoquito.aero/\"}\n",
            "\n",
            "{\"id\":2150,\"iata\":\"ERM\",\"icao\":\"SSER\",\"name\":\"Erechim Airport\",\"location\":\"Erechim, Rio Grande do Sul, Brazil\",\"street_number\":\"83\",\"street\":\"r Delmar Rigoni\",\"city\":\"\",\"county\":\"Erechim\",\"state\":\"Rio Grande do Sul\",\"country_iso\":\"BR\",\"country\":\"Brazil\",\"postal_code\":\"99700-000\",\"phone\":\"+55 54 3522-8552\",\"latitude\":-27.659575,\"longitude\":-52.276295,\"uct\":-180,\"website\":\"\"}\n",
            "\n",
            "{\"id\":1584,\"iata\":\"CUN\",\"icao\":\"MMUN\",\"name\":\"Cancún International Airport\",\"location\":\"Cancún, Quintana Roo, Mexico\",\"street_number\":\"\",\"street\":\"Carretera Cancún-Chetumal Km 22\",\"city\":\"Cancún\",\"county\":\"\",\"state\":\"Quintana Roo\",\"country_iso\":\"MX\",\"country\":\"Mexico\",\"postal_code\":\"77565\",\"phone\":\"+52 55 5284 0400\",\"latitude\":21.04034,\"longitude\":-86.873566,\"uct\":-300,\"website\":\"http://www.asur.com.mx/\"}\n",
            "\n",
            "{\"id\":3398,\"iata\":\"JED\",\"icao\":\"OEJN\",\"name\":\"King Abdulaziz International Airport\",\"location\":\"Jeddah, Saudi Arabia\",\"street_number\":\"\",\"street\":\"\",\"city\":\"\",\"county\":\"\",\"state\":\"\",\"country_iso\":\"\",\"country\":\"\",\"postal_code\":\"\",\"phone\":\"\",\"latitude\":0,\"longitude\":0,\"uct\":0,\"website\":\"\"}\n",
            "\n",
            "{\"id\":1033,\"iata\":\"BVH\",\"icao\":\"SBVH\",\"name\":\"Vilhena Airport (Brigadeiro Camarão Airport)\",\"location\":\"Vilhena, Rondônia, Brazil\",\"street_number\":\"6650\",\"street\":\"Aeroporto Brigadeiro Camarão\",\"city\":\"\",\"county\":\"Vilhena\",\"state\":\"Rondônia\",\"country_iso\":\"BR\",\"country\":\"Brazil\",\"postal_code\":\"78995-000\",\"phone\":\"+55 69 3321-5498\",\"latitude\":-12.689778,\"longitude\":-60.100487,\"uct\":-240,\"website\":\"\"}\n",
            "\n",
            "{\"id\":5773,\"iata\":\"PAP\",\"icao\":\"MTPP\",\"name\":\"Toussaint L'Ouverture International Airport\",\"location\":\"Port-au-Prince, Haiti\",\"street_number\":\"\",\"street\":\"Boulevard Toussaint Louverture\",\"city\":\"Port-au-Prince\",\"county\":\"\",\"state\":\"Ouest\",\"country_iso\":\"HT\",\"country\":\"Haiti\",\"postal_code\":\"\",\"phone\":\"+509 48 65 6436\",\"latitude\":18.575655,\"longitude\":-72.29489,\"uct\":-240,\"website\":\"http://pap.aan-haiti.com/\"}\n",
            "\n",
            "{\"id\":1669,\"iata\":\"CZS\",\"icao\":\"SBCZ\",\"name\":\"Cruzeiro do Sul International Airport\",\"location\":\"Cruzeiro do Sul, Acre, Brazil\",\"street_number\":\"\",\"street\":\"\",\"city\":\"\",\"county\":\"Cruzeiro do Sul\",\"state\":\"Acre\",\"country_iso\":\"BR\",\"country\":\"Brazil\",\"postal_code\":\"69980-970\",\"phone\":\"+55 68 3311-1900\",\"latitude\":-7.598349,\"longitude\":-72.77343,\"uct\":-300,\"website\":\"http://www4.infraero.gov.br/aeroportos/aeroporto-internacional-cruzeiro-do-sul/\"}\n",
            "\n",
            "{\"id\":7410,\"iata\":\"TJL\",\"icao\":\"SBTG\",\"name\":\"Plínio Alarcom Airport\",\"location\":\"Três Lagoas, Mato Grosso do Sul, Brazil\",\"street_number\":\"\",\"street\":\"Avenida Antônio Trajano\",\"city\":\"\",\"county\":\"Três Lagoas\",\"state\":\"Mato Grosso do Sul\",\"country_iso\":\"BR\",\"country\":\"Brazil\",\"postal_code\":\"\",\"phone\":\"\",\"latitude\":-20.753672,\"longitude\":-51.68211,\"uct\":-240,\"website\":\"\"}\n",
            "\n",
            "{\"error\":{\"text\":\"No airport found\"}}\n",
            "\n",
            "{\"id\":34,\"iata\":\"ABJ\",\"icao\":\"DIAP\",\"name\":\"Port Bouet Airport (Felix Houphouet Boigny Int'l)\",\"location\":\"Abidjan, Côte d'Ivoire\",\"street_number\":\"\",\"street\":\"\",\"city\":\"Abidjan\",\"county\":\"Abidjan\",\"state\":\"Abidjan\",\"country_iso\":\"CI\",\"country\":\"Côte d'Ivoire\",\"postal_code\":\"\",\"phone\":\"+225 21 75 79 00\",\"latitude\":5.2544694,\"longitude\":-3.9296293,\"uct\":0,\"website\":\"http://www.aeria-ci.com/\"}\n",
            "\n",
            "{\"id\":2782,\"iata\":\"GYE\",\"icao\":\"SEGU\",\"name\":\"José Joaquín de Olmedo International Airport\",\"location\":\"Guayaquil, Ecuador\",\"street_number\":\"\",\"street\":\"Avenida de Las Américas\",\"city\":\"Guayaquil\",\"county\":\"\",\"state\":\"Guayas\",\"country_iso\":\"EC\",\"country\":\"Ecuador\",\"postal_code\":\"90513\",\"phone\":\"+593 4-216-9000\",\"latitude\":-2.1480534,\"longitude\":-79.8842,\"uct\":-300,\"website\":\"http://www.tagsa.aero/\"}\n",
            "\n",
            "{\"id\":2563,\"iata\":\"GIG\",\"icao\":\"SBGL\",\"name\":\"Rio de Janeiro–Galeão International Airport\",\"location\":\"Rio de Janeiro, Brazil\",\"street_number\":\"s/nº\",\"street\":\"Av. Vinte de Janeiro\",\"city\":\"\",\"county\":\"Rio de Janeiro\",\"state\":\"Rio de Janeiro\",\"country_iso\":\"BR\",\"country\":\"Brazil\",\"postal_code\":\"21941-900\",\"phone\":\"+55 21 3004-6050\",\"latitude\":-22.805265,\"longitude\":-43.25663,\"uct\":-180,\"website\":\"http://www.riogaleao.com/\"}\n",
            "\n",
            "{\"id\":7151,\"iata\":\"SXO\",\"icao\":\"SWFX\",\"name\":\"São Félix do Araguaia Airport\",\"location\":\"São Félix do Araguaia, Mato Grosso, Brazil\",\"street_number\":\"1408\",\"street\":\"Avenida Aldenor M da Cunha\",\"city\":\"\",\"county\":\"São Félix do Araguaia\",\"state\":\"Mato Grosso\",\"country_iso\":\"BR\",\"country\":\"Brazil\",\"postal_code\":\"78670-000\",\"phone\":\"+55 66 3522-1680\",\"latitude\":-11.632422,\"longitude\":-50.685997,\"uct\":-240,\"website\":\"\"}\n",
            "\n",
            "{\"id\":2224,\"iata\":\"EZE\",\"icao\":\"SAEZ\",\"name\":\"Ministro Pistarini International Airport\",\"location\":\"Buenos Aires, Argentina\",\"street_number\":\"\",\"street\":\"Autopista Tte Gral. Ricchieri Km 33,5\",\"city\":\"Ezeiza\",\"county\":\"Ezeiza\",\"state\":\"Provincia de Buenos Aires\",\"country_iso\":\"AR\",\"country\":\"Argentina\",\"postal_code\":\"B1802\",\"phone\":\"+54 11 5480-6111\",\"latitude\":-34.815006,\"longitude\":-58.53483,\"uct\":-180,\"website\":\"http://www.aa2000.com.ar/\"}\n",
            "\n",
            "{\"error\":{\"text\":\"No airport found\"}}\n",
            "\n",
            "{\"id\":5013,\"iata\":\"MVF\",\"icao\":\"SBMS\",\"name\":\"Gov. Dix-Sept Rosado Airport\",\"location\":\"Mossoró, Rio Grande do Norte, Brazil\",\"street_number\":\"\",\"street\":\"\",\"city\":\"\",\"county\":\"\",\"state\":\"\",\"country_iso\":\"\",\"country\":\"\",\"postal_code\":\"\",\"phone\":\"\",\"latitude\":0,\"longitude\":0,\"uct\":0,\"website\":\"\"}\n",
            "\n",
            "{\"id\":3263,\"iata\":\"IQQ\",\"icao\":\"SCDA\",\"name\":\"Diego Aracena International Airport\",\"location\":\"Iquique, Chile\",\"street_number\":\"\",\"street\":\"1\",\"city\":\"\",\"county\":\"Iquique\",\"state\":\"Región de Tarapacá\",\"country_iso\":\"CL\",\"country\":\"Chile\",\"postal_code\":\"\",\"phone\":\"\",\"latitude\":-20.536407,\"longitude\":-70.18052,\"uct\":-180,\"website\":\"http://www.aeropuertodiegoaracena.cl/\"}\n",
            "\n",
            "{\"id\":7359,\"iata\":\"THE\",\"icao\":\"SBTE\",\"name\":\"Teresina–Senador Petrônio Portella Airport\",\"location\":\"Teresina, Piauí, Brazil\",\"street_number\":\"\",\"street\":\"\",\"city\":\"\",\"county\":\"Teresina\",\"state\":\"Piauí\",\"country_iso\":\"BR\",\"country\":\"Brazil\",\"postal_code\":\"64006-700\",\"phone\":\"+55 86 3133-6270\",\"latitude\":-5.063463,\"longitude\":-42.82119,\"uct\":-180,\"website\":\"http://www4.infraero.gov.br/aeroportos/aeroporto-de-teresina-senador-petronio-portella/\"}\n",
            "\n",
            "{\"id\":6679,\"iata\":\"SDU\",\"icao\":\"SBRJ\",\"name\":\"Santos Dumont Airport\",\"location\":\"Rio de Janeiro, Rio de Janeiro, Brazil\",\"street_number\":\"s/n\",\"street\":\"Praça Senador Salgado Filho\",\"city\":\"\",\"county\":\"Rio de Janeiro\",\"state\":\"Rio de Janeiro\",\"country_iso\":\"BR\",\"country\":\"Brazil\",\"postal_code\":\"20021-340\",\"phone\":\"+55 21 3814-7070\",\"latitude\":-22.911144,\"longitude\":-43.164875,\"uct\":-180,\"website\":\"http://www4.infraero.gov.br/aeroportos/aeroporto-do-rio-de-janeiro-santos-dumont/\"}\n",
            "\n",
            "{\"id\":2262,\"iata\":\"FCO\",\"icao\":\"LIRF\",\"name\":\"Leonardo da Vinci–Fiumicino Airport\",\"location\":\"Rome, Lazio, Italy\",\"street_number\":\"\",\"street\":\"Via dell' Aeroporto di Fiumicino\",\"city\":\"Fiumicino\",\"county\":\"Città Metropolitana di Roma\",\"state\":\"Lazio\",\"country_iso\":\"IT\",\"country\":\"Italy\",\"postal_code\":\"54\",\"phone\":\"+39 06 65951\",\"latitude\":41.79989,\"longitude\":12.246239,\"uct\":120,\"website\":\"http://www.adr.it/\"}\n",
            "\n",
            "{\"id\":5683,\"iata\":\"OSR\",\"icao\":\"LKMT\",\"name\":\"Leoš Janáček Airport Ostrava\",\"location\":\"Ostrava, Czech Republic\",\"street_number\":\"\",\"street\":\"\",\"city\":\"Mošnov\",\"county\":\"Nový Jičín\",\"state\":\"Moravskoslezský kraj\",\"country_iso\":\"CZ\",\"country\":\"Czechia\",\"postal_code\":\"742 51\",\"phone\":\"+420 597 471 136\",\"latitude\":49.69696,\"longitude\":18.116503,\"uct\":120,\"website\":\"http://www.airport-ostrava.cz\"}\n",
            "\n",
            "{\"id\":1745,\"iata\":\"DFW\",\"icao\":\"KDFW\",\"name\":\"Dallas/Fort Worth International Airport\",\"location\":\"Dallas / Fort Worth, Texas, United States\",\"street_number\":\"2400\",\"street\":\"Aviation Drive\",\"city\":\"DFW Airport\",\"county\":\"\",\"state\":\"Texas\",\"country_iso\":\"US\",\"country\":\"United States\",\"postal_code\":\"75261\",\"phone\":\"+1 972-973-3112\",\"latitude\":32.89981,\"longitude\":-97.04034,\"uct\":-300,\"website\":\"http://www.dfwairport.com/\"}\n",
            "\n",
            "{\"id\":7721,\"iata\":\"UBA\",\"icao\":\"SBUR\",\"name\":\"Mário de Almeida Franco Airport\",\"location\":\"Uberaba, Minas Gerais, Brazil\",\"street_number\":\"\",\"street\":\"Avenida Nenê Sabino\",\"city\":\"\",\"county\":\"Uberaba\",\"state\":\"Minas Gerais\",\"country_iso\":\"BR\",\"country\":\"Brazil\",\"postal_code\":\"38050-400\",\"phone\":\"+55 34 3319-9400\",\"latitude\":-19.76504,\"longitude\":-47.96185,\"uct\":-180,\"website\":\"http://www4.infraero.gov.br/aeroportos/aeroporto-de-uberaba-mario-de-almeida-franco/\"}\n",
            "\n",
            "{\"id\":53,\"iata\":\"ACC\",\"icao\":\"DGAA\",\"name\":\"Kotoka International Airport\",\"location\":\"Accra, Ghana\",\"street_number\":\"\",\"street\":\"Airport Road\",\"city\":\"Accra\",\"county\":\"Accra Metropolis\",\"state\":\"Greater Accra Region\",\"country_iso\":\"GH\",\"country\":\"Ghana\",\"postal_code\":\"\",\"phone\":\"+233 30 277 6171\",\"latitude\":5.6060953,\"longitude\":-0.1681235,\"uct\":0,\"website\":\"http://www.gacl.com.gh/\"}\n",
            "\n",
            "{\"id\":4537,\"iata\":\"MBZ\",\"icao\":\"SWMW\",\"name\":\"Maués Airport\",\"location\":\"Maués, Amazonas, Brazil\",\"street_number\":\"1593\",\"street\":\"Estrada São João\",\"city\":\"\",\"county\":\"Maués\",\"state\":\"Amazonas\",\"country_iso\":\"BR\",\"country\":\"Brazil\",\"postal_code\":\"69190-000\",\"phone\":\"\",\"latitude\":-3.374394,\"longitude\":-57.723732,\"uct\":-240,\"website\":\"\"}\n",
            "\n",
            "{\"id\":3248,\"iata\":\"IOS\",\"icao\":\"SBIL\",\"name\":\"Ilhéus Jorge Amado Airport\",\"location\":\"Ilhéus, Bahia, Brazil\",\"street_number\":\"S/N\",\"street\":\"Rua Brigadeiro Eduardo Gomes\",\"city\":\"\",\"county\":\"Ilhéus\",\"state\":\"Bahia\",\"country_iso\":\"BR\",\"country\":\"Brazil\",\"postal_code\":\"45654-070\",\"phone\":\"+55 73 3234-4000\",\"latitude\":-14.814534,\"longitude\":-39.032215,\"uct\":-180,\"website\":\"http://ilheusairportjorgeamado.caracolpark.co/\"}\n",
            "\n",
            "{\"id\":3531,\"iata\":\"KAN\",\"icao\":\"DNKN\",\"name\":\"Mallam Aminu Kano International Airport\",\"location\":\"Kano, Nigeria\",\"street_number\":\"\",\"street\":\"Sani Abacha Way\",\"city\":\"Kano\",\"county\":\"\",\"state\":\"Kano\",\"country_iso\":\"NG\",\"country\":\"Nigeria\",\"postal_code\":\"\",\"phone\":\"\",\"latitude\":12.04565,\"longitude\":8.522076,\"uct\":60,\"website\":\"http://www.faan.gov.ng/mallam-aminu-kano-international-airport/\"}\n",
            "\n",
            "{\"id\":112,\"iata\":\"AEX\",\"icao\":\"KAEX\",\"name\":\"Alexandria International Airport\",\"location\":\"Alexandria, Louisiana, United States\",\"street_number\":\"1100\",\"street\":\"Frank Andrews Boulevard\",\"city\":\"Alexandria\",\"county\":\"Rapides Parish\",\"state\":\"Louisiana\",\"country_iso\":\"US\",\"country\":\"United States\",\"postal_code\":\"71303\",\"phone\":\"+1 318-449-3504\",\"latitude\":31.327412,\"longitude\":-92.54519,\"uct\":-300,\"website\":\"http://www.englandairpark.org/aex\"}\n",
            "\n",
            "{\"id\":6675,\"iata\":\"SDQ\",\"icao\":\"MDSD\",\"name\":\"Las Américas International Airport\",\"location\":\"Santo Domingo, Dominican Republic\",\"street_number\":\"\",\"street\":\"Ruta 66\",\"city\":\"Santo Domingo\",\"county\":\"\",\"state\":\"Santo Domingo\",\"country_iso\":\"DO\",\"country\":\"Dominican Republic\",\"postal_code\":\"\",\"phone\":\"+1 809-947-2225\",\"latitude\":18.431953,\"longitude\":-69.6721,\"uct\":-240,\"website\":\"http://www.aerodom.com/app/do/frontpage.aspx\"}\n",
            "\n",
            "{\"id\":8291,\"iata\":\"WUH\",\"icao\":\"ZHHH\",\"name\":\"Wuhan Tianhe International Airport\",\"location\":\"Wuhan, Hubei, China\",\"street_number\":\"\",\"street\":\"\",\"city\":\"Wuhan\",\"county\":\"\",\"state\":\"Hubei\",\"country_iso\":\"CN\",\"country\":\"China\",\"postal_code\":\"\",\"phone\":\"+86 27 96577\",\"latitude\":30.776617,\"longitude\":114.21245,\"uct\":480,\"website\":\"\"}\n",
            "\n",
            "{\"error\":{\"text\":\"No airport found\"}}\n",
            "\n",
            "{\"id\":6992,\"iata\":\"SQX\",\"icao\":\"SSOE\",\"name\":\"Hélio Wasum Airport\",\"location\":\"São Miguel do Oeste, Santa Catarina, Brazil\",\"street_number\":\"\",\"street\":\"\",\"city\":\"\",\"county\":\"São Miguel do Oeste\",\"state\":\"State of Santa Catarina\",\"country_iso\":\"BR\",\"country\":\"Brazil\",\"postal_code\":\"89900-000\",\"phone\":\"\",\"latitude\":-26.778214,\"longitude\":-53.50558,\"uct\":-180,\"website\":\"\"}\n",
            "\n",
            "{\"id\":128,\"iata\":\"AGA\",\"icao\":\"GMAD\",\"name\":\"Agadir–Al Massira Airport\",\"location\":\"Agadir, Morocco\",\"street_number\":\"\",\"street\":\"\",\"city\":\"Agadir Al Massira\",\"county\":\"إنزكان-أيت ملول\",\"state\":\"جهة سوس ماسة\",\"country_iso\":\"MA\",\"country\":\"Morocco\",\"postal_code\":\"80000\",\"phone\":\"+212 5288-39152\",\"latitude\":30.327028,\"longitude\":-9.4128895,\"uct\":60,\"website\":\"http://www.agadir-airport.com/\"}\n",
            "\n",
            "{\"id\":2754,\"iata\":\"GUZ\",\"icao\":\"SNGA\",\"name\":\"Guarapari Airport\",\"location\":\"Guarapari, Espírito Santo, Brazil\",\"street_number\":\"187\",\"street\":\"Avenida Padre José Anchieta\",\"city\":\"\",\"county\":\"Guarapari\",\"state\":\"Espírito Santo\",\"country_iso\":\"BR\",\"country\":\"Brazil\",\"postal_code\":\"29215-250\",\"phone\":\"+55 27 3361-2813\",\"latitude\":-20.647001,\"longitude\":-40.490875,\"uct\":-180,\"website\":\"\"}\n",
            "\n",
            "{\"id\":442,\"iata\":\"AUS\",\"icao\":\"KAUS\",\"name\":\"Austin–Bergstrom International Airport\",\"location\":\"Austin, Texas, United States\",\"street_number\":\"3600\",\"street\":\"Presidential Boulevard\",\"city\":\"Austin\",\"county\":\"Travis County\",\"state\":\"Texas\",\"country_iso\":\"US\",\"country\":\"United States\",\"postal_code\":\"78719\",\"phone\":\"+1 512-530-2242\",\"latitude\":30.197472,\"longitude\":-97.66635,\"uct\":-300,\"website\":\"http://www.austintexas.gov/airport/\"}\n",
            "\n",
            "{\"id\":7638,\"iata\":\"TUC\",\"icao\":\"SANT\",\"name\":\"Teniente General Benjamín Matienzo International Airport\",\"location\":\"San Miguel de Tucumán, Tucumán, Argentina\",\"street_number\":\"\",\"street\":\"Delfin Gallo\",\"city\":\"San Miguel de Tucumán\",\"county\":\"Cruz Alta\",\"state\":\"Tucumán\",\"country_iso\":\"AR\",\"country\":\"Argentina\",\"postal_code\":\"T4117\",\"phone\":\"+54 381 426-5072\",\"latitude\":-26.835888,\"longitude\":-65.10836,\"uct\":-180,\"website\":\"http://www.aa2000.com.ar/tucuman\"}\n",
            "\n",
            "{\"id\":6759,\"iata\":\"SHJ\",\"icao\":\"OMSJ\",\"name\":\"Sharjah International Airport\",\"location\":\"Sharjah, United Arab Emirates\",\"street_number\":\"\",\"street\":\"\",\"city\":\"Sharjah\",\"county\":\"\",\"state\":\"Sharjah\",\"country_iso\":\"AE\",\"country\":\"United Arab Emirates\",\"postal_code\":\"\",\"phone\":\"+971 6 558 1111\",\"latitude\":25.328436,\"longitude\":55.512257,\"uct\":240,\"website\":\"http://www.sharjahairport.ae/\"}\n",
            "\n",
            "{\"id\":7493,\"iata\":\"TNA\",\"icao\":\"ZSJN\",\"name\":\"Jinan Yaoqiang International Airport\",\"location\":\"Jinan, Shandong, China\",\"street_number\":\"1\",\"street\":\"机场路\",\"city\":\"Jinan Shi\",\"county\":\"\",\"state\":\"Shandong Sheng\",\"country_iso\":\"CN\",\"country\":\"China\",\"postal_code\":\"\",\"phone\":\"+86 531 96888\",\"latitude\":36.8572,\"longitude\":117.216,\"uct\":480,\"website\":\"http://www.jnairport.com/\"}\n",
            "\n",
            "{\"id\":4983,\"iata\":\"MTY\",\"icao\":\"MMMY\",\"name\":\"General Mariano Escobedo International Airport\",\"location\":\"Monterrey, Nuevo León, Mexico\",\"street_number\":\"\",\"street\":\"Carretera Miguel Alemán km 24\",\"city\":\"\",\"county\":\"\",\"state\":\"Nuevo León\",\"country_iso\":\"MX\",\"country\":\"Mexico\",\"postal_code\":\"66600\",\"phone\":\"+52 81 8288 7700\",\"latitude\":25.777819,\"longitude\":-100.10799,\"uct\":-300,\"website\":\"http://www.oma.aero/es/aeropuertos/monterrey/\"}\n",
            "\n",
            "{\"id\":4637,\"iata\":\"MGA\",\"icao\":\"MNMG\",\"name\":\"Augusto C. Sandino International Airport\",\"location\":\"Managua, Nicaragua\",\"street_number\":\"Km. 11\",\"street\":\"Carretera Norte\",\"city\":\"Managua\",\"county\":\"\",\"state\":\"Departamento de Managua\",\"country_iso\":\"NI\",\"country\":\"Nicaragua\",\"postal_code\":\"\",\"phone\":\"+505 2276 9180\",\"latitude\":12.144651,\"longitude\":-86.17132,\"uct\":-360,\"website\":\"http://www.eaai.com.ni/\"}\n",
            "\n",
            "{\"id\":1467,\"iata\":\"COR\",\"icao\":\"SACO\",\"name\":\"Ingeniero Aeronáutico Ambrosio L.V. Taravella International Airport (Pajas Blancas)\",\"location\":\"Córdoba, Córdoba, Argentina\",\"street_number\":\"\",\"street\":\"\",\"city\":\"ICAO\",\"county\":\"\",\"state\":\"Córdoba\",\"country_iso\":\"AR\",\"country\":\"Argentina\",\"postal_code\":\"\",\"phone\":\"+54 351 475-0881\",\"latitude\":-31.315437,\"longitude\":-64.21232,\"uct\":-180,\"website\":\"http://www.aa2000.com.ar/\"}\n",
            "\n",
            "{\"id\":5868,\"iata\":\"PFB\",\"icao\":\"SBPF\",\"name\":\"Lauro Kurtz Airport\",\"location\":\"Passo Fundo, Rio Grande do Sul, Brazil\",\"street_number\":\"\",\"street\":\"Rodovia BR 285\",\"city\":\"\",\"county\":\"Passo Fundo\",\"state\":\"Rio Grande do Sul\",\"country_iso\":\"BR\",\"country\":\"Brazil\",\"postal_code\":\"\",\"phone\":\"+55 54 3313-6566\",\"latitude\":-28.242554,\"longitude\":-52.329823,\"uct\":-180,\"website\":\"http://www.passofundo.rs.gov.br/\"}\n",
            "\n",
            "{\"id\":1255,\"iata\":\"CFC\",\"icao\":\"SBCD\",\"name\":\"Caçador Airport\",\"location\":\"Caçador, Santa Catarina, Brazil\",\"street_number\":\"s/n\",\"street\":\"Rodovia Avelino Mandeli\",\"city\":\"\",\"county\":\"Caçador\",\"state\":\"Santa Catarina\",\"country_iso\":\"BR\",\"country\":\"Brazil\",\"postal_code\":\"89500-000\",\"phone\":\"\",\"latitude\":-26.790958,\"longitude\":-50.94152,\"uct\":-180,\"website\":\"\"}\n",
            "\n",
            "{\"id\":3702,\"iata\":\"KIN\",\"icao\":\"MKJP\",\"name\":\"Norman Manley International Airport\",\"location\":\"Kingston, Jamaica\",\"street_number\":\"\",\"street\":\"\",\"city\":\"\",\"county\":\"\",\"state\":\"Kingston Parish\",\"country_iso\":\"JM\",\"country\":\"Jamaica\",\"postal_code\":\"\",\"phone\":\"+1 876-924-8452\",\"latitude\":17.937174,\"longitude\":-76.778305,\"uct\":-300,\"website\":\"http://www.nmia.aero/\"}\n",
            "\n",
            "{\"id\":1149,\"iata\":\"CAN\",\"icao\":\"ZGGG\",\"name\":\"Guangzhou Baiyun International Airport\",\"location\":\"Guangzhou, Guangdong, China\",\"street_number\":\"\",\"street\":\"\",\"city\":\"Guangzhou\",\"county\":\"\",\"state\":\"Guangdong\",\"country_iso\":\"CN\",\"country\":\"China\",\"postal_code\":\"\",\"phone\":\"+86 20 3606 6999\",\"latitude\":23.395908,\"longitude\":113.30797,\"uct\":480,\"website\":\"http://www.baiyunairport.com/\"}\n",
            "\n",
            "{\"error\":{\"text\":\"No airport found\"}}\n",
            "\n",
            "{\"id\":1309,\"iata\":\"CHR\",\"icao\":\"LFLX\",\"name\":\"Châteauroux-Centre \\\"Marcel Dassault\\\" Airport\",\"location\":\"Châteauroux, Centre-Val de Loire, France\",\"street_number\":\"\",\"street\":\"\",\"city\":\"\",\"county\":\"Indre\",\"state\":\"Centre-Val de Loire\",\"country_iso\":\"FR\",\"country\":\"France\",\"postal_code\":\"36130\",\"phone\":\"+33 2 54 60 53 53\",\"latitude\":46.858067,\"longitude\":1.722812,\"uct\":120,\"website\":\"http://www.chateauroux-airport.com/\"}\n",
            "\n",
            "{\"id\":757,\"iata\":\"BJL\",\"icao\":\"GBYD\",\"name\":\"Banjul International Airport\",\"location\":\"Banjul, Gambia\",\"street_number\":\"\",\"street\":\"\",\"city\":\"Yundum\",\"county\":\"Kombo North\",\"state\":\"West Coast Region\",\"country_iso\":\"GM\",\"country\":\"The Gambia\",\"postal_code\":\"\",\"phone\":\"+220 447 3000\",\"latitude\":13.34406,\"longitude\":-16.6522,\"uct\":0,\"website\":\"http://www.banjulairport.com/\"}\n",
            "\n",
            "{\"error\":{\"text\":\"No airport found\"}}\n",
            "\n",
            "{\"id\":6160,\"iata\":\"PUJ\",\"icao\":\"MDPC\",\"name\":\"Punta Cana International Airport\",\"location\":\"Punta Cana, Dominican Republic\",\"street_number\":\"\",\"street\":\"Carretera Aeropuerto\",\"city\":\"Punta Cana\",\"county\":\"\",\"state\":\"La Altagracia\",\"country_iso\":\"DO\",\"country\":\"Dominican Republic\",\"postal_code\":\"23000\",\"phone\":\"+1 809-959-2376\",\"latitude\":18.562244,\"longitude\":-68.368355,\"uct\":-240,\"website\":\"http://www.puntacanainternationalairport.com/\"}\n",
            "\n",
            "{\"id\":4689,\"iata\":\"MID\",\"icao\":\"MMMD\",\"name\":\"Manuel Crescencio Rejón International Airport\",\"location\":\"Mérida, Yucatán, Mexico\",\"street_number\":\"\",\"street\":\"\",\"city\":\"Mérida\",\"county\":\"\",\"state\":\"Yucatan\",\"country_iso\":\"MX\",\"country\":\"Mexico\",\"postal_code\":\"97291\",\"phone\":\"+52 999 940 6090\",\"latitude\":20.933842,\"longitude\":-89.660446,\"uct\":-300,\"website\":\"http://www.asur.com.mx/\"}\n",
            "\n",
            "{\"id\":2090,\"iata\":\"EMA\",\"icao\":\"EGNX\",\"name\":\"East Midlands Airport\",\"location\":\"Nottingham / Leicester / Derby, England, United Kingdom\",\"street_number\":\"\",\"street\":\"\",\"city\":\"Castle Donington\",\"county\":\"Leicestershire\",\"state\":\"England\",\"country_iso\":\"GB\",\"country\":\"United Kingdom\",\"postal_code\":\"DE74 2SA\",\"phone\":\"+44 808 169 7032\",\"latitude\":52.829372,\"longitude\":-1.332134,\"uct\":60,\"website\":\"http://www.eastmidlandsairport.com/\"}\n",
            "\n",
            "{\"error\":{\"text\":\"No airport found\"}}\n",
            "\n",
            "{\"error\":{\"text\":\"No airport found\"}}\n",
            "\n",
            "{\"id\":5836,\"iata\":\"PDP\",\"icao\":\"SULS\",\"name\":\"Capitán de Corbeta Carlos A. Curbelo International Airport\",\"location\":\"Punta del Este, Uruguay\",\"street_number\":\"\",\"street\":\"Ruta 113\",\"city\":\"Maldonado\",\"county\":\"\",\"state\":\"Departamento de Maldonado\",\"country_iso\":\"UY\",\"country\":\"Uruguay\",\"postal_code\":\"20100\",\"phone\":\"+598 4255 9777\",\"latitude\":-34.86112,\"longitude\":-55.098217,\"uct\":-180,\"website\":\"http://www.puntadeleste.aero/\"}\n",
            "\n",
            "{\"id\":761,\"iata\":\"BJP\",\"icao\":\"SBBP\",\"name\":\"Arthur Siqueira–Bragança Paulista State Airport\",\"location\":\"Bragança Paulista, São Paulo, Brazil\",\"street_number\":\"1\",\"street\":\"Avenida São Francisco de Assis\",\"city\":\"\",\"county\":\"Bragança Paulista\",\"state\":\"São Paulo\",\"country_iso\":\"BR\",\"country\":\"Brazil\",\"postal_code\":\"12900-000\",\"phone\":\"+55 11 4034-7616\",\"latitude\":-22.982595,\"longitude\":-46.537125,\"uct\":-180,\"website\":\"\"}\n",
            "\n",
            "{\"id\":1561,\"iata\":\"CTP\",\"icao\":\"SNCP\",\"name\":\"Carutapera Airport\",\"location\":\"Carutapera, Maranhão, Brazil\",\"street_number\":\"\",\"street\":\"\",\"city\":\"\",\"county\":\"\",\"state\":\"\",\"country_iso\":\"\",\"country\":\"\",\"postal_code\":\"\",\"phone\":\"\",\"latitude\":0,\"longitude\":0,\"uct\":0,\"website\":\"\"}\n",
            "\n",
            "{\"id\":8874,\"iata\":\"ZAZ\",\"icao\":\"LEZG\",\"name\":\"Zaragoza Airport\",\"location\":\"Zaragoza, Aragon, Spain\",\"street_number\":\"s/n\",\"street\":\"Ctra. Aeropuerto\",\"city\":\"Zaragoza\",\"county\":\"Zaragoza\",\"state\":\"Aragón\",\"country_iso\":\"ES\",\"country\":\"Spain\",\"postal_code\":\"50190\",\"phone\":\"+34 976 71 23 00\",\"latitude\":41.661293,\"longitude\":-1.0442499,\"uct\":120,\"website\":\"http://www.aena.es/es/aeropuerto-zaragoza/index.html\"}\n",
            "\n",
            "{\"id\":7717,\"iata\":\"UAQ\",\"icao\":\"SANU\",\"name\":\"Domingo Faustino Sarmiento Airport\",\"location\":\"San Juan, San Juan, Argentina\",\"street_number\":\"Km 12\",\"street\":\"Ruta Nacional 20\",\"city\":\"• San Juan\",\"county\":\"9 de Julio\",\"state\":\"San Juan\",\"country_iso\":\"AR\",\"country\":\"Argentina\",\"postal_code\":\"\",\"phone\":\"+54 264 425-4133\",\"latitude\":-31.571814,\"longitude\":-68.42257,\"uct\":-180,\"website\":\"http://www.aa2000.com.ar/aeropuertos.aspx?qId=AA2000\\u0026qA=UAQ\"}\n",
            "\n",
            "{\"id\":334,\"iata\":\"APU\",\"icao\":\"SSAP\",\"name\":\"Apucarana Airport\",\"location\":\"Apucarana, Paraná, Brazil\",\"street_number\":\"\",\"street\":\"\",\"city\":\"\",\"county\":\"Apucarana\",\"state\":\"Paraná\",\"country_iso\":\"BR\",\"country\":\"Brazil\",\"postal_code\":\"\",\"phone\":\"\",\"latitude\":-23.608887,\"longitude\":-51.38369,\"uct\":-180,\"website\":\"\"}\n",
            "\n",
            "{\"id\":7728,\"iata\":\"UBT\",\"icao\":\"SDUB\",\"name\":\"Ubatuba Airport (Gastão Madeira Airport)\",\"location\":\"Ubatuba, São Paulo, Brazil\",\"street_number\":\"\",\"street\":\"\",\"city\":\"\",\"county\":\"\",\"state\":\"\",\"country_iso\":\"\",\"country\":\"\",\"postal_code\":\"\",\"phone\":\"\",\"latitude\":0,\"longitude\":0,\"uct\":0,\"website\":\"\"}\n",
            "\n",
            "{\"id\":8551,\"iata\":\"YHM\",\"icao\":\"CYHM\",\"name\":\"John C. Munro Hamilton International Airport\",\"location\":\"Hamilton, Ontario, Canada\",\"street_number\":\"9300\",\"street\":\"Airport Road\",\"city\":\"Hamilton\",\"county\":\"Hamilton Division\",\"state\":\"Ontario\",\"country_iso\":\"CA\",\"country\":\"Canada\",\"postal_code\":\"L0R 1W0\",\"phone\":\"+1 905-679-1999\",\"latitude\":43.17167,\"longitude\":-79.927666,\"uct\":-240,\"website\":\"http://flyhamilton.ca/\"}\n",
            "\n",
            "{\"id\":5771,\"iata\":\"PAN\",\"icao\":\"VTSK\",\"name\":\"Pattani Airport\",\"location\":\"Pattani, Thailand\",\"street_number\":\"\",\"street\":\"\",\"city\":\"Bo Thong\",\"county\":\"Nong Chik District\",\"state\":\"Pattani\",\"country_iso\":\"TH\",\"country\":\"Thailand\",\"postal_code\":\"94170\",\"phone\":\"+66 73 341 301\",\"latitude\":6.7860346,\"longitude\":101.15174,\"uct\":420,\"website\":\"http://minisite.airports.go.th/pattani/\"}\n",
            "\n",
            "{\"id\":2634,\"iata\":\"GNM\",\"icao\":\"SNGI\",\"name\":\"Guanambi Airport\",\"location\":\"Guanambi, Bahia, Brazil\",\"street_number\":\"1001\",\"street\":\"Avenida Um\",\"city\":\"\",\"county\":\"Guanambi\",\"state\":\"Bahia\",\"country_iso\":\"BR\",\"country\":\"Brazil\",\"postal_code\":\"46430-000\",\"phone\":\"+55 77 3451-1854\",\"latitude\":-14.208975,\"longitude\":-42.749092,\"uct\":-180,\"website\":\"\"}\n",
            "\n",
            "{\"id\":8778,\"iata\":\"YUL\",\"icao\":\"CYUL\",\"name\":\"Montréal–Pierre Elliott Trudeau International Airport\",\"location\":\"Montreal, Quebec, Canada\",\"street_number\":\"\",\"street\":\"\",\"city\":\"\",\"county\":\"Montreal\",\"state\":\"Quebec\",\"country_iso\":\"CA\",\"country\":\"Canada\",\"postal_code\":\"\",\"phone\":\"+1 514-394-7377\",\"latitude\":45.465687,\"longitude\":-73.74548,\"uct\":-240,\"website\":\"http://www.admtl.com/\"}\n",
            "\n",
            "{\"id\":2500,\"iata\":\"GDL\",\"icao\":\"MMGL\",\"name\":\"Guadalajara International Airport (Miguel Hidalgo y Costilla Int'l)\",\"location\":\"Guadalajara, Jalisco, Mexico\",\"street_number\":\"\",\"street\":\"Carr. Guadalajara Chapala Km 17.5\",\"city\":\"\",\"county\":\"\",\"state\":\"Jalisco\",\"country_iso\":\"MX\",\"country\":\"Mexico\",\"postal_code\":\"45659\",\"phone\":\"+52 33 3688 5248\",\"latitude\":20.525955,\"longitude\":-103.307625,\"uct\":-300,\"website\":\"http://www.aeropuertosgap.com.mx/es/guadalajara\"}\n",
            "\n",
            "{\"id\":425,\"iata\":\"AUA\",\"icao\":\"TNCA\",\"name\":\"Queen Beatrix International Airport\",\"location\":\"Aruba, Kingdom of the Netherlands\",\"street_number\":\"\",\"street\":\"\",\"city\":\"Oranjestad\",\"county\":\"\",\"state\":\"\",\"country_iso\":\"AW\",\"country\":\"Aruba\",\"postal_code\":\"\",\"phone\":\"+297 524 2424\",\"latitude\":12.501594,\"longitude\":-70.01199,\"uct\":-240,\"website\":\"http://www.airportaruba.com/\"}\n",
            "\n",
            "{\"id\":583,\"iata\":\"BCN\",\"icao\":\"LEBL\",\"name\":\"Barcelona–El Prat Airport\",\"location\":\"Barcelona, Catalonia, Spain\",\"street_number\":\"\",\"street\":\"\",\"city\":\"El Prat de Llobregat\",\"county\":\"Barcelona\",\"state\":\"Catalonia\",\"country_iso\":\"ES\",\"country\":\"Spain\",\"postal_code\":\"8820\",\"phone\":\"+34 902 40 47 04\",\"latitude\":41.297443,\"longitude\":2.0832942,\"uct\":120,\"website\":\"http://www.aena-aeropuertos.es/csee/Satellite/Aeropuerto-Barcelona\"}\n",
            "\n",
            "{\"id\":3163,\"iata\":\"IGR\",\"icao\":\"SARI\",\"name\":\"Cataratas del Iguazú International Airport\",\"location\":\"Puerto Iguazú, Misiones, Argentina\",\"street_number\":\"101\",\"street\":\"Camino Anexo Ruta Provincial\",\"city\":\"\",\"county\":\"Iguazú\",\"state\":\"Misiónes\",\"country_iso\":\"AR\",\"country\":\"Argentina\",\"postal_code\":\"N3370\",\"phone\":\"+54 3757 42-1996\",\"latitude\":-25.731777,\"longitude\":-54.47618,\"uct\":-180,\"website\":\"http://www.aa2000.com.ar/iguazu\"}\n",
            "\n",
            "{\"id\":4585,\"iata\":\"MDZ\",\"icao\":\"SAME\",\"name\":\"Gov. Francisco Gabrielli International Airport (El Plumerillo)\",\"location\":\"Mendoza, Mendoza, Argentina\",\"street_number\":\"\",\"street\":\"\",\"city\":\"\",\"county\":\"\",\"state\":\"\",\"country_iso\":\"\",\"country\":\"\",\"postal_code\":\"\",\"phone\":\"\",\"latitude\":0,\"longitude\":0,\"uct\":0,\"website\":\"\"}\n",
            "\n",
            "{\"id\":6596,\"iata\":\"SAL\",\"icao\":\"MSLP\",\"name\":\"Monseñor Óscar Arnulfo Romero International Airport\",\"location\":\"San Salvador, El Salvador\",\"street_number\":\"\",\"street\":\"RN-5\",\"city\":\"San Salvador\",\"county\":\"\",\"state\":\"La Paz\",\"country_iso\":\"SV\",\"country\":\"El Salvador\",\"postal_code\":\"\",\"phone\":\"+503 2349 9455\",\"latitude\":13.445138,\"longitude\":-89.05704,\"uct\":-360,\"website\":\"\"}\n",
            "\n",
            "{\"id\":718,\"iata\":\"BHX\",\"icao\":\"EGBB\",\"name\":\"Birmingham Airport\",\"location\":\"Birmingham, England, United Kingdom\",\"street_number\":\"\",\"street\":\"\",\"city\":\"\",\"county\":\"West Midlands\",\"state\":\"England\",\"country_iso\":\"GB\",\"country\":\"United Kingdom\",\"postal_code\":\"B26 3QJ\",\"phone\":\"+44 871 222 0072\",\"latitude\":52.45238,\"longitude\":-1.7435071,\"uct\":60,\"website\":\"http://www.birminghamairport.co.uk/\"}\n",
            "\n",
            "{\"id\":7651,\"iata\":\"TUR\",\"icao\":\"SBTU\",\"name\":\"Tucuruí Airport\",\"location\":\"Tucuruí, Pará, Brazil\",\"street_number\":\"s/n\",\"street\":\"Estrada do Aeroporto, Km 5\",\"city\":\"\",\"county\":\"Tucuruí\",\"state\":\"Pará\",\"country_iso\":\"BR\",\"country\":\"Brazil\",\"postal_code\":\"68458-970\",\"phone\":\"+55 94 3787-2522\",\"latitude\":-3.78601,\"longitude\":-49.7203,\"uct\":-180,\"website\":\"http://www.aerolisos.com.br/encontros/tucurui-2013/_tucurui-2013.htm\"}\n",
            "\n",
            "{\"id\":4718,\"iata\":\"MJI\",\"icao\":\"HLLM\",\"name\":\"Mitiga International Airport\",\"location\":\"Tripoli, Libya\",\"street_number\":\"\",\"street\":\"\",\"city\":\"Tripoli\",\"county\":\"\",\"state\":\"Tripoli District\",\"country_iso\":\"LY\",\"country\":\"Libya\",\"postal_code\":\"\",\"phone\":\"\",\"latitude\":32.893585,\"longitude\":13.275945,\"uct\":120,\"website\":\"https://www.facebook.com/MitigaAirport/\"}\n",
            "\n",
            "{\"id\":3455,\"iata\":\"JNB\",\"icao\":\"FAOR\",\"name\":\"O. R. Tambo International Airport\",\"location\":\"Johannesburg, South Africa\",\"street_number\":\"1\",\"street\":\"Jones Road\",\"city\":\"Johannesburg\",\"county\":\"East Rand\",\"state\":\"Gauteng\",\"country_iso\":\"ZA\",\"country\":\"South Africa\",\"postal_code\":\"1632\",\"phone\":\"+27 11 921 6262\",\"latitude\":-26.136673,\"longitude\":28.241146,\"uct\":120,\"website\":\"http://www.acsa.co.za/airports/or-tambo-international\"}\n",
            "\n",
            "{\"error\":{\"text\":\"No airport found\"}}\n",
            "\n"
          ]
        }
      ]
    },
    {
      "cell_type": "markdown",
      "source": [
        "Pode-se observar que em alguns casos o aeroporto não é encontrado retornando: \n",
        "\n",
        "```\n",
        "{\"error\":{\"text\":\"No airport found\"}\n",
        "```\n",
        "\n",
        "Desse modo, o próximo passo será remover esses valores antes de realizar a escrita em arquivo parquet."
      ],
      "metadata": {
        "id": "v-wpOW8XSN6H"
      }
    },
    {
      "cell_type": "code",
      "source": [
        "lista_final = []\n",
        "\n",
        "for i in lista_coletada:\n",
        "  if 'No airport found' not in i:\n",
        "    lista_final.append(i)"
      ],
      "metadata": {
        "id": "v_bh5YXkQV5g"
      },
      "execution_count": 189,
      "outputs": []
    },
    {
      "cell_type": "code",
      "source": [
        "#Realizando a leitura da lista final utilizando rdd visto que não foi possível inferir um schema manualmente ou de maneira automática\n",
        "rdd = sc.parallelize(lista_final)\n",
        "df_aerodromo_raw = spark.read.json(rdd)\n",
        "\n",
        "#Exibindo o dataframe\n",
        "df_aerodromo_raw.show(5)\n",
        "\n",
        "#Exibindo o schema\n",
        "df_aerodromo_raw.printSchema()"
      ],
      "metadata": {
        "colab": {
          "base_uri": "https://localhost:8080/"
        },
        "id": "s_IsXeuDSje2",
        "outputId": "8da3ec00-2478-4955-d20f-4b75ef80244e"
      },
      "execution_count": 236,
      "outputs": [
        {
          "output_type": "stream",
          "name": "stdout",
          "text": [
            "+----------------+-------------+-----------+------------+----+----+----+----------+--------------------+----------+--------------------+-----------------+-----------+-------------------+--------------------+-------------+----+--------------------+\n",
            "|            city|      country|country_iso|      county|iata|icao|  id|  latitude|            location| longitude|                name|            phone|postal_code|              state|              street|street_number| uct|             website|\n",
            "+----------------+-------------+-----------+------------+----+----+----+----------+--------------------+----------+--------------------+-----------------+-----------+-------------------+--------------------+-------------+----+--------------------+\n",
            "|                |       Brazil|         BR|Porto Seguro| BPS|SBPS| 908|-16.439308|Porto Seguro, Bah...|-39.081562|Porto Seguro Airport| +55 73 3288-1880|  45810-000|              Bahia|Rua Primeiro de Maio|           68|-180|http://www.aeropo...|\n",
            "|Roissy-en-France|       France|         FR|            | CDG|LFPG|1213|  49.00969|Paris, Île-de-Fra...| 2.5479245|Charles de Gaulle...|+33 1 70 36 39 50|      95700|      Île-de-France|                    |             | 120|http://www.parisa...|\n",
            "|         Atlanta|United States|         US|            | ATL|KATL| 410| 33.640728|Atlanta, Georgia,...|-84.427704|Hartsfield–Jackso...|  +1 800-897-1910|      30320|            Georgia|North Terminal Pa...|         6000|-240| http://www.atl.com/|\n",
            "|                |       Brazil|         BR|    Itaituba| ITB|SBIH|3301| -4.245743|Itaituba, Pará, B...|-56.006847|    Itaituba Airport|                 |           |      State of Pará|                    |             |-180|                    |\n",
            "|            Köln|      Germany|         DE|        Köln| CGN|EDDK|1284| 50.870716|Cologne / Bonn, N...|  7.140734|Cologne Bonn Airport|  +49 2203 404001|      51147|Nordrhein-Westfalen|       Kennedystraße|             | 120|https://www.koeln...|\n",
            "+----------------+-------------+-----------+------------+----+----+----+----------+--------------------+----------+--------------------+-----------------+-----------+-------------------+--------------------+-------------+----+--------------------+\n",
            "only showing top 5 rows\n",
            "\n",
            "root\n",
            " |-- city: string (nullable = true)\n",
            " |-- country: string (nullable = true)\n",
            " |-- country_iso: string (nullable = true)\n",
            " |-- county: string (nullable = true)\n",
            " |-- iata: string (nullable = true)\n",
            " |-- icao: string (nullable = true)\n",
            " |-- id: long (nullable = true)\n",
            " |-- latitude: double (nullable = true)\n",
            " |-- location: string (nullable = true)\n",
            " |-- longitude: double (nullable = true)\n",
            " |-- name: string (nullable = true)\n",
            " |-- phone: string (nullable = true)\n",
            " |-- postal_code: string (nullable = true)\n",
            " |-- state: string (nullable = true)\n",
            " |-- street: string (nullable = true)\n",
            " |-- street_number: string (nullable = true)\n",
            " |-- uct: long (nullable = true)\n",
            " |-- website: string (nullable = true)\n",
            "\n"
          ]
        }
      ]
    },
    {
      "cell_type": "markdown",
      "source": [
        "### Gravando em camada raw"
      ],
      "metadata": {
        "id": "gYP1YlmBiDlU"
      }
    },
    {
      "cell_type": "code",
      "source": [
        "df_aerodromo_raw.write.mode('overwrite').parquet(path_raw + \"AERODROMO_API/\")"
      ],
      "metadata": {
        "id": "yXgp406dh99j"
      },
      "execution_count": 238,
      "outputs": []
    },
    {
      "cell_type": "markdown",
      "source": [
        "## Realizando tratamentos nos aerodromos"
      ],
      "metadata": {
        "id": "Fh-EGlaaiWY0"
      }
    },
    {
      "cell_type": "code",
      "source": [
        "#Realizando leitura da camada raw\n",
        "df_aerodromo_raw_to_trusted = spark.read.parquet(path_raw + \"AERODROMO_API/\")"
      ],
      "metadata": {
        "id": "iNcZY0eEiWFc"
      },
      "execution_count": 239,
      "outputs": []
    },
    {
      "cell_type": "code",
      "source": [
        "#Convertendo valores tabulados e com espaços em nulos\n",
        "df_aerodromo_raw_to_trusted = (df_aerodromo_raw_to_trusted.select(\n",
        "                                  \"id\",\n",
        "                                  when(length(trim(\"city\")) != 0, trim(\"city\")).alias(\"city\"),\n",
        "                                  when(length(trim(\"country\")) != 0, trim(\"country\")).alias(\"country\"),\n",
        "                                  when(length(trim(\"country_iso\")) != 0, trim(\"country_iso\")).alias(\"country_iso\"),\n",
        "                                  when(length(trim(\"county\")) != 0, trim(\"county\")).alias(\"county\"),\n",
        "                                  when(length(trim(\"iata\")) != 0, trim(\"iata\")).alias(\"iata\"),\n",
        "                                  when(length(trim(\"icao\")) != 0, trim(\"icao\")).alias(\"icao\"),\n",
        "                                  when(length(trim(\"location\")) != 0, trim(\"location\")).alias(\"location\"),\n",
        "                                  \"latitude\",\n",
        "                                  \"longitude\",\n",
        "                                  \"uct\",\n",
        "                                  when(length(trim(\"name\")) != 0, trim(\"name\")).alias(\"name\"),\n",
        "                                  when(length(trim(\"phone\")) != 0, trim(\"phone\")).alias(\"phone\"),\n",
        "                                  when(length(trim(\"postal_code\")) != 0, trim(\"postal_code\")).alias(\"postal_code\"),\n",
        "                                  when(length(trim(\"state\")) != 0, trim(\"state\")).alias(\"state\"),\n",
        "                                  when(length(trim(\"street\")) != 0, trim(\"street\")).alias(\"street\"),\n",
        "                                  when(length(trim(\"street_number\")) != 0, trim(\"street_number\")).alias(\"street_number\"),\n",
        "                                  when(length(trim(\"website\")) != 0, trim(\"website\")).alias(\"website\")\n",
        "\n",
        "                                                        ))\n",
        "\n",
        "df_aerodromo_raw_to_trusted.show(5)"
      ],
      "metadata": {
        "colab": {
          "base_uri": "https://localhost:8080/"
        },
        "id": "LiLiq-71hitl",
        "outputId": "4eba399b-88f1-4d96-c776-e4ee4937830e"
      },
      "execution_count": 246,
      "outputs": [
        {
          "output_type": "stream",
          "name": "stdout",
          "text": [
            "+----+----------------+-------------+-----------+------------+----+----+--------------------+----------+----------+----+--------------------+-----------------+-----------+-------------------+--------------------+-------------+--------------------+\n",
            "|  id|            city|      country|country_iso|      county|iata|icao|            location|  latitude| longitude| uct|                name|            phone|postal_code|              state|              street|street_number|             website|\n",
            "+----+----------------+-------------+-----------+------------+----+----+--------------------+----------+----------+----+--------------------+-----------------+-----------+-------------------+--------------------+-------------+--------------------+\n",
            "| 908|            null|       Brazil|         BR|Porto Seguro| BPS|SBPS|Porto Seguro, Bah...|-16.439308|-39.081562|-180|Porto Seguro Airport| +55 73 3288-1880|  45810-000|              Bahia|Rua Primeiro de Maio|           68|http://www.aeropo...|\n",
            "|1213|Roissy-en-France|       France|         FR|        null| CDG|LFPG|Paris, Île-de-Fra...|  49.00969| 2.5479245| 120|Charles de Gaulle...|+33 1 70 36 39 50|      95700|      Île-de-France|                null|         null|http://www.parisa...|\n",
            "| 410|         Atlanta|United States|         US|        null| ATL|KATL|Atlanta, Georgia,...| 33.640728|-84.427704|-240|Hartsfield–Jackso...|  +1 800-897-1910|      30320|            Georgia|North Terminal Pa...|         6000| http://www.atl.com/|\n",
            "|3301|            null|       Brazil|         BR|    Itaituba| ITB|SBIH|Itaituba, Pará, B...| -4.245743|-56.006847|-180|    Itaituba Airport|             null|       null|      State of Pará|                null|         null|                null|\n",
            "|1284|            Köln|      Germany|         DE|        Köln| CGN|EDDK|Cologne / Bonn, N...| 50.870716|  7.140734| 120|Cologne Bonn Airport|  +49 2203 404001|      51147|Nordrhein-Westfalen|       Kennedystraße|         null|https://www.koeln...|\n",
            "+----+----------------+-------------+-----------+------------+----+----+--------------------+----------+----------+----+--------------------+-----------------+-----------+-------------------+--------------------+-------------+--------------------+\n",
            "only showing top 5 rows\n",
            "\n"
          ]
        }
      ]
    },
    {
      "cell_type": "markdown",
      "source": [
        "### Gravando resultado em camada trusted"
      ],
      "metadata": {
        "id": "mlHggT0zkjeS"
      }
    },
    {
      "cell_type": "code",
      "source": [
        "#Gravando em camada trusted\n",
        "df_aerodromo_raw_to_trusted.write.mode('overwrite').parquet(path_trusted + \"AERODROMO_API/\")"
      ],
      "metadata": {
        "id": "ValeeZh3hG-c"
      },
      "execution_count": 247,
      "outputs": []
    },
    {
      "cell_type": "markdown",
      "source": [
        "## Tempo total de execução"
      ],
      "metadata": {
        "id": "11qBcuRT_8xW"
      }
    },
    {
      "cell_type": "code",
      "source": [
        "#Exibe o tempo total da execução do código do desafio\n",
        "finished = datetime.now()\n",
        "print(finished - started)"
      ],
      "metadata": {
        "id": "RUjDtASDHOK1",
        "colab": {
          "base_uri": "https://localhost:8080/"
        },
        "outputId": "c0df87f5-3df5-49e2-f099-caed100454e9"
      },
      "execution_count": 42,
      "outputs": [
        {
          "output_type": "stream",
          "name": "stdout",
          "text": [
            "0:02:23.112555\n"
          ]
        }
      ]
    },
    {
      "cell_type": "code",
      "source": [
        ""
      ],
      "metadata": {
        "id": "zzZ8IJKr8tab"
      },
      "execution_count": 42,
      "outputs": []
    }
  ]
}